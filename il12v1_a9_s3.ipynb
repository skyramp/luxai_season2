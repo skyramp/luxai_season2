{
 "cells": [
  {
   "cell_type": "code",
   "execution_count": 1,
   "id": "064f8623",
   "metadata": {},
   "outputs": [],
   "source": [
    "#!pip install atomicwrites h5py lz4 ujson msgpack luxai_s2 wandb scikit-image"
   ]
  },
  {
   "cell_type": "code",
   "execution_count": 2,
   "id": "f5e2d79a",
   "metadata": {
    "tags": []
   },
   "outputs": [],
   "source": [
    "import os\n",
    "os.environ[\"MKL_NUM_THREADS\"] = \"1\" \n",
    "os.environ[\"NUMEXPR_NUM_THREADS\"] = \"1\" \n",
    "os.environ[\"OMP_NUM_THREADS\"] = \"1\" \n",
    "\n",
    "import torch\n",
    "torch.set_num_threads(1)\n",
    "torch.set_num_interop_threads(1)\n",
    "import torch.optim as optim\n",
    "import numpy as np\n",
    "import pandas as pd\n",
    "\n",
    "from torch.cuda.amp import autocast\n",
    "from torch.cuda.amp import GradScaler\n",
    "from types import SimpleNamespace\n",
    "import time\n",
    "import gc\n",
    "\n",
    "np_dtype = np.float32\n",
    "torch_dtype = torch.float32\n",
    "amp_dtype = torch.float32  # or torch.bfloat16\n",
    "EPS=1e-5\n",
    "\n",
    "torch.backends.cudnn.benchmark = True"
   ]
  },
  {
   "cell_type": "code",
   "execution_count": null,
   "id": "54e5f400",
   "metadata": {
    "tags": []
   },
   "outputs": [],
   "source": []
  },
  {
   "cell_type": "code",
   "execution_count": null,
   "id": "5438c28b",
   "metadata": {
    "tags": []
   },
   "outputs": [],
   "source": []
  },
  {
   "cell_type": "code",
   "execution_count": 3,
   "id": "a39c5463",
   "metadata": {
    "tags": []
   },
   "outputs": [],
   "source": [
    "assert torch.cuda.is_available()"
   ]
  },
  {
   "cell_type": "code",
   "execution_count": 4,
   "id": "b33344fb",
   "metadata": {
    "tags": []
   },
   "outputs": [
    {
     "name": "stdout",
     "output_type": "stream",
     "text": [
      "cuda:0\n"
     ]
    }
   ],
   "source": [
    "use_cuda = torch.cuda.is_available()\n",
    "device_name = \"cuda:0\" if use_cuda else \"cpu\"\n",
    "device = torch.device(device_name)\n",
    "torch.autograd.set_detect_anomaly(True)\n",
    "print(device)"
   ]
  },
  {
   "cell_type": "code",
   "execution_count": 5,
   "id": "5ab95372",
   "metadata": {
    "tags": []
   },
   "outputs": [],
   "source": [
    "import wandb\n",
    "USE_WANDB = True\n",
    "storage_dir = \"./models/\"\n",
    "proj_name = \"la2022v3_ILv12\"\n",
    "mdl_prefix = \"il12v1_a9_s3\"\n",
    "net_suffix = f\"{mdl_prefix}_run_{int(time.time())}\"\n",
    "\n",
    "config = SimpleNamespace(lr_bid=0.003, lr_placement=0.003, lr_game=0.003,\n",
    "                         lr_gamma_bid = 0.95, lr_gamma_placement = 0.95, lr_gamma_game = 0.95,\n",
    "                         weighting_rate=0.05,\n",
    "                         batch_size_bid=64,batch_size_placement=64,batch_size_game=64,\n",
    "                         epochs_bid=100, epochs_placement=100, epochs_game=100,\n",
    "                         DATASET_LIMIT=1000000, device=device_name, train_game=True, train_placement=False, train_bid=False,\n",
    "                         game_load_from=None,\n",
    "                        )"
   ]
  },
  {
   "cell_type": "code",
   "execution_count": null,
   "id": "992fba6e",
   "metadata": {
    "tags": []
   },
   "outputs": [],
   "source": []
  },
  {
   "cell_type": "code",
   "execution_count": null,
   "id": "02f78103",
   "metadata": {
    "tags": []
   },
   "outputs": [],
   "source": []
  },
  {
   "cell_type": "code",
   "execution_count": 6,
   "id": "6e39839c",
   "metadata": {
    "tags": []
   },
   "outputs": [],
   "source": [
    "import torch\n",
    "import random\n",
    "import numpy as np\n",
    "\n",
    "def seed_everything(seed_value):\n",
    "    random.seed(seed_value)\n",
    "    np.random.seed(seed_value)\n",
    "    if seed_value is not None:\n",
    "        os.environ['PYTHONHASHSEED'] = str(seed_value)\n",
    "\n",
    "    if seed_value is not None:\n",
    "        torch.manual_seed(seed_value)\n",
    "    else:\n",
    "        torch.seed()\n",
    "        \n",
    "seed_everything(42)"
   ]
  },
  {
   "cell_type": "code",
   "execution_count": null,
   "id": "43ffdde4",
   "metadata": {
    "tags": []
   },
   "outputs": [],
   "source": []
  },
  {
   "cell_type": "code",
   "execution_count": 7,
   "id": "7e1f0ede",
   "metadata": {
    "tags": []
   },
   "outputs": [],
   "source": [
    "from collections import defaultdict\n",
    "import msgpack\n",
    "import lz4.frame\n",
    "import ujson\n",
    "import sys\n",
    "import copy\n",
    "import time\n",
    "from atomicwrites import atomic_write"
   ]
  },
  {
   "cell_type": "code",
   "execution_count": 8,
   "id": "7320dde4",
   "metadata": {
    "tags": []
   },
   "outputs": [],
   "source": [
    "from replay2 import load_replay\n",
    "\n",
    "SUBMISSION_IDS=[31305324,31305378,31305398,31311397,31313810] # flg"
   ]
  },
  {
   "cell_type": "code",
   "execution_count": 9,
   "id": "623413e9",
   "metadata": {
    "tags": []
   },
   "outputs": [],
   "source": [
    "import h5py\n",
    "import pandas as pd\n",
    "\n",
    "# hf1 = h5py.File('dataset_lz4_2.h5', 'r')\n",
    "hf2 = h5py.File('dataset_lz4_a9.h5', 'r')"
   ]
  },
  {
   "cell_type": "code",
   "execution_count": 10,
   "id": "511536df",
   "metadata": {
    "tags": []
   },
   "outputs": [],
   "source": [
    "def extract_step_h5(hf, ix):\n",
    "    stc = {\"board\":{}}\n",
    "    for k in hf:\n",
    "        if k.startswith(\"board_\"):\n",
    "            stc[\"board\"][k[6:]] = hf[k][ix]\n",
    "        else:\n",
    "            stc[k] = hf[k][ix]\n",
    "    res = {'board': copy.deepcopy(stc['board'])}\n",
    "    res.update(msgpack.unpackb(stc['comp']))\n",
    "    return res\n",
    "\n",
    "def extract_step_h5_lz4(hf, ix):\n",
    "    stc = {\"board\":{}}\n",
    "    for k in hf:\n",
    "        if k.startswith(\"board_\"):\n",
    "            stc[\"board\"][k[6:]] = hf[k][ix]\n",
    "        else:\n",
    "            stc[k] = hf[k][ix]\n",
    "    res = {'board': copy.deepcopy(stc['board'])}\n",
    "    res.update(msgpack.unpackb(lz4.frame.decompress(stc['comp_lz4'])))\n",
    "    return res\n",
    "\n",
    "def extract_step_h5_lz4_compressed(hf, ix):\n",
    "    stc = {\"board\":{}}\n",
    "    for k in hf:\n",
    "        if k.startswith(\"board_\"):\n",
    "            stc[\"board\"][k[6:]] = hf[k][ix]\n",
    "        else:\n",
    "            stc[k] = hf[k][ix]\n",
    "    return stc\n",
    "\n",
    "def decompress_step(stc):\n",
    "    res = {'board': copy.deepcopy(stc['board'])}\n",
    "    res.update(msgpack.unpackb(lz4.frame.decompress(stc['comp_lz4'])))\n",
    "    return res"
   ]
  },
  {
   "cell_type": "code",
   "execution_count": null,
   "id": "99c68019",
   "metadata": {},
   "outputs": [],
   "source": []
  },
  {
   "cell_type": "code",
   "execution_count": null,
   "id": "71ec3c18",
   "metadata": {},
   "outputs": [],
   "source": []
  },
  {
   "cell_type": "code",
   "execution_count": null,
   "id": "c707b1aa",
   "metadata": {},
   "outputs": [],
   "source": []
  },
  {
   "cell_type": "code",
   "execution_count": null,
   "id": "45af913f",
   "metadata": {},
   "outputs": [],
   "source": []
  },
  {
   "cell_type": "code",
   "execution_count": 11,
   "id": "e54c6d52",
   "metadata": {
    "tags": []
   },
   "outputs": [],
   "source": [
    "import numpy as np\n",
    "\n",
    "from lux.config import EnvConfig\n",
    "from lux.kit import obs_to_game_state\n",
    "from lux.unit import Unit, move_deltas\n",
    "import copy\n",
    "import skimage.segmentation\n",
    "from scipy.signal import convolve2d, fftconvolve\n",
    "\n",
    "from lux.utils import direction_to\n",
    "\n",
    "\n",
    "def to_tuple(pos):\n",
    "    if isinstance(pos, tuple):\n",
    "        return pos\n",
    "    if isinstance(pos, list):\n",
    "        return tuple(pos)\n",
    "    return tuple(pos.tolist())\n",
    "\n",
    "\n",
    "STAGE_BID = 0\n",
    "STAGE_PLACEMENT = 1\n",
    "STAGE_ACT = 2\n",
    "\n",
    "\n",
    "def distance(p1, p2):\n",
    "    pd = int(np.sum(np.abs(p1 - p2)))\n",
    "    return pd\n",
    "\n",
    "def total_cargo(u:Unit):\n",
    "    return u.cargo.ice + u.cargo.ore + u.cargo.metal + u.cargo.water\n",
    "\n",
    "def get_nearest(p, p_candidates):\n",
    "    min_dist = 1000\n",
    "    min_p = None\n",
    "    for pn in p_candidates:\n",
    "        pd = distance(p,pn)\n",
    "        if pd < min_dist:\n",
    "            min_dist = pd\n",
    "            min_p = pn\n",
    "    return min_p, min_dist\n",
    "\n",
    "def get_nearest_fromlist(pl, p_candidates):\n",
    "    min_dist = 1000\n",
    "    min_p = None\n",
    "    for p in pl:\n",
    "        for pn in p_candidates:\n",
    "            pd = distance(p,pn)\n",
    "            if pd < min_dist:\n",
    "                min_dist = pd\n",
    "                min_p = pn\n",
    "    return min_p, min_dist\n",
    "\n",
    "def get_nearest_fromlist_avoid(pl, p_candidates, avoid_list):\n",
    "    min_dist = 1000\n",
    "    candidates = []\n",
    "    for p in pl:\n",
    "        for pn in p_candidates:\n",
    "            pd = distance(p,pn)\n",
    "            if pd < min_dist:\n",
    "                min_dist = pd\n",
    "                candidates = [pn]\n",
    "            elif pd == min_dist:\n",
    "                candidates += [pn]\n",
    "\n",
    "    if not candidates:\n",
    "        return None, min_dist\n",
    "\n",
    "    candidates.sort(key=lambda p: get_nearest_fromlist(p, avoid_list)[1], reverse=True)\n",
    "    return candidates[0], min_dist\n",
    "\n",
    "\n",
    "def flood_fill(bounds, pos_list):\n",
    "    visited = np.zeros_like(bounds)\n",
    "    to_visit = copy.copy(pos_list)\n",
    "    out = np.zeros_like(bounds)\n",
    "    while to_visit:\n",
    "        pn = to_visit.pop(0)\n",
    "        if visited[pn[0], pn[1]]:\n",
    "            continue\n",
    "\n",
    "        visited[pn[0], pn[1]] = 1\n",
    "        if bounds[pn[0], pn[1]]:\n",
    "            continue\n",
    "\n",
    "        out[pn[0], pn[1]] = 1\n",
    "        for d in range(1, 5):\n",
    "            pv = pn + move_deltas[d]\n",
    "            if pv[0] < 0 or pv[1] < 0 or pv[0] >= visited.shape[0] or pv[1] >= visited.shape[1]:\n",
    "                continue\n",
    "            if visited[pv[0], pv[1]]:\n",
    "                continue\n",
    "            to_visit += [pv]\n",
    "    return out\n",
    "\n",
    "\n",
    "def fast_flood_fill(bounds, cpos):\n",
    "    bout = (bounds > 0).copy().astype(int)\n",
    "    for p in cpos:\n",
    "        skimage.segmentation.flood_fill(bout, to_tuple(p), 2, connectivity=1, in_place=True)\n",
    "    return bout == 2\n",
    "\n",
    "def make_force_map(pos, relax=0.1):\n",
    "    ax, ay = np.ogrid[0:48, 0:48] \n",
    "    dst_map = np.abs(ax-pos[0])+np.abs(ay-pos[1])\n",
    "    return 1.0/(dst_map**2+relax)\n",
    "\n",
    "def make_dist_map(pos, relax=0.1):\n",
    "    ax, ay = np.ogrid[0:48, 0:48] \n",
    "    dst_map = np.abs(ax-pos[0])+np.abs(ay-pos[1])\n",
    "    return dst_map\n",
    "\n",
    "class WrappedGameState2:\n",
    "    def get_adjacent_full(self, pos):\n",
    "        res = []\n",
    "        for i in [-1, 0, 1]:\n",
    "            for j in [-1, 0, 1]:\n",
    "                pa = to_tuple(pos + np.array([i, j]))\n",
    "                if self.is_valid_pos(pa):\n",
    "                    res += [pa]\n",
    "        return res\n",
    "\n",
    "    def is_valid_pos(self, target_pos):\n",
    "        if target_pos[0] < 0 or target_pos[1] < 0 or target_pos[0] >= self.map_shape[0] or target_pos[1] >= self.map_shape[1]:\n",
    "            return False\n",
    "        return True\n",
    "\n",
    "\n",
    "    def unit_direction_to(self, u, pos2, avoid_pos_set):\n",
    "        if to_tuple(u.pos) == to_tuple(pos2):\n",
    "            return 0\n",
    "        ndir = None\n",
    "        ndist = (1000,1000)\n",
    "        for d in range(1,5):\n",
    "            npos = u.pos + move_deltas[d]\n",
    "            mc = u.move_cost(self.gs, d)\n",
    "            if mc is None:\n",
    "                continue\n",
    "            if to_tuple(npos) in avoid_pos_set:\n",
    "                continue\n",
    "            dist = (distance(npos, pos2), mc)\n",
    "            if dist < ndist:\n",
    "                ndir = d\n",
    "                ndist = dist\n",
    "        if ndir is not None:\n",
    "            return ndir\n",
    "\n",
    "        return direction_to(u.pos, pos2)\n",
    "\n",
    "    def can_move_direction(self, u:Unit, d):\n",
    "        mc = u.move_cost(self.gs, d)\n",
    "        if mc is not None and u.power >= mc + u.unit_cfg.ACTION_QUEUE_POWER_COST:\n",
    "            return True\n",
    "        return False\n",
    "\n",
    "    def make_goodness_mask(self, player_name, min_rubble):\n",
    "        player_id = int(player_name[-1])\n",
    "        opponent_id = 1 - player_id\n",
    "        opponent_name = f\"player_{opponent_id}\"\n",
    "        bounds_orig = (self.gs.board.rubble > min_rubble) | (self.ice_without_factories > 0) | (self.ore_without_factories > 0) | (self.factory_tiles[opponent_name])\n",
    "\n",
    "        goodness = np.zeros(self.gs.board.rubble.shape, dtype=np.float32)\n",
    "        for pos in np.argwhere(self.gs.board.valid_spawns_mask):\n",
    "            bo = bounds_orig.copy()\n",
    "            for i in [-1, 0, 1]:\n",
    "                for j in [-1, 0, 1]:\n",
    "                    bo[pos[0] + i, pos[1] + j] = 0\n",
    "            ff = fast_flood_fill(bo, [pos])\n",
    "            goodness[pos[0], pos[1]] = ff.sum()\n",
    "        return goodness\n",
    "\n",
    "    def __init__(self, env_cfg: EnvConfig, step: int, obs):\n",
    "        gs = obs_to_game_state(step, env_cfg, obs)\n",
    "        self.gs = gs\n",
    "        self.step = step\n",
    "        self.obs = obs\n",
    "\n",
    "        x, y = np.ogrid[0:48*2+1, 0:48*2+1]\n",
    "        self.kernel = 1/(np.abs(x-48)+np.abs(y-48)+1)\n",
    "        self.kernel_sq = self.kernel**2\n",
    "        # self.kernel/=np.sum(self.kernel)\n",
    "        \n",
    "        # noinspection PyTypeChecker\n",
    "        self.env_cfg: EnvConfig = gs.env_cfg\n",
    "        self.map_shape = (self.env_cfg.map_size, self.env_cfg.map_size)\n",
    "\n",
    "        self.pos_to_factory_map = {}\n",
    "        self.pos_to_unit_map = {}\n",
    "\n",
    "        self.ice_without_factories = self.gs.board.ice.copy()\n",
    "        self.ore_without_factories = self.gs.board.ore.copy()\n",
    "\n",
    "        self.total_lichen = {f\"player_{t}\": 0 for t in range(2)}\n",
    "        self.total_water = {f\"player_{t}\": 0 for t in range(2)}\n",
    "        self.total_heavy = {f\"player_{t}\": 0 for t in range(2)}\n",
    "        self.total_light = {f\"player_{t}\": 0 for t in range(2)}\n",
    "        self.factory_tiles = {}\n",
    "        self.lichen = {}\n",
    "        self.lichen_boundary = {}\n",
    "        \n",
    "        self.factory_board = {f\"player_{t}\": np.zeros(self.gs.board.rubble.shape) for t in range(2)}\n",
    "        self.heavy_board = {f\"player_{t}\": np.zeros(self.gs.board.rubble.shape) for t in range(2)}\n",
    "        self.light_board = {f\"player_{t}\": np.zeros(self.gs.board.rubble.shape) for t in range(2)}\n",
    "\n",
    "        for t in range(2):\n",
    "            pn = f'player_{t}'\n",
    "\n",
    "            ft = np.zeros_like(self.gs.board.ice)\n",
    "            player_lichen = np.zeros_like(self.gs.board.lichen)\n",
    "            \n",
    "            for f in gs.factories[pn].values():\n",
    "                self.factory_board[pn][f.pos[0], f.pos[1]] = 1\n",
    "                lichen_mask = gs.board.lichen_strains == f.strain_id\n",
    "                player_lichen[lichen_mask] = gs.board.lichen[lichen_mask]\n",
    "                self.total_lichen[pn] += np.sum(gs.board.lichen[lichen_mask])\n",
    "                self.total_water[pn] += f.cargo.water\n",
    "                for pa in self.get_adjacent_full(f.pos):\n",
    "                    self.pos_to_factory_map[to_tuple(pa)] = f\n",
    "                    self.ice_without_factories[pa[0], pa[1]] = 0\n",
    "                    self.ore_without_factories[pa[0], pa[1]] = 0\n",
    "                    ft[pa[0], pa[1]] = 1\n",
    "\n",
    "            self.factory_tiles[pn] = ft\n",
    "            self.lichen[pn] = player_lichen\n",
    "\n",
    "            for u in gs.units[pn].values():\n",
    "                \n",
    "                if u.unit_type == \"HEAVY\":\n",
    "                    self.heavy_board[pn][u.pos[0], u.pos[1]] = 1\n",
    "                    self.total_heavy[pn] += 1\n",
    "                else:\n",
    "                    self.light_board[pn][u.pos[0], u.pos[1]] = 1\n",
    "                    self.total_light[pn] += 1\n",
    "                    \n",
    "                self.pos_to_unit_map[to_tuple(u.pos)] = u\n",
    "                \n",
    "                \n",
    "        for t in range(2):\n",
    "            pn = f'player_{t}'\n",
    "            po = f'player_{1-t}'\n",
    "            lb = (self.gs.board.rubble > 0) | (self.ice_without_factories > 0) | (self.ore_without_factories > 0) | (self.factory_tiles[po])\n",
    "            cp = []\n",
    "            for f in gs.factories[pn].values():\n",
    "                for pa in self.get_adjacent_full(f.pos):\n",
    "                    lb[pa[0], pa[1]] = 0\n",
    "                cp += [f.pos]\n",
    "            self.lichen_boundary[pn] = fast_flood_fill(lb, cp)\n"
   ]
  },
  {
   "cell_type": "code",
   "execution_count": null,
   "id": "77878c1d",
   "metadata": {},
   "outputs": [],
   "source": []
  },
  {
   "cell_type": "code",
   "execution_count": null,
   "id": "b4061d20",
   "metadata": {},
   "outputs": [],
   "source": []
  },
  {
   "cell_type": "code",
   "execution_count": null,
   "id": "e6380d0b",
   "metadata": {},
   "outputs": [],
   "source": []
  },
  {
   "cell_type": "code",
   "execution_count": null,
   "id": "65f9f0d6",
   "metadata": {},
   "outputs": [],
   "source": []
  },
  {
   "cell_type": "code",
   "execution_count": null,
   "id": "74977ee5",
   "metadata": {},
   "outputs": [],
   "source": []
  },
  {
   "cell_type": "code",
   "execution_count": null,
   "id": "6464190c",
   "metadata": {},
   "outputs": [],
   "source": []
  },
  {
   "cell_type": "code",
   "execution_count": 12,
   "id": "a86482b1",
   "metadata": {
    "tags": []
   },
   "outputs": [],
   "source": [
    "### actions"
   ]
  },
  {
   "cell_type": "code",
   "execution_count": 13,
   "id": "7ad7e929",
   "metadata": {
    "tags": []
   },
   "outputs": [],
   "source": [
    "\n",
    "from typing import Any\n",
    "\n",
    "import numpy as np\n",
    "\n",
    "from lux.factory import Factory\n",
    "from lux.unit import Unit, move_deltas\n",
    "\n",
    "ACTION_MOVE = 0\n",
    "ACTION_TRANSFER = 1\n",
    "ACTION_PICKUP = 2\n",
    "ACTION_DIG = 3\n",
    "ACTION_SD = 4\n",
    "ACTION_RECHARGE = 5\n",
    "\n",
    "RESOURCE_ICE = 0\n",
    "RESOURCE_ORE = 1\n",
    "RESOURCE_WATER = 2\n",
    "RESOURCE_METAL = 3\n",
    "RESOURCE_POWER = 4\n",
    "\n",
    "UNIT_HEAVY = \"HEAVY\"\n",
    "UNIT_LIGHT = \"LIGHT\"\n",
    "\n",
    "ALL_RESOURCES = list(range(5))\n",
    "ALL_DIRECTIONS = list(range(5))\n",
    "ALL_DIRECTIONS_WITHOUT_CENTER = list(range(1, 5))\n",
    "\n",
    "\n",
    "#### bid\n",
    "\n",
    "class BidActionBase:\n",
    "    def can_execute(self, wgs: WrappedGameState2):\n",
    "        return True\n",
    "\n",
    "    def execute(self, wgs: WrappedGameState2):\n",
    "        raise NotImplementedError\n",
    "\n",
    "\n",
    "class BidActionFixedAmount(BidActionBase):\n",
    "    def __init__(self, amount):\n",
    "        self._amount = amount\n",
    "\n",
    "    def __repr__(self):\n",
    "        return f\"bid({self._amount})\"\n",
    "\n",
    "    def execute(self, wgs: WrappedGameState2):\n",
    "        return dict(faction=\"AlphaStrike\", bid=self._amount)\n",
    "\n",
    "\n",
    "#### unit\n",
    "\n",
    "class UnitActionBase:\n",
    "    def power_cost(self, u: Unit, wgs: WrappedGameState2):\n",
    "        raise NotImplementedError\n",
    "\n",
    "    def can_execute(self, u: Unit, wgs: WrappedGameState2):\n",
    "        raise NotImplementedError\n",
    "\n",
    "    def execute(self, u: Unit, wgs: WrappedGameState2):\n",
    "        raise NotImplementedError\n",
    "\n",
    "    def get_next_pos(self, u: Unit, wgs: WrappedGameState2):\n",
    "        return to_tuple(u.pos)\n",
    "\n",
    "    def is_me(self, u: Unit, wgs: WrappedGameState2, action):\n",
    "        raise NotImplementedError\n",
    "\n",
    "\n",
    "class UnitNoopAction(UnitActionBase):\n",
    "    def __repr__(self):\n",
    "        return f\"unit_noop\"\n",
    "\n",
    "    def power_cost(self, u: Unit, wgs: WrappedGameState2):\n",
    "        return 0\n",
    "\n",
    "    def can_execute(self, u: Unit, wgs: WrappedGameState2):\n",
    "        return False\n",
    "\n",
    "    def execute(self, u: Unit, wgs: WrappedGameState2):\n",
    "        raise NotImplementedError\n",
    "\n",
    "    def get_next_pos(self, u: Unit, wgs: WrappedGameState2):\n",
    "        return to_tuple(u.pos)\n",
    "\n",
    "    def is_me(self, u: Unit, wgs: WrappedGameState2, action):\n",
    "        return False\n",
    "\n",
    "\n",
    "class UnitTypeMoveAction(UnitActionBase):\n",
    "    def __init__(self, utype, direction):\n",
    "        self._utype = utype\n",
    "        self._direction = direction\n",
    "\n",
    "    def power_cost(self, u: Unit, wgs: WrappedGameState2):\n",
    "        if self._direction == 0:\n",
    "            return 0\n",
    "        return u.move_cost(wgs.gs, self._direction)\n",
    "\n",
    "    def can_execute(self, u: Unit, wgs: WrappedGameState2, include_aq_cost=True):\n",
    "        if u.unit_type != self._utype:\n",
    "            return False\n",
    "\n",
    "        if self._direction == 0:\n",
    "            return True\n",
    "\n",
    "        pnext = to_tuple(u.pos + move_deltas[self._direction])\n",
    "        if not wgs.is_valid_pos(pnext):\n",
    "            return False\n",
    "\n",
    "        fnext = wgs.pos_to_factory_map.get(pnext)\n",
    "        if fnext and fnext.team_id != u.team_id:\n",
    "            return False\n",
    "\n",
    "        return True\n",
    "\n",
    "    def __repr__(self):\n",
    "        return f\"unittype_move({self._utype}, {self._direction})\"\n",
    "\n",
    "    def execute(self, u: Unit, wgs: WrappedGameState2):\n",
    "        return [u.move(self._direction)]\n",
    "\n",
    "    def get_next_pos(self, u: Unit, wgs:WrappedGameState2):\n",
    "        if u.power < self.power_cost(u, wgs) + u.unit_cfg.ACTION_QUEUE_POWER_COST:\n",
    "            return to_tuple(u.pos)\n",
    "        return to_tuple(u.pos + move_deltas[self._direction])\n",
    "\n",
    "    def is_me(self, u: Unit, wgs: WrappedGameState2, action):\n",
    "        return u.unit_type == self._utype and action[0] == ACTION_MOVE and action[1] == self._direction\n",
    "\n",
    "\n",
    "class UnitTypeDigAction(UnitActionBase):\n",
    "    def __init__(self, utype):\n",
    "        self._utype = utype\n",
    "\n",
    "    def power_cost(self, u: Unit, wgs: WrappedGameState2):\n",
    "        return u.dig_cost(wgs.gs)\n",
    "\n",
    "    def can_execute(self, u: Unit, wgs: WrappedGameState2):\n",
    "        if u.unit_type != self._utype:\n",
    "            return False\n",
    "\n",
    "        fnext = wgs.pos_to_factory_map.get(to_tuple(u.pos))\n",
    "        if fnext:\n",
    "            return False\n",
    "\n",
    "        if wgs.gs.board.lichen_strains[u.pos[0], u.pos[1]] in wgs.gs.teams[u.agent_id].factory_strains:\n",
    "            return False\n",
    "\n",
    "        if not wgs.ice_without_factories[u.pos[0], u.pos[1]] and not wgs.ore_without_factories[u.pos[0], u.pos[1]] and not wgs.gs.board.rubble[u.pos[0], u.pos[1]] and not wgs.gs.board.lichen[u.pos[0], u.pos[1]]:\n",
    "            return False\n",
    "        \n",
    "        return True\n",
    "\n",
    "    def __repr__(self):\n",
    "        return f\"unittype_dig({self._utype})\"\n",
    "\n",
    "    def execute(self, u: Unit, wgs: WrappedGameState2):\n",
    "        return [u.dig()]\n",
    "\n",
    "    def is_me(self, u: Unit, wgs: WrappedGameState2, action):\n",
    "        return u.unit_type == self._utype and action[0] == ACTION_DIG\n",
    "\n",
    "\n",
    "class UnitTypeRechargeAction(UnitActionBase):\n",
    "    def __init__(self, utype):\n",
    "        self._utype = utype\n",
    "\n",
    "    def power_cost(self, u: Unit, wgs: WrappedGameState2):\n",
    "        return 0\n",
    "\n",
    "    def can_execute(self, u: Unit, wgs: WrappedGameState2):\n",
    "        if u.unit_type != self._utype:\n",
    "            return False\n",
    "        return True\n",
    "\n",
    "    def __repr__(self):\n",
    "        return f\"unittype_recharge({self._utype})\"\n",
    "\n",
    "    def execute(self, u: Unit, wgs: WrappedGameState2):\n",
    "        return [u.recharge(u.unit_cfg.BATTERY_CAPACITY)]\n",
    "\n",
    "    def is_me(self, u: Unit, wgs: WrappedGameState2, action):\n",
    "        return u.unit_type == self._utype and action[0] == ACTION_RECHARGE\n",
    "\n",
    "\n",
    "def distance_to_nearest_factory(u: Unit, wgs: WrappedGameState2):\n",
    "    min_dist = 1000\n",
    "    for fn, f in wgs.gs.factories[f\"player_{u.team_id}\"].items():\n",
    "        dist = np.abs(u.pos - f.pos).sum()\n",
    "        if min_dist is None or dist < min_dist:\n",
    "            min_dist = dist\n",
    "    return min_dist\n",
    "\n",
    "def distance_to_nearest_factory_tile(u: Unit, wgs: WrappedGameState2):\n",
    "    dist_pair = get_nearest_fromlist(u.pos, np.argwhere(wgs.factory_tiles[u.agent_id]))\n",
    "    return dist_pair[1]\n",
    "\n",
    "def distance_to_nearest_heavy(u: Unit, wgs: WrappedGameState2):\n",
    "    dist_pair = get_nearest_fromlist(u.pos, [x.pos for x in wgs.gs.units[u.agent_id].values() if x.unit_type == UNIT_HEAVY and x.unit_id != u.unit_id])\n",
    "    return dist_pair[1]\n",
    "\n",
    "class UnitTypeTransferCargoAction(UnitActionBase):\n",
    "    def __init__(self, utype):\n",
    "        self._utype = utype\n",
    "        self._min_amount = 10\n",
    "\n",
    "    def power_cost(self, u: Unit, wgs: WrappedGameState2):\n",
    "        return 0\n",
    "\n",
    "    def can_execute(self, u: Unit, wgs: WrappedGameState2):\n",
    "        if u.unit_type != self._utype:\n",
    "            return False\n",
    "\n",
    "        for d in ALL_DIRECTIONS:\n",
    "            pnext = to_tuple(u.pos + move_deltas[d])\n",
    "            fnext = wgs.pos_to_factory_map.get(pnext)\n",
    "            if fnext and fnext.team_id == u.team_id:\n",
    "                return True\n",
    "\n",
    "        for d in ALL_DIRECTIONS_WITHOUT_CENTER:\n",
    "            pnext = to_tuple(u.pos + move_deltas[d])\n",
    "            unext = wgs.pos_to_unit_map.get(pnext)\n",
    "            if not unext or unext.team_id != u.team_id:\n",
    "                continue\n",
    "            return True\n",
    "\n",
    "        return True\n",
    "\n",
    "    def __repr__(self):\n",
    "        return f\"unittype_transfer_cargo({self._utype})\"\n",
    "\n",
    "    def execute(self, u: Unit, wgs: WrappedGameState2):\n",
    "        for d in ALL_DIRECTIONS:\n",
    "            pnext = to_tuple(u.pos + move_deltas[d])\n",
    "            fnext = wgs.pos_to_factory_map.get(pnext)\n",
    "            if fnext and fnext.team_id == u.team_id:\n",
    "                if u.cargo.ice:\n",
    "                    return [u.transfer(d, RESOURCE_ICE, 1000)]\n",
    "                elif u.cargo.ore:\n",
    "                    return [u.transfer(d, RESOURCE_ORE, 1000)]\n",
    "\n",
    "        candidates = []\n",
    "        for d in ALL_DIRECTIONS_WITHOUT_CENTER:\n",
    "            pnext = to_tuple(u.pos + move_deltas[d])\n",
    "            unext = wgs.pos_to_unit_map.get(pnext)\n",
    "            if not unext or unext.team_id != u.team_id:\n",
    "                continue\n",
    "            space_left = unext.unit_cfg.CARGO_SPACE - total_cargo(unext)\n",
    "            if space_left < self._min_amount:\n",
    "                continue\n",
    "            candidates += [(distance_to_nearest_factory_tile(u, wgs), d, space_left)]\n",
    "\n",
    "        candidates.sort(key=lambda x:x[0])\n",
    "\n",
    "        for z in candidates:\n",
    "            d = z[1]\n",
    "            amount = z[2]\n",
    "            if amount > self._min_amount:\n",
    "                if u.cargo.ice:\n",
    "                    return [u.transfer(d, RESOURCE_ICE, amount)]\n",
    "                elif u.cargo.ore:\n",
    "                    return [u.transfer(d, RESOURCE_ORE, amount)]\n",
    "\n",
    "        return [u.move(0)]\n",
    "\n",
    "    def is_me(self, u: Unit, wgs: WrappedGameState2, action):\n",
    "        return u.unit_type == self._utype and action[0] == ACTION_TRANSFER and action[2] != RESOURCE_POWER\n",
    "\n",
    "\n",
    "class UnitTypeTransferPowerAction(UnitActionBase):\n",
    "    def __init__(self, utype):\n",
    "        self._utype = utype\n",
    "        self._min_transfer_amount = 10\n",
    "        self._min_keep = 10\n",
    "\n",
    "    def power_cost(self, u: Unit, wgs: WrappedGameState2):\n",
    "        return 0\n",
    "\n",
    "    def can_execute(self, u: Unit, wgs: WrappedGameState2):\n",
    "        if u.unit_type != self._utype:\n",
    "            return False\n",
    "\n",
    "        for d in ALL_DIRECTIONS_WITHOUT_CENTER:\n",
    "            pnext = to_tuple(u.pos + move_deltas[d])\n",
    "            unext = wgs.pos_to_unit_map.get(pnext)\n",
    "            if not unext or unext.team_id != u.team_id:\n",
    "                continue\n",
    "\n",
    "            return True\n",
    "\n",
    "        return False\n",
    "\n",
    "    def __repr__(self):\n",
    "        return f\"unittype_transfer_power({self._utype})\"\n",
    "\n",
    "    def execute(self, u: Unit, wgs: WrappedGameState2):\n",
    "        candidates = []\n",
    "        for d in ALL_DIRECTIONS_WITHOUT_CENTER:\n",
    "            pnext = to_tuple(u.pos + move_deltas[d])\n",
    "            unext = wgs.pos_to_unit_map.get(pnext)\n",
    "\n",
    "            if not unext or unext.team_id != u.team_id:\n",
    "                continue\n",
    "            max_space = unext.unit_cfg.BATTERY_CAPACITY - unext.power\n",
    "            max_amount = min(max_space, u.power - u.unit_cfg.ACTION_QUEUE_POWER_COST - self._min_keep)\n",
    "            if max_amount < self._min_transfer_amount:\n",
    "                continue\n",
    "            candidates += [(distance_to_nearest_heavy(u, wgs), d, max_amount)]\n",
    "\n",
    "        candidates.sort(key=lambda x:x[0])\n",
    "        for z in candidates:\n",
    "            d = z[1]\n",
    "            max_amount = z[2]\n",
    "            if max_amount > self._min_transfer_amount:\n",
    "                return [u.transfer(d, RESOURCE_POWER, max_amount )]\n",
    "\n",
    "        return [u.move(0)]\n",
    "\n",
    "    def is_me(self, u: Unit, wgs: WrappedGameState2, action):\n",
    "        return u.unit_type == self._utype and action[0] == ACTION_TRANSFER and action[2] == RESOURCE_POWER\n",
    "\n",
    "\n",
    "class UnitTypePickupCargoAction(UnitActionBase):\n",
    "    def __init__(self, utype):\n",
    "        self._utype = utype\n",
    "\n",
    "    def power_cost(self, u: Unit, wgs: WrappedGameState2):\n",
    "        return 0\n",
    "\n",
    "    def can_execute(self, u: Unit, wgs: WrappedGameState2, include_aq_cost=True):\n",
    "        if u.unit_type != self._utype:\n",
    "            return False\n",
    "\n",
    "        fnext = wgs.pos_to_factory_map.get(to_tuple(u.pos))\n",
    "        if not fnext or fnext.team_id != u.team_id:\n",
    "            return False\n",
    "\n",
    "        return True\n",
    "\n",
    "    def __repr__(self):\n",
    "        return f\"unittype_pickup_cargo({self._utype})\"\n",
    "\n",
    "    def execute(self, u: Unit, wgs: WrappedGameState2):\n",
    "        raise NotImplementedError()\n",
    "\n",
    "    def is_me(self, u: Unit, wgs: WrappedGameState2, action):\n",
    "        return u.unit_type == self._utype and action[0] == ACTION_PICKUP and action[2] != RESOURCE_POWER\n",
    "\n",
    "\n",
    "class UnitTypePickupPowerAction(UnitActionBase):\n",
    "    def __init__(self, utype):\n",
    "        self._utype = utype\n",
    "        self._min_amount = 10\n",
    "\n",
    "    def power_cost(self, u: Unit, wgs: WrappedGameState2):\n",
    "        return 0\n",
    "\n",
    "    def can_execute(self, u: Unit, wgs: WrappedGameState2, include_aq_cost=True):\n",
    "        if u.unit_type != self._utype:\n",
    "            return False\n",
    "\n",
    "        fnext = wgs.pos_to_factory_map.get(to_tuple(u.pos))\n",
    "        if not fnext or fnext.team_id != u.team_id:\n",
    "            return False\n",
    "\n",
    "        return True\n",
    "\n",
    "    def __repr__(self):\n",
    "        return f\"unittype_pickup_power({self._utype})\"\n",
    "\n",
    "    def execute(self, u: Unit, wgs: WrappedGameState2):\n",
    "        if u.unit_cfg.BATTERY_CAPACITY - u.power <= self._min_amount:\n",
    "            return [u.move(0)]\n",
    "        return [u.pickup(RESOURCE_POWER, u.unit_cfg.BATTERY_CAPACITY - u.power)]\n",
    "            \n",
    "    def is_me(self, u: Unit, wgs: WrappedGameState2, action):\n",
    "        return u.unit_type == self._utype and action[0] == ACTION_PICKUP and action[2] == RESOURCE_POWER\n",
    "\n",
    "\n",
    "# factory\n",
    "\n",
    "class FactoryActionBase:\n",
    "    def can_execute(self, f: Factory, wgs: WrappedGameState2):\n",
    "        raise NotImplementedError\n",
    "\n",
    "    def execute(self, f: Factory, wgs: WrappedGameState2):\n",
    "        raise NotImplementedError\n",
    "\n",
    "    def get_next_pos(self, f: Factory, wgs: WrappedGameState2):\n",
    "        return None\n",
    "\n",
    "    def is_me(self, f: Factory, wgs: WrappedGameState2, action):\n",
    "        raise NotImplementedError\n",
    "\n",
    "\n",
    "class FactoryNoopAction(FactoryActionBase):\n",
    "    def can_execute(self, f: Factory, wgs: WrappedGameState2):\n",
    "        return True\n",
    "\n",
    "    def execute(self, f: Factory, wgs: WrappedGameState2):\n",
    "        return None\n",
    "\n",
    "    def get_next_pos(self, f: Factory, wgs: WrappedGameState2):\n",
    "        return None\n",
    "\n",
    "    def __repr__(self):\n",
    "        return f\"factory_noop\"\n",
    "\n",
    "    def is_me(self, f: Factory, wgs: WrappedGameState2, action):\n",
    "        return action is None\n",
    "\n",
    "    \n",
    "class FactoryBuildHeavyAction(FactoryActionBase):\n",
    "    def can_execute(self, f: Factory, wgs: WrappedGameState2):\n",
    "        return f.can_build_heavy(wgs.gs)\n",
    "\n",
    "    def execute(self, f, wgs):\n",
    "        return f.build_heavy()\n",
    "\n",
    "    def get_next_pos(self, f: Factory, wgs: WrappedGameState2):\n",
    "        return to_tuple(f.pos)\n",
    "\n",
    "    def __repr__(self):\n",
    "        return f\"factory_build_heavy\"\n",
    "\n",
    "    def is_me(self, f: Factory, wgs: WrappedGameState2, action):\n",
    "        return action == 1\n",
    "\n",
    "\n",
    "class FactoryBuildLightAction(FactoryActionBase):\n",
    "    def can_execute(self, f: Factory, wgs: WrappedGameState2):\n",
    "        return f.can_build_light(wgs.gs)\n",
    "\n",
    "    def execute(self, f, wgs):\n",
    "        return f.build_light()\n",
    "\n",
    "    def __repr__(self):\n",
    "        return f\"factory_build_light\"\n",
    "\n",
    "    def get_next_pos(self, f: Factory, wgs: WrappedGameState2):\n",
    "        return to_tuple(f.pos)\n",
    "\n",
    "    def is_me(self, f: Factory, wgs: WrappedGameState2, action):\n",
    "        return action == 0\n",
    "\n",
    "\n",
    "class FactoryWaterLichenAction(FactoryActionBase):\n",
    "    def can_execute(self, f: Factory, wgs: WrappedGameState2):\n",
    "        return f.can_water(wgs.gs)\n",
    "\n",
    "    def execute(self, f, wgs):\n",
    "        return f.water()\n",
    "\n",
    "    def __repr__(self):\n",
    "        return f\"factory_water\"\n",
    "\n",
    "    def is_me(self, f: Factory, wgs: WrappedGameState2, action):\n",
    "        return action == 2\n",
    "\n"
   ]
  },
  {
   "cell_type": "code",
   "execution_count": 14,
   "id": "e43b8d8a",
   "metadata": {
    "tags": []
   },
   "outputs": [],
   "source": [
    "\n",
    "import torch\n",
    "\n",
    "from common.buffers import BufferSpec\n",
    "from lux.utils import my_turn_to_place_factory\n",
    "\n",
    "\n",
    "class ActionsMaker:\n",
    "    def __init__(self, env_cfg):\n",
    "        self.env_cfg = env_cfg\n",
    "        self.map_size = env_cfg.map_size\n",
    "        self.bid_actions = []\n",
    "        self.factory_actions = []\n",
    "        self.unit_actions = []\n",
    "\n",
    "    def _lookup_unit_action(self, wgs, u, a):\n",
    "        for ei, x in enumerate(self.unit_actions):\n",
    "            if x.is_me(u, wgs, a) and x.can_execute(u, wgs):\n",
    "                return ei, x\n",
    "        return None, None\n",
    "\n",
    "    def inverse_actions(self, wgs: WrappedGameState2, player_name, player_actions):\n",
    "        act_bid = np.zeros((len(self.bid_actions),), dtype=np_dtype)\n",
    "        act_placement = np.zeros(shape=(self.map_size, self.map_size), dtype=np_dtype)\n",
    "        act_unit = np.zeros(shape=(self.map_size, self.map_size, len(self.unit_actions)), dtype=np_dtype)\n",
    "        act_factory = np.zeros(shape=(self.map_size, self.map_size, len(self.factory_actions)), dtype=np_dtype)\n",
    "\n",
    "        if 'bid' in player_actions:\n",
    "            amnt = player_actions['bid']\n",
    "            scores = [(np.abs(x._amount - amnt), ei) for ei, x in enumerate(self.bid_actions)]\n",
    "            scores.sort(key=lambda x: x[0])\n",
    "            act_bid[scores[0][1]] = 1\n",
    "\n",
    "        if 'spawn' in player_actions:\n",
    "            pos = player_actions['spawn']\n",
    "            act_placement[pos[0], pos[1]] = 1\n",
    "\n",
    "        for uname, u in wgs.gs.units[player_name].items():\n",
    "            pwr_plus = 0\n",
    "            if uname in player_actions:\n",
    "                unit_aq = player_actions[uname]\n",
    "                pwr_plus = u.unit_cfg.ACTION_QUEUE_POWER_COST\n",
    "            elif len(u.action_queue):\n",
    "                unit_aq = u.action_queue\n",
    "            else:\n",
    "                unit_aq = [[0,0,0,0,0,0]]\n",
    "\n",
    "            next_action = unit_aq[0]\n",
    "\n",
    "            lookup_next_ei, lookup_next_act = self._lookup_unit_action(wgs, u, next_action)\n",
    "            if lookup_next_act is None:\n",
    "#                 act_unit[u.pos[0], u.pos[1], 0] = 1\n",
    "                continue\n",
    "\n",
    "            act_unit[u.pos[0], u.pos[1], lookup_next_ei] = 1\n",
    "\n",
    "        for fname, f in wgs.gs.factories[player_name].items():\n",
    "            next_action = player_actions.get(fname)\n",
    "\n",
    "            for ei, x in enumerate(self.factory_actions):\n",
    "                if x.is_me(f, wgs, next_action) and x.can_execute(f, wgs):\n",
    "                    act_factory[f.pos[0], f.pos[1], ei] = 1\n",
    "                    break\n",
    "\n",
    "        return dict(\n",
    "            bid=torch.as_tensor(act_bid),\n",
    "            unit=torch.as_tensor(act_unit),\n",
    "            factory=torch.as_tensor(act_factory),\n",
    "            placement=torch.as_tensor(act_placement).flatten()\n",
    "        )\n",
    "\n",
    "    def get_actions_spec(self):\n",
    "        return dict(\n",
    "            bid=(len(self.bid_actions, )),\n",
    "            unit=(self.map_size, self.map_size, len(self.unit_actions)),\n",
    "            factory=(self.map_size, self.map_size, len(self.factory_actions)),\n",
    "            placement=(self.map_size * self.map_size,),\n",
    "        )\n",
    "\n",
    "    def get_actions_mask_spec(self):\n",
    "        return dict(\n",
    "            bid=BufferSpec((len(self.bid_actions),), torch.bool),\n",
    "            unit=BufferSpec((self.map_size, self.map_size, len(self.unit_actions)), torch.bool),\n",
    "            factory=BufferSpec((self.map_size, self.map_size, len(self.factory_actions)), torch.bool),\n",
    "            placement=BufferSpec((self.map_size * self.map_size,), torch.bool)\n",
    "        )\n",
    "\n",
    "    def make_actions_mask(self, wgs, player_name):\n",
    "        # action masks\n",
    "        gs = wgs.gs\n",
    "\n",
    "        act_bid = np.zeros((len(self.bid_actions),), dtype=np_dtype)\n",
    "        if wgs.step == 0:\n",
    "            act_bid[:] = 1\n",
    "\n",
    "        act_placement = np.zeros(shape=(self.map_size, self.map_size, 1), dtype=np_dtype)\n",
    "\n",
    "        if wgs.step > 0:\n",
    "            factories_to_place = gs.teams[player_name].factories_to_place\n",
    "            my_turn_to_place = my_turn_to_place_factory(gs.teams[player_name].place_first, wgs.step)\n",
    "            if factories_to_place > 0 and my_turn_to_place:\n",
    "                act_placement[:, :, 0] = wgs.gs.board.valid_spawns_mask == 1\n",
    "\n",
    "        # print('act_placement', gs.teams[player_name].factories_to_place, act_placement.sum(), len(gs.board.spawns[wgs.player]))\n",
    "        act_unit = np.zeros(shape=(self.map_size, self.map_size, len(self.unit_actions)), dtype=np_dtype)\n",
    "        for u in gs.units[player_name].values():\n",
    "            for ei, ua in enumerate(self.unit_actions):\n",
    "                if ua.can_execute(u, wgs): # and u.power >= ua.power_cost(u, wgs) + u.unit_cfg.ACTION_QUEUE_POWER_COST:\n",
    "                    act_unit[u.pos[0], u.pos[1], ei] = 1\n",
    "\n",
    "        act_factory = np.zeros(shape=(self.map_size, self.map_size, len(self.factory_actions)), dtype=np_dtype)\n",
    "        for f in gs.factories[player_name].values():\n",
    "            for ei, fa in enumerate(self.factory_actions):\n",
    "                if fa.can_execute(f, wgs):\n",
    "                    act_factory[f.pos[0], f.pos[1], ei] = 1\n",
    "\n",
    "        return dict(\n",
    "            bid=torch.as_tensor(act_bid, dtype=torch_dtype),\n",
    "            unit=torch.as_tensor(act_unit, dtype=torch_dtype),\n",
    "            factory=torch.as_tensor(act_factory, dtype=torch_dtype),\n",
    "            placement=torch.as_tensor(act_placement, dtype=torch_dtype).flatten()\n",
    "        )\n"
   ]
  },
  {
   "cell_type": "code",
   "execution_count": 15,
   "id": "0e089bd2",
   "metadata": {
    "tags": []
   },
   "outputs": [],
   "source": [
    "\n",
    "def make_action_maker(env_cfg):\n",
    "    amaker = ActionsMaker(env_cfg)\n",
    "    amaker.bid_actions = [\n",
    "        BidActionFixedAmount(0),\n",
    "        BidActionFixedAmount(10),\n",
    "        BidActionFixedAmount(20),\n",
    "    ]\n",
    "\n",
    "    amaker.factory_actions = [\n",
    "        FactoryNoopAction(),\n",
    "        FactoryBuildHeavyAction(),\n",
    "        FactoryBuildLightAction(),\n",
    "        FactoryWaterLichenAction()\n",
    "    ]\n",
    "\n",
    "    amaker.unit_actions = [\n",
    "#         UnitNoopAction()\n",
    "    ]\n",
    "\n",
    "    amaker.unit_actions += [\n",
    "        *[UnitTypeMoveAction(UNIT_HEAVY, d) for d in ALL_DIRECTIONS],\n",
    "        UnitTypeDigAction(UNIT_HEAVY),\n",
    "        UnitTypeTransferCargoAction(UNIT_HEAVY),\n",
    "        UnitTypeTransferPowerAction(UNIT_HEAVY),\n",
    "        UnitTypePickupPowerAction(UNIT_HEAVY),\n",
    "        UnitTypeRechargeAction(UNIT_HEAVY),\n",
    "    ]\n",
    "\n",
    "    amaker.unit_actions += [\n",
    "        *[UnitTypeMoveAction(UNIT_LIGHT, d) for d in ALL_DIRECTIONS],\n",
    "        UnitTypeDigAction(UNIT_LIGHT),\n",
    "        UnitTypeTransferCargoAction(UNIT_LIGHT),\n",
    "        UnitTypeTransferPowerAction(UNIT_LIGHT),\n",
    "        UnitTypePickupPowerAction(UNIT_LIGHT),\n",
    "        UnitTypeRechargeAction(UNIT_LIGHT),\n",
    "    ]\n",
    "\n",
    "    return amaker\n"
   ]
  },
  {
   "cell_type": "code",
   "execution_count": null,
   "id": "457e8c74",
   "metadata": {},
   "outputs": [],
   "source": []
  },
  {
   "cell_type": "code",
   "execution_count": null,
   "id": "7aae932b",
   "metadata": {},
   "outputs": [],
   "source": []
  },
  {
   "cell_type": "code",
   "execution_count": null,
   "id": "5ea9d66e",
   "metadata": {},
   "outputs": [],
   "source": []
  },
  {
   "cell_type": "code",
   "execution_count": null,
   "id": "fc0f29b2",
   "metadata": {},
   "outputs": [],
   "source": []
  },
  {
   "cell_type": "code",
   "execution_count": null,
   "id": "8c7950e6",
   "metadata": {},
   "outputs": [],
   "source": []
  },
  {
   "cell_type": "code",
   "execution_count": null,
   "id": "b06cd73f",
   "metadata": {},
   "outputs": [],
   "source": []
  },
  {
   "cell_type": "code",
   "execution_count": 16,
   "id": "689b4b38",
   "metadata": {
    "tags": []
   },
   "outputs": [],
   "source": [
    "\n",
    "from dataclasses import dataclass\n",
    "from typing import Iterable, List, Dict\n",
    "\n",
    "import torch\n",
    "\n",
    "from common.buffers import BufferSpec\n",
    "from lux.config import EnvConfig\n",
    "\n",
    "\n",
    "@dataclass\n",
    "class FeaturesShape:\n",
    "    game: int\n",
    "    board: int\n",
    "\n",
    "\n",
    "@dataclass\n",
    "class FeaturesIndices:\n",
    "    game: List[int]\n",
    "    board: List[int]\n",
    "\n",
    "\n",
    "class FeatureBase:\n",
    "    def __init__(self, name):\n",
    "        self._name = name\n",
    "        self._idx_offset = None\n",
    "\n",
    "    @property\n",
    "    def name(self) -> str:\n",
    "        return self._name\n",
    "\n",
    "    @property\n",
    "    def offset_begin(self):\n",
    "        return self._idx_offset\n",
    "\n",
    "    @property\n",
    "    def offset_end(self):\n",
    "        return self._idx_offset + self.shape[-1]\n",
    "\n",
    "    def enable(self, idx):\n",
    "        self._idx_offset = idx\n",
    "\n",
    "    def disable(self):\n",
    "        self._idx_offset = None\n",
    "\n",
    "    def call(self, wgs: WrappedGameState2, *args):\n",
    "        raise NotImplementedError\n",
    "\n",
    "    def get_type(self):\n",
    "        raise NotImplementedError\n",
    "\n",
    "    @property\n",
    "    def shape(self):\n",
    "        raise NotImplementedError\n",
    "\n",
    "    @property\n",
    "    def enabled(self):\n",
    "        return self._idx_offset is not None\n",
    "\n",
    "\n",
    "class GameLambdaFeature(FeatureBase):\n",
    "    def __init__(self, name, lmbd):\n",
    "        super().__init__(name)\n",
    "        self._lmbd = lmbd\n",
    "\n",
    "    @property\n",
    "    def shape(self):\n",
    "        return (1,)\n",
    "\n",
    "    def get_type(self):\n",
    "        return 0\n",
    "\n",
    "    def call(self, wgs: WrappedGameState2, *args):\n",
    "        return torch.as_tensor(self._lmbd(wgs, *args), dtype=torch_dtype)\n",
    "\n",
    "\n",
    "class BoardLambdaFeature(FeatureBase):\n",
    "    def __init__(self, name, lmbd):\n",
    "        super().__init__(name)\n",
    "        self._lmbd = lmbd\n",
    "\n",
    "    @property\n",
    "    def shape(self):\n",
    "        return (None, None, 1)\n",
    "\n",
    "    def get_type(self):\n",
    "        return 1\n",
    "\n",
    "    def call(self, wgs: WrappedGameState2, *args):\n",
    "        res = torch.as_tensor(self._lmbd(wgs, *args), dtype=torch_dtype)\n",
    "        while len(res.shape) < len(self.shape):\n",
    "            res = res.unsqueeze(-1)\n",
    "        return res\n",
    "\n",
    "\n",
    "class CellLambdaFeature(FeatureBase):\n",
    "    def __init__(self, name, lmbd):\n",
    "        super().__init__(name)\n",
    "        self._lmbd = lmbd\n",
    "\n",
    "    @property\n",
    "    def shape(self):\n",
    "        return (None, None, 1)\n",
    "\n",
    "    def get_type(self):\n",
    "        return 1\n",
    "\n",
    "    def call(self, wgs: WrappedGameState2, *args):\n",
    "        return float(self._lmbd(wgs, *args))\n",
    "\n",
    "    # def call(self, wgs: WrappedGameState2, *args):\n",
    "    #     return torch.as_tensor(self._lmbd(wgs,  *args), dtype=torch.float)\n",
    "\n",
    "\n",
    "class NonReplacingDict(dict):\n",
    "    def __setitem__(self, key, value):\n",
    "        assert key not in self\n",
    "        return super().__setitem__(key, value)\n",
    "\n",
    "\n",
    "class FeaturesMaker:\n",
    "    def __init__(self, env_cfg: EnvConfig):\n",
    "        self._map_size = env_cfg.map_size\n",
    "\n",
    "        self.game_features = []\n",
    "        self.board_features = []\n",
    "        self.player_unit_features = []\n",
    "        self.player_factory_features = []\n",
    "        self.player_factory_tile_features = []\n",
    "        self.opponent_unit_features = []\n",
    "        self.opponent_factory_features = []\n",
    "        self.opponent_factory_tile_features = []\n",
    "\n",
    "        self._all_features: Dict[str, FeatureBase] = NonReplacingDict()\n",
    "        self._all_board_features = []\n",
    "        self._features_shape = [0, 0]\n",
    "\n",
    "    def list_feature_names(self):\n",
    "        return list(self._all_features.keys())\n",
    "\n",
    "    def finalize_features(self):\n",
    "        for f in self.game_features:\n",
    "            self._all_features[f.name] = f\n",
    "\n",
    "        for f in (\n",
    "                self.board_features\n",
    "                + self.player_unit_features\n",
    "                + self.player_factory_features\n",
    "                + self.player_factory_tile_features\n",
    "                + self.opponent_unit_features\n",
    "                + self.opponent_factory_features\n",
    "                + self.opponent_factory_tile_features):\n",
    "            self._all_features[f.name] = f\n",
    "            self._all_board_features += [f]\n",
    "\n",
    "    def reset_features(self):\n",
    "        for fn, f in self._all_features.items():\n",
    "            f.disable()\n",
    "        self._features_shape = [0, 0]\n",
    "\n",
    "    def enable_features(self, names: Iterable[str]):\n",
    "        for name in names:\n",
    "            feat = self._all_features[name]\n",
    "            if feat.enabled:\n",
    "                continue\n",
    "            feat.enable(self._features_shape[feat.get_type()])\n",
    "            self._features_shape[feat.get_type()] += feat.shape[-1]\n",
    "\n",
    "    def shape(self, names: Iterable[str]) -> FeaturesShape:\n",
    "        s = [0, 0]\n",
    "        for name in names:\n",
    "            feat = self._all_features[name]\n",
    "            assert feat.enabled\n",
    "            s[feat.get_type()] += feat.shape[-1]\n",
    "        return FeaturesShape(*s)\n",
    "\n",
    "    def indices(self, names: Iterable[str]) -> FeaturesIndices:\n",
    "        idx = [[], []]\n",
    "        for name in names:\n",
    "            feat = self._all_features[name]\n",
    "            assert feat.enabled\n",
    "            idx[feat.get_type()] += list(range(feat.offset_begin, feat.offset_end))\n",
    "        return FeaturesIndices(*idx)\n",
    "\n",
    "    def get_obs_spec(self):\n",
    "        return dict(\n",
    "            game=BufferSpec((self._features_shape[0],), dtype=torch_dtype),\n",
    "            board=BufferSpec((self._map_size, self._map_size, self._features_shape[1]), dtype=torch_dtype)\n",
    "        )\n",
    "\n",
    "    def collect_features(self, wgs: WrappedGameState2, player_name):\n",
    "        player_id = int(player_name[-1])\n",
    "        opponent_id = 1 - player_id\n",
    "        opponent_name = f\"player_{opponent_id}\"\n",
    "\n",
    "        game_features_vec = torch.zeros((self._features_shape[0],), dtype=torch_dtype)\n",
    "        board_features_vec = torch.zeros((self._map_size, self._map_size, self._features_shape[1]), dtype=torch_dtype)\n",
    "\n",
    "        for feat in self.game_features:\n",
    "            if not feat.enabled:\n",
    "                continue\n",
    "            game_features_vec[feat.offset_begin:feat.offset_end] = (feat.call(wgs, player_name, opponent_name))\n",
    "\n",
    "        for feat in self.board_features:\n",
    "            if not feat.enabled:\n",
    "                continue\n",
    "            board_features_vec[:, :, feat.offset_begin:feat.offset_end] = (feat.call(wgs, player_name, opponent_name))\n",
    "\n",
    "        for uname, u in wgs.gs.units[player_name].items():\n",
    "            for feat in self.player_unit_features:\n",
    "                if not feat.enabled:\n",
    "                    continue\n",
    "                board_features_vec[u.pos[0], u.pos[1], feat.offset_begin:feat.offset_end] = (feat.call(wgs, uname, u))\n",
    "\n",
    "        for fname, f in wgs.gs.factories[player_name].items():\n",
    "            for feat in self.player_factory_features:\n",
    "                if not feat.enabled:\n",
    "                    continue\n",
    "                board_features_vec[f.pos[0], f.pos[1], feat.offset_begin:feat.offset_end] = (feat.call(wgs, fname, f))\n",
    "\n",
    "            for feat in self.player_factory_tile_features:\n",
    "                if not feat.enabled:\n",
    "                    continue\n",
    "                for pos in wgs.get_adjacent_full(f.pos):\n",
    "                    board_features_vec[pos[0], pos[1], feat.offset_begin:feat.offset_end] = (feat.call(wgs, fname, f, pos))\n",
    "\n",
    "        for uname, u in wgs.gs.units[opponent_name].items():\n",
    "            for feat in self.opponent_unit_features:\n",
    "                if not feat.enabled:\n",
    "                    continue\n",
    "                board_features_vec[u.pos[0], u.pos[1], feat.offset_begin:feat.offset_end] = (feat.call(wgs, uname, u))\n",
    "\n",
    "        for fname, f in wgs.gs.factories[opponent_name].items():\n",
    "            for feat in self.opponent_factory_features:\n",
    "                if not feat.enabled:\n",
    "                    continue\n",
    "                board_features_vec[f.pos[0], f.pos[1], feat.offset_begin:feat.offset_end] = (feat.call(wgs, fname, f))\n",
    "\n",
    "            for feat in self.opponent_factory_tile_features:\n",
    "                if not feat.enabled:\n",
    "                    continue\n",
    "                for pos in wgs.get_adjacent_full(f.pos):\n",
    "                    board_features_vec[pos[0], pos[1], feat.offset_begin:feat.offset_end] = (feat.call(wgs, fname, f, pos))\n",
    "\n",
    "        return dict(game=game_features_vec, board=board_features_vec)\n",
    "\n"
   ]
  },
  {
   "cell_type": "code",
   "execution_count": 17,
   "id": "23d1ba5a",
   "metadata": {
    "tags": []
   },
   "outputs": [],
   "source": [
    "def if_unit_can_move(wgs, u, d):\n",
    "    mc = u.move_cost(wgs.gs, d)\n",
    "    if mc is None:\n",
    "        return False\n",
    "    if len(u.action_queue) and u.action_queue[0][0] == ACTION_MOVE and u.action_queue[0][1] == d:\n",
    "        return u.power >= mc\n",
    "    return u.power >= mc + u.unit_cfg.ACTION_QUEUE_POWER_COST\n",
    "\n",
    "\n",
    "def make_features_maker(env_cfg):\n",
    "    fm = FeaturesMaker(env_cfg)\n",
    "\n",
    "    def null_to_num(x, v):\n",
    "        if x is None:\n",
    "            return v\n",
    "        return x\n",
    "\n",
    "    fm.game_features += [GameLambdaFeature(\"real_env_steps\", lambda wgs, p, o: max(0, wgs.gs.real_env_steps / env_cfg.max_episode_length))]\n",
    "    fm.board_features += [BoardLambdaFeature(\"is_player0\", lambda wgs, p, o: p == \"player_0\")]\n",
    "    \n",
    "    fm.board_features += [BoardLambdaFeature(\"board_real_env_steps\", lambda wgs, p, o: max(0, wgs.gs.real_env_steps / env_cfg.max_episode_length))]\n",
    "    fm.board_features += [BoardLambdaFeature(\"board_factories_per_team\", lambda wgs, p, o: wgs.gs.board.factories_per_team)]\n",
    "\n",
    "    fm.board_features += [BoardLambdaFeature(\"board_is_day\", lambda wgs, p, o: (max(0, wgs.gs.real_env_steps) % env_cfg.CYCLE_LENGTH) < env_cfg.DAY_LENGTH)]\n",
    "    fm.board_features += [BoardLambdaFeature(\"board_day_part\", lambda wgs, p, o: (max(0, wgs.gs.real_env_steps) % env_cfg.CYCLE_LENGTH) / env_cfg.DAY_LENGTH)]\n",
    "\n",
    "    fm.board_features += [BoardLambdaFeature(\"ice\", lambda wgs, p, o: wgs.ice_without_factories)]\n",
    "    fm.board_features += [BoardLambdaFeature(\"ice_force\", lambda wgs, p, o: fftconvolve(wgs.ice_without_factories,wgs.kernel_sq, mode='same'))]\n",
    "    \n",
    "    fm.board_features += [BoardLambdaFeature(\"ore\", lambda wgs, p, o: wgs.ore_without_factories)]\n",
    "    fm.board_features += [BoardLambdaFeature(\"ore_force\", lambda wgs, p, o: fftconvolve(wgs.ore_without_factories,wgs.kernel_sq, mode='same'))]\n",
    "    \n",
    "    fm.board_features += [BoardLambdaFeature(\"valid_spawns_mask\", lambda wgs, p, o: wgs.gs.board.valid_spawns_mask if wgs.gs.real_env_steps < 0 else 0)]\n",
    "\n",
    "    fm.board_features += [BoardLambdaFeature(\"player_fact_force\", lambda wgs, p, o: fftconvolve(wgs.factory_board[p], wgs.kernel_sq, mode='same') )]\n",
    "    fm.board_features += [BoardLambdaFeature(\"player_heavy_force\", lambda wgs, p, o: fftconvolve(wgs.heavy_board[p], wgs.kernel_sq, mode='same') )]\n",
    "    fm.board_features += [BoardLambdaFeature(\"player_light_force\", lambda wgs, p, o: fftconvolve(wgs.light_board[p], wgs.kernel_sq, mode='same') )]\n",
    "    \n",
    "    fm.board_features += [BoardLambdaFeature(\"opponent_fact_force\", lambda wgs, p, o: fftconvolve(wgs.factory_board[o], wgs.kernel_sq, mode='same') )]\n",
    "    fm.board_features += [BoardLambdaFeature(\"opponent_heavy_force\", lambda wgs, p, o: fftconvolve(wgs.heavy_board[o], wgs.kernel_sq, mode='same') )]\n",
    "    fm.board_features += [BoardLambdaFeature(\"opponent_light_force\", lambda wgs, p, o: fftconvolve(wgs.light_board[o], wgs.kernel_sq, mode='same') )]\n",
    "    \n",
    "    fm.board_features += [BoardLambdaFeature(\"player_lichen\", lambda wgs, p, o: wgs.lichen[p] > 0)]\n",
    "    fm.board_features += [BoardLambdaFeature(\"player_lichen_val\", lambda wgs, p, o:wgs.lichen[p] / env_cfg.MAX_LICHEN_PER_TILE)]\n",
    "    \n",
    "    fm.board_features += [BoardLambdaFeature(\"opponent_lichen\", lambda wgs, p, o: wgs.lichen[o] > 0)]\n",
    "    fm.board_features += [BoardLambdaFeature(\"opponent_lichen_val\", lambda wgs, p, o:wgs.lichen[o] / env_cfg.MAX_LICHEN_PER_TILE)]\n",
    "    \n",
    "    fm.board_features += [BoardLambdaFeature(\"player_lichen_boundary\", lambda wgs, p, o: wgs.lichen_boundary[p])]\n",
    "    fm.board_features += [BoardLambdaFeature(\"opponent_lichen_boundary\", lambda wgs, p, o: wgs.lichen_boundary[o])]\n",
    "\n",
    "    fm.board_features += [BoardLambdaFeature(\"rubble_val\", lambda wgs, p, o: wgs.gs.board.rubble / env_cfg.MAX_RUBBLE)]\n",
    "    fm.board_features += [BoardLambdaFeature(\"has_rubble\", lambda wgs, p, o: wgs.gs.board.rubble > 0)]\n",
    "    fm.board_features += [BoardLambdaFeature(\"playable_area\", lambda wgs, p, o: 1)]\n",
    "\n",
    "    fm.board_features += [BoardLambdaFeature(\"player_total_factories\", lambda wgs, p, o: len(wgs.gs.factories[p]) / 5)]\n",
    "    fm.board_features += [BoardLambdaFeature(\"opponent_total_factories\", lambda wgs, p, o: len(wgs.gs.factories[o]) / 5)]\n",
    "\n",
    "    fm.board_features += [BoardLambdaFeature(\"player_total_heavy\", lambda wgs, p, o: wgs.total_heavy[p] / 100)]\n",
    "    fm.board_features += [BoardLambdaFeature(\"player_total_light\", lambda wgs, p, o: wgs.total_light[p] / 100)]\n",
    "\n",
    "    fm.board_features += [BoardLambdaFeature(\"opponent_total_heavy\", lambda wgs, p, o: wgs.total_heavy[o] / 100)]\n",
    "    fm.board_features += [BoardLambdaFeature(\"opponent_total_light\", lambda wgs, p, o: wgs.total_light[o] / 100)]\n",
    "\n",
    "    fm.board_features += [BoardLambdaFeature(\"player_total_water\", lambda wgs, p, o: wgs.total_water[p] / 10000)]\n",
    "    fm.board_features += [BoardLambdaFeature(\"opponent_total_water\", lambda wgs, p, o: wgs.total_water[o] / 10000)]\n",
    "\n",
    "    fm.board_features += [BoardLambdaFeature(\"player_total_lichen\", lambda wgs, p, o: wgs.total_lichen[p] / 10000)]\n",
    "    fm.board_features += [BoardLambdaFeature(\"opponent_total_lichen\", lambda wgs, p, o: wgs.total_lichen[o] / 10000)]\n",
    "\n",
    "    fm.player_unit_features += [CellLambdaFeature(\"player_units\", lambda wgs, uname, u: 1)]\n",
    "    fm.player_unit_features += [CellLambdaFeature(\"player_units_is_heavy\", lambda wgs, uname, u: u.unit_type == UNIT_HEAVY)]\n",
    "    fm.player_unit_features += [CellLambdaFeature(\"player_units_is_light\", lambda wgs, uname, u: u.unit_type == UNIT_LIGHT)]\n",
    "    fm.player_unit_features += [CellLambdaFeature(\"player_units_cargo_ice_rel\", lambda wgs, uname, u: u.cargo.ice / wgs.env_cfg.ROBOTS[u.unit_type].CARGO_SPACE)]\n",
    "    fm.player_unit_features += [CellLambdaFeature(\"player_units_cargo_ice_abs\", lambda wgs, uname, u: u.cargo.ice / 1000)]\n",
    "    fm.player_unit_features += [CellLambdaFeature(\"player_units_cargo_ore_rel\", lambda wgs, uname, u: u.cargo.ore / wgs.env_cfg.ROBOTS[u.unit_type].CARGO_SPACE)]\n",
    "    fm.player_unit_features += [CellLambdaFeature(\"player_units_cargo_ore_abs\", lambda wgs, uname, u: u.cargo.ore / 1000)]\n",
    "    fm.player_unit_features += [CellLambdaFeature(\"player_units_has_ice\", lambda wgs, uname, u: u.cargo.ice > 0)]\n",
    "    fm.player_unit_features += [CellLambdaFeature(\"player_units_has_ore\", lambda wgs, uname, u: u.cargo.ore > 0)]\n",
    "    fm.player_unit_features += [CellLambdaFeature(\"player_units_cargo_rel\", lambda wgs, uname, u: total_cargo(u) / wgs.env_cfg.ROBOTS[u.unit_type].CARGO_SPACE)]\n",
    "    fm.player_unit_features += [CellLambdaFeature(\"player_units_cargo_abs\", lambda wgs, uname, u: total_cargo(u) / 1000)]\n",
    "    fm.player_unit_features += [CellLambdaFeature(\"player_units_power_rel\", lambda wgs, uname, u: u.power / wgs.env_cfg.ROBOTS[u.unit_type].BATTERY_CAPACITY)]\n",
    "    fm.player_unit_features += [CellLambdaFeature(\"player_units_power_abs\", lambda wgs, uname, u: u.power / 1000)]\n",
    "\n",
    "    fm.player_factory_features += [CellLambdaFeature(\"player_factories\", lambda wgs, fname, f: 1)]\n",
    "    fm.player_factory_features += [CellLambdaFeature(\"player_factories_metal\", lambda wgs, fname, f: f.cargo.metal / 1000)]\n",
    "    fm.player_factory_features += [CellLambdaFeature(\"player_factories_water\", lambda wgs, fname, f: f.cargo.water / 1000)]\n",
    "    fm.player_factory_features += [CellLambdaFeature(\"player_factories_ice\", lambda wgs, fname, f: f.cargo.ice / 1000)]\n",
    "    fm.player_factory_features += [CellLambdaFeature(\"player_factories_ore\", lambda wgs, fname, f: f.cargo.ore / 1000)]\n",
    "    fm.player_factory_features += [CellLambdaFeature(\"player_factories_power\", lambda wgs, fname, f: f.power / 10000)]\n",
    "    fm.player_factory_features += [CellLambdaFeature(\"player_factories_water_cost\", lambda wgs, fname, f: f.water_cost(wgs.gs) / 10)]\n",
    "\n",
    "    fm.player_factory_tile_features += [CellLambdaFeature(\"player_factory_tiles\", lambda wgs, fname, f, ft: 1)]\n",
    "\n",
    "    fm.opponent_unit_features += [CellLambdaFeature(\"opponent_units\", lambda wgs, uname, u: 1)]\n",
    "    fm.opponent_unit_features += [CellLambdaFeature(\"opponent_units_is_heavy\", lambda wgs, uname, u: u.unit_type == UNIT_HEAVY)]\n",
    "    fm.opponent_unit_features += [CellLambdaFeature(\"opponent_units_is_light\", lambda wgs, uname, u: u.unit_type == UNIT_LIGHT)]\n",
    "    fm.opponent_unit_features += [CellLambdaFeature(\"opponent_units_power_rel\", lambda wgs, uname, u: u.power / wgs.env_cfg.ROBOTS[u.unit_type].BATTERY_CAPACITY)]\n",
    "    fm.opponent_unit_features += [CellLambdaFeature(\"opponent_units_power_abs\", lambda wgs, uname, u: u.power / 1000)]\n",
    "\n",
    "    fm.opponent_unit_features += [CellLambdaFeature(\"opponent_units_can_move_1\", lambda wgs, uname, u: if_unit_can_move(wgs, u, 1) )  ]\n",
    "    fm.opponent_unit_features += [CellLambdaFeature(\"opponent_units_can_move_2\", lambda wgs, uname, u: if_unit_can_move(wgs, u, 2) )  ]\n",
    "    fm.opponent_unit_features += [CellLambdaFeature(\"opponent_units_can_move_3\", lambda wgs, uname, u: if_unit_can_move(wgs, u, 3) )  ]\n",
    "    fm.opponent_unit_features += [CellLambdaFeature(\"opponent_units_can_move_4\", lambda wgs, uname, u: if_unit_can_move(wgs, u, 4) )  ]\n",
    "     \n",
    "    fm.opponent_factory_features += [CellLambdaFeature(\"opponent_factories\", lambda wgs, fname, f: 1)]\n",
    "    \n",
    "    fm.opponent_factory_tile_features += [CellLambdaFeature(\"opponent_factory_tiles\", lambda wgs, fname, f, ft: 1)]\n",
    "\n",
    "    fm.finalize_features()\n",
    "\n",
    "    fm.enable_features(fm.list_feature_names())\n",
    "    return fm\n"
   ]
  },
  {
   "cell_type": "code",
   "execution_count": null,
   "id": "564ed61a",
   "metadata": {},
   "outputs": [],
   "source": []
  },
  {
   "cell_type": "code",
   "execution_count": null,
   "id": "393be2e2",
   "metadata": {},
   "outputs": [],
   "source": []
  },
  {
   "cell_type": "code",
   "execution_count": null,
   "id": "5aa31b28",
   "metadata": {},
   "outputs": [],
   "source": []
  },
  {
   "cell_type": "code",
   "execution_count": null,
   "id": "b7406bdb",
   "metadata": {},
   "outputs": [],
   "source": []
  },
  {
   "cell_type": "code",
   "execution_count": 18,
   "id": "7042be6e",
   "metadata": {
    "tags": []
   },
   "outputs": [],
   "source": [
    "def flip_transform_obs(obs_in, flip_x, flip_y, rot90):\n",
    "    player_obs = copy.deepcopy(obs_in)\n",
    "\n",
    "    for board_key in player_obs[\"board\"]:\n",
    "        if board_key == \"factories_per_team\":\n",
    "            continue\n",
    "        else:\n",
    "            if flip_x:\n",
    "                player_obs[\"board\"][board_key] = player_obs[\"board\"][board_key][::-1, :].copy()\n",
    "            if flip_y:\n",
    "                player_obs[\"board\"][board_key] = player_obs[\"board\"][board_key][:, ::-1].copy()\n",
    "            if rot90:\n",
    "                player_obs[\"board\"][board_key] = np.rot90(player_obs[\"board\"][board_key]).copy()\n",
    "                \n",
    "\n",
    "    for player_name, units_obs_dict in player_obs[\"units\"].items():\n",
    "        for uname, u in units_obs_dict.items():\n",
    "            if flip_x:\n",
    "                u[\"pos\"] = np.array([47 - u[\"pos\"][0], u[\"pos\"][1]], dtype=int)\n",
    "            if flip_y:\n",
    "                u[\"pos\"] = np.array([u[\"pos\"][0], 47 - u[\"pos\"][1]], dtype=int)\n",
    "            if rot90:\n",
    "                u[\"pos\"] = np.array([47-u[\"pos\"][1], u[\"pos\"][0]], dtype=int)\n",
    "                \n",
    "\n",
    "            for ei in range(len(u[\"action_queue\"])):\n",
    "                if flip_x:\n",
    "                    u[\"action_queue\"][ei][1] = [0,1,4,3,2][u[\"action_queue\"][ei][1]]\n",
    "                if flip_y:\n",
    "                    u[\"action_queue\"][ei][1] = [0,3,2,1,4][u[\"action_queue\"][ei][1]]\n",
    "                if rot90:\n",
    "                    u[\"action_queue\"][ei][1] = [0, 2, 3, 4, 1][u[\"action_queue\"][ei][1]]                    \n",
    "\n",
    "    for player_name, factory_obs_dict in player_obs[\"factories\"].items():\n",
    "        for fname, f in factory_obs_dict.items():\n",
    "            if flip_x:\n",
    "                f[\"pos\"] = np.array([47 - f[\"pos\"][0], f[\"pos\"][1]], dtype=int)\n",
    "            if flip_y:\n",
    "                f[\"pos\"] = np.array([f[\"pos\"][0], 47 - f[\"pos\"][1]], dtype=int)\n",
    "            if rot90:\n",
    "                f[\"pos\"] = np.array([47-f[\"pos\"][1], f[\"pos\"][0]], dtype=int)\n",
    " \n",
    "    return player_obs\n",
    "\n",
    "def flip_transform_actions(actions, flip_x, flip_y, rot90):\n",
    "    # print(\"before\", actions)\n",
    "    if not actions:\n",
    "        return {}\n",
    "    player_actions_dict = copy.deepcopy(actions)\n",
    "    for k, v in player_actions_dict.items():\n",
    "        if k.startswith(\"unit\"):\n",
    "            for ei in range(len(v)):\n",
    "                if flip_x:\n",
    "                    v[ei][1] = [0,1,4,3,2][v[ei][1]]\n",
    "                if flip_y:\n",
    "                    v[ei][1] = [0,3,2,1,4][v[ei][1]]\n",
    "                if rot90:\n",
    "                    v[ei][1] = [0, 2, 3, 4, 1][v[ei][1]]\n",
    "                    \n",
    "        elif k==\"spawn\":\n",
    "            if flip_x:\n",
    "                player_actions_dict[k][0] = 47 - player_actions_dict[k][0]\n",
    "            if flip_y:\n",
    "                player_actions_dict[k][1] = 47 - player_actions_dict[k][1]\n",
    "            if rot90:\n",
    "                opos = player_actions_dict[k].copy()\n",
    "                player_actions_dict[k][0] = 47 - opos[1]\n",
    "                player_actions_dict[k][1] = opos[0]\n",
    "    # print(\"after\", actions)\n",
    "    return player_actions_dict\n",
    "\n",
    "\n",
    "\n",
    "def flip_transform_obs_nocopy(obs_in, flip_x, flip_y, rot90):\n",
    "    player_obs = obs_in\n",
    "\n",
    "    for board_key in player_obs[\"board\"]:\n",
    "        if board_key == \"factories_per_team\":\n",
    "            continue\n",
    "        else:\n",
    "            if flip_x:\n",
    "                player_obs[\"board\"][board_key] = player_obs[\"board\"][board_key][::-1, :].copy()\n",
    "            if flip_y:\n",
    "                player_obs[\"board\"][board_key] = player_obs[\"board\"][board_key][:, ::-1].copy()\n",
    "            if rot90:\n",
    "                player_obs[\"board\"][board_key] = np.rot90(player_obs[\"board\"][board_key]).copy()\n",
    "                \n",
    "\n",
    "    for player_name, units_obs_dict in player_obs[\"units\"].items():\n",
    "        for uname, u in units_obs_dict.items():\n",
    "            if flip_x:\n",
    "                u[\"pos\"] = np.array([47 - u[\"pos\"][0], u[\"pos\"][1]], dtype=int)\n",
    "            if flip_y:\n",
    "                u[\"pos\"] = np.array([u[\"pos\"][0], 47 - u[\"pos\"][1]], dtype=int)\n",
    "            if rot90:\n",
    "                u[\"pos\"] = np.array([47-u[\"pos\"][1], u[\"pos\"][0]], dtype=int)\n",
    "                \n",
    "\n",
    "            for ei in range(len(u[\"action_queue\"])):\n",
    "                if flip_x:\n",
    "                    u[\"action_queue\"][ei][1] = [0,1,4,3,2][u[\"action_queue\"][ei][1]]\n",
    "                if flip_y:\n",
    "                    u[\"action_queue\"][ei][1] = [0,3,2,1,4][u[\"action_queue\"][ei][1]]\n",
    "                if rot90:\n",
    "                    u[\"action_queue\"][ei][1] = [0, 2, 3, 4, 1][u[\"action_queue\"][ei][1]]                    \n",
    "\n",
    "    for player_name, factory_obs_dict in player_obs[\"factories\"].items():\n",
    "        for fname, f in factory_obs_dict.items():\n",
    "            if flip_x:\n",
    "                f[\"pos\"] = np.array([47 - f[\"pos\"][0], f[\"pos\"][1]], dtype=int)\n",
    "            if flip_y:\n",
    "                f[\"pos\"] = np.array([f[\"pos\"][0], 47 - f[\"pos\"][1]], dtype=int)\n",
    "            if rot90:\n",
    "                f[\"pos\"] = np.array([47-f[\"pos\"][1], f[\"pos\"][0]], dtype=int)\n",
    " \n",
    "    return player_obs\n",
    "\n",
    "def flip_transform_actions_nocopy(actions, flip_x, flip_y, rot90):\n",
    "    # print(\"before\", actions)\n",
    "    if not actions:\n",
    "        return {}\n",
    "    player_actions_dict = actions\n",
    "    for k, v in player_actions_dict.items():\n",
    "        if k.startswith(\"unit\"):\n",
    "            for ei in range(len(v)):\n",
    "                if flip_x:\n",
    "                    v[ei][1] = [0,1,4,3,2][v[ei][1]]\n",
    "                if flip_y:\n",
    "                    v[ei][1] = [0,3,2,1,4][v[ei][1]]\n",
    "                if rot90:\n",
    "                    v[ei][1] = [0, 2, 3, 4, 1][v[ei][1]]\n",
    "                    \n",
    "        elif k==\"spawn\":\n",
    "            if flip_x:\n",
    "                player_actions_dict[k][0] = 47 - player_actions_dict[k][0]\n",
    "            if flip_y:\n",
    "                player_actions_dict[k][1] = 47 - player_actions_dict[k][1]\n",
    "            if rot90:\n",
    "                opos = player_actions_dict[k].copy()\n",
    "                player_actions_dict[k][0] = 47 - opos[1]\n",
    "                player_actions_dict[k][1] = opos[0]\n",
    "    # print(\"after\", actions)\n",
    "    return player_actions_dict\n"
   ]
  },
  {
   "cell_type": "code",
   "execution_count": null,
   "id": "df3c6f57",
   "metadata": {},
   "outputs": [],
   "source": []
  },
  {
   "cell_type": "code",
   "execution_count": null,
   "id": "780cfe78",
   "metadata": {},
   "outputs": [],
   "source": []
  },
  {
   "cell_type": "code",
   "execution_count": null,
   "id": "c1c99d12",
   "metadata": {},
   "outputs": [],
   "source": []
  },
  {
   "cell_type": "code",
   "execution_count": null,
   "id": "19c62e6d",
   "metadata": {},
   "outputs": [],
   "source": []
  },
  {
   "cell_type": "code",
   "execution_count": 19,
   "id": "7bc28207",
   "metadata": {
    "tags": []
   },
   "outputs": [],
   "source": [
    "import luxai_s2\n",
    "env = luxai_s2.LuxAI_S2()\n",
    "fmaker = make_features_maker(env.env_cfg)\n",
    "amaker = make_action_maker(env.env_cfg)"
   ]
  },
  {
   "cell_type": "code",
   "execution_count": 20,
   "id": "b3b21cc9",
   "metadata": {
    "tags": []
   },
   "outputs": [],
   "source": [
    "def test(zzz):\n",
    "    current_step = extract_step_h5_lz4(hf2, zzz)\n",
    "    player_id = None\n",
    "    for sid in SUBMISSION_IDS:\n",
    "        try:\n",
    "            player_id = current_step['subm_ids'].index(sid)\n",
    "            break\n",
    "        except ValueError:\n",
    "            continue\n",
    "    assert player_id is not None\n",
    "    opponent_id = 1-player_id\n",
    "    player_name = f\"player_{player_id}\"\n",
    "    opponent_name = f\"player_{opponent_id}\"\n",
    "    wgs = WrappedGameState2(env.env_cfg, current_step['step'], current_step)\n",
    "    act_f = current_step['actions']\n",
    "    o1=fmaker.collect_features(wgs, player_name)\n",
    "    m1=amaker.make_actions_mask(wgs, player_name)\n",
    "    z1=amaker.inverse_actions(wgs, player_name, act_f[player_name])\n",
    "    q = ((z1[\"unit\"] * m1[\"unit\"]) != z1[\"unit\"]).numpy()\n",
    "    # assert(np.sum(q) == 0)"
   ]
  },
  {
   "cell_type": "code",
   "execution_count": 21,
   "id": "abb0934f",
   "metadata": {
    "tags": []
   },
   "outputs": [],
   "source": [
    "#%%timeit\n",
    "test(0)"
   ]
  },
  {
   "cell_type": "code",
   "execution_count": 22,
   "id": "aee1401a",
   "metadata": {
    "tags": []
   },
   "outputs": [],
   "source": [
    "#%%timeit\n",
    "test(1)"
   ]
  },
  {
   "cell_type": "code",
   "execution_count": 23,
   "id": "7164878a",
   "metadata": {
    "tags": []
   },
   "outputs": [],
   "source": [
    "#%%timeit\n",
    "test(2)"
   ]
  },
  {
   "cell_type": "code",
   "execution_count": 24,
   "id": "6a9529f5",
   "metadata": {
    "tags": []
   },
   "outputs": [
    {
     "name": "stdout",
     "output_type": "stream",
     "text": [
      "5.77 ms ± 23.9 µs per loop (mean ± std. dev. of 7 runs, 100 loops each)\n"
     ]
    }
   ],
   "source": [
    "%%timeit\n",
    "test(1234)"
   ]
  },
  {
   "cell_type": "code",
   "execution_count": null,
   "id": "f4a22cb8",
   "metadata": {},
   "outputs": [],
   "source": []
  },
  {
   "cell_type": "code",
   "execution_count": null,
   "id": "1725584a",
   "metadata": {},
   "outputs": [],
   "source": []
  },
  {
   "cell_type": "code",
   "execution_count": null,
   "id": "3276e840",
   "metadata": {},
   "outputs": [],
   "source": []
  },
  {
   "cell_type": "code",
   "execution_count": null,
   "id": "e6e74512",
   "metadata": {
    "tags": []
   },
   "outputs": [],
   "source": []
  },
  {
   "cell_type": "code",
   "execution_count": null,
   "id": "7575b942",
   "metadata": {},
   "outputs": [],
   "source": []
  },
  {
   "cell_type": "code",
   "execution_count": 25,
   "id": "6fa6f7b4",
   "metadata": {
    "tags": []
   },
   "outputs": [],
   "source": [
    "def plot():\n",
    "    import matplotlib.pyplot as plt    \n",
    "    current_step = extract_step_h5_lz4(hf2, 1234)\n",
    "    player_id = None\n",
    "    for sid in SUBMISSION_IDS:\n",
    "        try:\n",
    "            player_id = current_step['subm_ids'].index(sid)\n",
    "            break\n",
    "        except ValueError:\n",
    "            continue\n",
    "    assert player_id is not None\n",
    "    opponent_id = 1-player_id\n",
    "    player_name = f\"player_{player_id}\"\n",
    "    opponent_name = f\"player_{opponent_id}\"\n",
    "    wgs = WrappedGameState2(env.env_cfg, current_step['step'], current_step)\n",
    "    act_f = current_step['actions']\n",
    "    o1=fmaker.collect_features(wgs, player_name)\n",
    "    m1=amaker.make_actions_mask(wgs, player_name)\n",
    "    z1=amaker.inverse_actions(wgs, player_name, act_f[player_name])\n",
    "    \n",
    "    plt.figure(figsize=(30,(len(fmaker._all_board_features)//3 + 1)*10))\n",
    "    for ei in range(len(fmaker._all_board_features)):\n",
    "        plt.subplot(len(fmaker._all_board_features)//3 + 1,3,ei+1)\n",
    "        plt.title(fmaker._all_board_features[ei].name)\n",
    "        plt.imshow(o1['board'][:,:,ei], vmin=0, vmax=1 )"
   ]
  },
  {
   "cell_type": "code",
   "execution_count": 26,
   "id": "050a630e",
   "metadata": {
    "tags": []
   },
   "outputs": [
    {
     "data": {
      "image/png": "[encoded data removed]",
      "text/plain": [
       "<Figure size 3000x23000 with 67 Axes>"
      ]
     },
     "metadata": {},
     "output_type": "display_data"
    }
   ],
   "source": [
    "plot()"
   ]
  },
  {
   "cell_type": "code",
   "execution_count": null,
   "id": "bbdf868a",
   "metadata": {
    "tags": []
   },
   "outputs": [],
   "source": []
  },
  {
   "cell_type": "code",
   "execution_count": null,
   "id": "0ca0c4e3",
   "metadata": {
    "tags": []
   },
   "outputs": [],
   "source": []
  },
  {
   "cell_type": "code",
   "execution_count": null,
   "id": "fe15ee88",
   "metadata": {
    "tags": []
   },
   "outputs": [],
   "source": []
  },
  {
   "cell_type": "code",
   "execution_count": 27,
   "id": "16d8a61c",
   "metadata": {
    "tags": []
   },
   "outputs": [],
   "source": [
    "from tqdm import tqdm\n",
    "\n",
    "seed_everything(42)\n",
    "\n",
    "unit_class_sum = np.zeros((len(amaker.unit_actions),))\n",
    "factory_class_sum = np.zeros((len(amaker.factory_actions),))\n",
    "bid_class_sum = np.zeros((len(amaker.bid_actions),))\n",
    "\n"
   ]
  },
  {
   "cell_type": "code",
   "execution_count": 28,
   "id": "e02231b4",
   "metadata": {
    "tags": []
   },
   "outputs": [
    {
     "name": "stderr",
     "output_type": "stream",
     "text": [
      "100%|██████████| 37118/37118 [01:34<00:00, 393.87it/s]\n"
     ]
    }
   ],
   "source": [
    "# ix_list = np.arange(len(hf1[\"phase\"]))\n",
    "# np.random.shuffle(ix_list)\n",
    "\n",
    "# for current_compressed_step_ix in tqdm(ix_list[:int(len(ix_list)*config.weighting_rate)]):\n",
    "#     current_step = extract_step_h5_lz4(hf1, current_compressed_step_ix)\n",
    "#     player_id = None\n",
    "#     for sid in SUBMISSION_IDS:\n",
    "#         try:\n",
    "#             player_id = current_step['subm_ids'].index(sid)\n",
    "#             break\n",
    "#         except ValueError:\n",
    "#             continue\n",
    "#     assert player_id is not None\n",
    "#     player_name = f\"player_{player_id}\"\n",
    "#     wgs = WrappedGameState2(env.env_cfg, current_step['step'], current_step)\n",
    "#     t_p = amaker.inverse_actions(wgs, player_name, current_step['actions'][player_name])\n",
    "#     unit_class_sum += t_p[\"unit\"].sum(0).sum(0).numpy()\n",
    "#     factory_class_sum += t_p[\"factory\"].sum(0).sum(0).numpy()\n",
    "#     bid_class_sum += t_p[\"bid\"].numpy()\n",
    "    \n",
    "ix_list = np.arange(len(hf2[\"phase\"]))\n",
    "np.random.shuffle(ix_list)\n",
    "\n",
    "for current_compressed_step_ix in tqdm(ix_list[:int(len(ix_list)*config.weighting_rate)]):\n",
    "    current_step = extract_step_h5_lz4(hf2, current_compressed_step_ix)\n",
    "    player_id = None\n",
    "    for sid in SUBMISSION_IDS:\n",
    "        try:\n",
    "            player_id = current_step['subm_ids'].index(sid)\n",
    "            break\n",
    "        except ValueError:\n",
    "            continue\n",
    "    assert player_id is not None\n",
    "    player_name = f\"player_{player_id}\"\n",
    "    wgs = WrappedGameState2(env.env_cfg, current_step['step'], current_step)\n",
    "    t_p = amaker.inverse_actions(wgs, player_name, current_step['actions'][player_name])\n",
    "    unit_class_sum += t_p[\"unit\"].sum(0).sum(0).numpy()\n",
    "    factory_class_sum += t_p[\"factory\"].sum(0).sum(0).numpy()\n",
    "    bid_class_sum += t_p[\"bid\"].numpy()"
   ]
  },
  {
   "cell_type": "code",
   "execution_count": 29,
   "id": "cdaf727f",
   "metadata": {
    "tags": []
   },
   "outputs": [
    {
     "name": "stdout",
     "output_type": "stream",
     "text": [
      "unittype_move(HEAVY, 0) 143964.0\n",
      "unittype_move(HEAVY, 1) 26475.0\n",
      "unittype_move(HEAVY, 2) 23650.0\n",
      "unittype_move(HEAVY, 3) 25506.0\n",
      "unittype_move(HEAVY, 4) 23318.0\n",
      "unittype_dig(HEAVY) 102814.0\n",
      "unittype_transfer_cargo(HEAVY) 4516.0\n",
      "unittype_transfer_power(HEAVY) 80.0\n",
      "unittype_pickup_power(HEAVY) 17174.0\n",
      "unittype_recharge(HEAVY) 0.0\n",
      "unittype_move(LIGHT, 0) 208886.0\n",
      "unittype_move(LIGHT, 1) 135520.0\n",
      "unittype_move(LIGHT, 2) 124315.0\n",
      "unittype_move(LIGHT, 3) 125643.0\n",
      "unittype_move(LIGHT, 4) 123668.0\n",
      "unittype_dig(LIGHT) 152178.0\n",
      "unittype_transfer_cargo(LIGHT) 2329.0\n",
      "unittype_transfer_power(LIGHT) 15174.0\n",
      "unittype_pickup_power(LIGHT) 54942.0\n",
      "unittype_recharge(LIGHT) 0.0\n"
     ]
    }
   ],
   "source": [
    "for ua, us in zip(amaker.unit_actions, unit_class_sum):\n",
    "    print(ua, us)"
   ]
  },
  {
   "cell_type": "code",
   "execution_count": 30,
   "id": "429932aa",
   "metadata": {
    "tags": []
   },
   "outputs": [
    {
     "name": "stdout",
     "output_type": "stream",
     "text": [
      "factory_noop 52415.0\n",
      "factory_build_heavy 673.0\n",
      "factory_build_light 3425.0\n",
      "factory_water 63712.0\n"
     ]
    }
   ],
   "source": [
    "for fa, fs in zip(amaker.factory_actions, factory_class_sum):\n",
    "    print(fa, fs)"
   ]
  },
  {
   "cell_type": "code",
   "execution_count": 31,
   "id": "1205e922",
   "metadata": {
    "tags": []
   },
   "outputs": [
    {
     "name": "stdout",
     "output_type": "stream",
     "text": [
      "bid(0) 0.0\n",
      "bid(10) 0.0\n",
      "bid(20) 30.0\n"
     ]
    }
   ],
   "source": [
    "for ba, bs in zip(amaker.bid_actions, bid_class_sum):\n",
    "    print(ba, bs)"
   ]
  },
  {
   "cell_type": "code",
   "execution_count": null,
   "id": "d71eaa35",
   "metadata": {},
   "outputs": [],
   "source": []
  },
  {
   "cell_type": "code",
   "execution_count": 32,
   "id": "475f4cf9",
   "metadata": {
    "tags": []
   },
   "outputs": [],
   "source": [
    "bid_class_mean_sum = np.mean( bid_class_sum )\n",
    "unit_class_mean_sum = np.mean( unit_class_sum )\n",
    "factory_class_mean_sum = np.mean( factory_class_sum )"
   ]
  },
  {
   "cell_type": "code",
   "execution_count": 33,
   "id": "f80f486e",
   "metadata": {
    "tags": []
   },
   "outputs": [],
   "source": [
    "unit_class_weights = unit_class_mean_sum / (unit_class_sum+1)\n",
    "factory_class_weights = factory_class_mean_sum / (factory_class_sum+1)\n",
    "bid_class_weights = bid_class_mean_sum / (bid_class_sum+1)\n",
    "\n",
    "class_weights = dict(\n",
    "    unit = unit_class_weights.clip(0.02, 50),\n",
    "    factory = factory_class_weights.clip(0.02, 50),\n",
    "    bid = bid_class_weights.clip(0.02, 50),\n",
    "    placement = 1,\n",
    ")"
   ]
  },
  {
   "cell_type": "code",
   "execution_count": 34,
   "id": "03936f6e",
   "metadata": {
    "tags": []
   },
   "outputs": [
    {
     "name": "stdout",
     "output_type": "stream",
     "text": [
      "unittype_move(HEAVY, 0), 143964.0, 0.46\n",
      "unittype_move(HEAVY, 1), 26475.0, 2.47\n",
      "unittype_move(HEAVY, 2), 23650.0, 2.77\n",
      "unittype_move(HEAVY, 3), 25506.0, 2.57\n",
      "unittype_move(HEAVY, 4), 23318.0, 2.81\n",
      "unittype_dig(HEAVY), 102814.0, 0.64\n",
      "unittype_transfer_cargo(HEAVY), 4516.0, 14.50\n",
      "unittype_transfer_power(HEAVY), 80.0, 50.00\n",
      "unittype_pickup_power(HEAVY), 17174.0, 3.81\n",
      "unittype_recharge(HEAVY), 0.0, 50.00\n",
      "unittype_move(LIGHT, 0), 208886.0, 0.31\n",
      "unittype_move(LIGHT, 1), 135520.0, 0.48\n",
      "unittype_move(LIGHT, 2), 124315.0, 0.53\n",
      "unittype_move(LIGHT, 3), 125643.0, 0.52\n",
      "unittype_move(LIGHT, 4), 123668.0, 0.53\n",
      "unittype_dig(LIGHT), 152178.0, 0.43\n",
      "unittype_transfer_cargo(LIGHT), 2329.0, 28.11\n",
      "unittype_transfer_power(LIGHT), 15174.0, 4.32\n",
      "unittype_pickup_power(LIGHT), 54942.0, 1.19\n",
      "unittype_recharge(LIGHT), 0.0, 50.00\n",
      "factory_noop, 52415.0, 0.57\n",
      "factory_build_heavy, 673.0, 44.59\n",
      "factory_build_light, 3425.0, 8.77\n",
      "factory_water, 63712.0, 0.47\n"
     ]
    }
   ],
   "source": [
    "for ua, us, ucs in zip(amaker.unit_actions, class_weights[\"unit\"], unit_class_sum):\n",
    "    print(f\"{ua}, {ucs}, {us:.2f}\")\n",
    "    \n",
    "for ua, us, ucs in zip(amaker.factory_actions, class_weights[\"factory\"], factory_class_sum):\n",
    "    print(f\"{ua}, {ucs}, {us:.2f}\")\n"
   ]
  },
  {
   "cell_type": "code",
   "execution_count": null,
   "id": "d39753a8",
   "metadata": {},
   "outputs": [],
   "source": []
  },
  {
   "cell_type": "code",
   "execution_count": null,
   "id": "dd67ba98",
   "metadata": {},
   "outputs": [],
   "source": []
  },
  {
   "cell_type": "code",
   "execution_count": null,
   "id": "cb123b68",
   "metadata": {},
   "outputs": [],
   "source": []
  },
  {
   "cell_type": "code",
   "execution_count": null,
   "id": "73a6625e",
   "metadata": {},
   "outputs": [],
   "source": []
  },
  {
   "cell_type": "code",
   "execution_count": null,
   "id": "53fabc9b",
   "metadata": {},
   "outputs": [],
   "source": []
  },
  {
   "cell_type": "code",
   "execution_count": 35,
   "id": "34ebd181",
   "metadata": {
    "tags": []
   },
   "outputs": [],
   "source": [
    "from common.symmetric_layers_torch import SymmetricConv2d\n",
    "from torch.distributions import Categorical, Multinomial\n",
    "import torch.nn.functional as F\n",
    "import torch\n",
    "from torch import nn\n",
    "\n",
    "def to_device(x, device, non_blocking=False):\n",
    "    if isinstance(x, dict):\n",
    "        return {k: to_device(v, device, non_blocking) for k, v in x.items()}\n",
    "    return x.to(device, non_blocking=non_blocking)\n",
    "\n",
    "\n",
    "class Transpose(nn.Module):\n",
    "    def __init__(self, permutation):\n",
    "        super().__init__()\n",
    "        self.permutation = permutation\n",
    "\n",
    "    def forward(self, x):\n",
    "        return x.permute(self.permutation)\n",
    "\n",
    "    \n",
    "\n",
    "class Scaling(nn.Module):\n",
    "    def __init__(self, in_features):\n",
    "        super().__init__()\n",
    "        self.linear = nn.Conv2d(in_features, in_features, 1, groups=in_features, bias=False)\n",
    "\n",
    "    def forward(self, x):\n",
    "        x = self.linear(x)\n",
    "        return x\n",
    "    \n",
    "\n",
    "class Concat(nn.Module):\n",
    "    def __init__(self, dim):\n",
    "        super().__init__()\n",
    "        self.dim = dim\n",
    "    \n",
    "    def forward(self, x):\n",
    "        return torch.cat(x, dim=self.dim)\n",
    "    \n",
    "\n",
    "class ConvRelu(nn.Module):\n",
    "    def __init__(self, in_chan, out_chan, size, batch_norm):\n",
    "        super().__init__()\n",
    "        self.residual_conv = nn.Conv2d(in_chan, out_chan, (size,size), padding=\"same\")\n",
    "        self.bn = nn.BatchNorm2d(out_chan) if batch_norm else nn.Identity(out_chan)\n",
    "\n",
    "    def forward(self, x):\n",
    "        res = self.residual_conv(x)\n",
    "        res = self.bn(res)\n",
    "        res = F.relu(res)\n",
    "        return res\n",
    "\n",
    "    \n",
    "class ResidualDualConvRelu(nn.Module):\n",
    "    def __init__(self, in_chan, size, batch_norm):\n",
    "        super().__init__()\n",
    "        self.residual_conv = nn.Conv2d(in_chan, in_chan, (size,size), padding=\"same\")\n",
    "        self.bn1 = nn.BatchNorm2d(in_chan) if batch_norm else nn.Identity(out_chan)\n",
    "        self.residual_conv2 = nn.Conv2d(in_chan, in_chan, (size,size), padding=\"same\")\n",
    "        self.bn2 = nn.BatchNorm2d(in_chan) if batch_norm else nn.Identity(out_chan)\n",
    "\n",
    "    def forward(self, x):\n",
    "        res = self.residual_conv(x)\n",
    "        res = self.bn1(res)\n",
    "        res = F.relu(res)\n",
    "        res = self.residual_conv2(res)\n",
    "        res = self.bn2(res)\n",
    "        res = res + x\n",
    "        res = F.relu(res)\n",
    "        return res\n",
    "\n",
    "\n",
    "class FeatureExtractor(nn.Module):\n",
    "    def __init__(self, in_chan, features, layers, batch_norm):\n",
    "        super().__init__()\n",
    "        self.blks = nn.Sequential(\n",
    "            ConvRelu(in_chan, features, 1, batch_norm=batch_norm),\n",
    "            *(ResidualDualConvRelu(features, 3, batch_norm=batch_norm) for _ in range(layers)),\n",
    "        )\n",
    "\n",
    "    def forward(self, state):\n",
    "        return self.blks(state)\n",
    "\n",
    "    \n",
    "def estimate_loss_prob(pred, target, amask, cw):\n",
    "    res = {}\n",
    "    for k in pred:\n",
    "        loss_grid = -pred[k].log() * target[k] * amask[k] * cw[k]\n",
    "        # print(loss_grid.shape)\n",
    "        loss = loss_grid.sum() / target[k].shape[0]\n",
    "        res[k] = loss\n",
    "    return res\n",
    "\n",
    "    \n",
    "def estimate_loss_logprob(logpred, target, amask, cw):\n",
    "    res = {}\n",
    "    for k in logpred:\n",
    "        loss_grid = -logpred[k] * target[k] * amask[k] * cw[k]\n",
    "        # print(loss_grid.shape)\n",
    "        loss = loss_grid.sum() / target[k].shape[0]\n",
    "        res[k] = loss\n",
    "    return res\n",
    "\n",
    "class ModelBase(nn.Module):\n",
    "    def __init__(self):\n",
    "        super().__init__()\n",
    "        self.register_buffer(\"placeholder\", torch.tensor(1e-5, requires_grad=False))\n",
    "        self.register_buffer(\"neginf\", torch.tensor(-1e20, dtype=torch.float, requires_grad=False))\n",
    "        self.register_buffer(\"one\", torch.tensor(1, dtype=torch.float, requires_grad=False))\n",
    "        self.register_buffer(\"zero\", torch.tensor(0, dtype=torch.float, requires_grad=False))\n",
    "        self.register_buffer(\"smallfloat\", torch.tensor(1e-45, dtype=torch.float, requires_grad=False))\n",
    "        \n",
    "    @torch.jit.export\n",
    "    def forward(self, x_game, x_board):\n",
    "        raise NotImplementedError\n",
    "    \n",
    "    def softmax_logprob(self, logits, amask):\n",
    "        res = {}\n",
    "        for k in logits:\n",
    "            logits_masked = logits[k]\n",
    "            logprobs = torch.log_softmax(logits_masked, dim=-1) # + self.placeholder\n",
    "            res[k] = logprobs\n",
    "        return res\n",
    "    \n",
    "    def softmax_raw(self, logits, amask):\n",
    "        res = {}\n",
    "        for k in logits:\n",
    "            logits_masked = logits[k]\n",
    "            probs = torch.softmax(logits_masked, dim=-1) # + self.placeholder\n",
    "            res[k] = probs\n",
    "        return res\n",
    "    \n",
    "    def softmax_masked(self, logits, amask):\n",
    "        res = {}\n",
    "        for k in logits:\n",
    "            block_mask = amask[k].sum(-1, keepdims=True)>0\n",
    "            logits_masked = torch.where(  torch.where( block_mask.bool(), amask[k], True ).bool(), logits[k], self.neginf)\n",
    "            probs = torch.softmax(logits_masked, dim=-1) + self.placeholder\n",
    "            res[k] = probs\n",
    "        return res\n",
    "    \n",
    "    def softmax_logprob_masked(self, logits, amask):\n",
    "        res = {}\n",
    "        for k in logits:\n",
    "#             block_mask = amask[k].sum(-1, keepdims=True)>0\n",
    "            logits_masked = logits[k] + (amask[k] + self.smallfloat).log()\n",
    "            logprobs = torch.log_softmax(logits_masked, dim=-1) # + self.placeholder\n",
    "            res[k] = logprobs\n",
    "        return res\n",
    "    \n"
   ]
  },
  {
   "cell_type": "code",
   "execution_count": 36,
   "id": "a1bad6bf",
   "metadata": {
    "tags": []
   },
   "outputs": [],
   "source": [
    "class Policy_Bid(ModelBase):\n",
    "    def __init__(self, in_channels_grid, in_channels_game, out_channels_unit, out_channels_factory, out_channels_bid):\n",
    "        super().__init__()\n",
    "\n",
    "        fe_bid_features = 16\n",
    "        \n",
    "        self.fe_bid = nn.Sequential(\n",
    "            nn.Conv2d(in_channels_grid, 32, (1,1), padding=\"same\"),\n",
    "            nn.ReLU(),\n",
    "            FeatureExtractor(32, fe_bid_features, 12, batch_norm=True)\n",
    "        )\n",
    "\n",
    "        self.policy_bid = nn.Sequential(\n",
    "            nn.Conv2d(fe_bid_features, 1, (1, 1), padding=\"same\"),\n",
    "            nn.ReLU(),\n",
    "            nn.Flatten(),\n",
    "            nn.Linear(48*48, out_channels_bid)\n",
    "        )\n",
    "    \n",
    "    @torch.jit.export\n",
    "    def forward(self, x_game, x_board):\n",
    "        board = x_board.permute((0,3,1,2))\n",
    "        fe_bid = self.fe_bid(board)\n",
    "        logits_bid = self.policy_bid(fe_bid)\n",
    "        return dict(\n",
    "            bid=logits_bid, \n",
    "        )\n",
    "\n",
    "\n",
    "class Policy_Placement(ModelBase):\n",
    "    def __init__(self, in_channels_grid, in_channels_game, out_channels_unit, out_channels_factory, out_channels_bid):\n",
    "        super().__init__()\n",
    "\n",
    "        fe_placement_features = 16\n",
    "        \n",
    "        self.fe_placement = nn.Sequential(\n",
    "            nn.Conv2d(in_channels_grid, 64, (1,1), padding=\"same\" ),\n",
    "            nn.BatchNorm2d(64),\n",
    "            nn.ReLU(),\n",
    "            FeatureExtractor(64, fe_placement_features, 24, batch_norm=True)\n",
    "        )\n",
    "        \n",
    "        self.policy_placement = nn.Sequential(\n",
    "            nn.Conv2d(fe_placement_features, 1, (1, 1), padding=\"same\"),\n",
    "            Transpose((0, 2, 3, 1)),\n",
    "            nn.Flatten(),\n",
    "        )\n",
    "\n",
    "    @torch.jit.export\n",
    "    def forward(self, x_game, x_board):\n",
    "        board = x_board.permute((0,3,1,2))\n",
    "        fe_placement = self.fe_placement(board)\n",
    "        logits_placement = self.policy_placement(fe_placement)\n",
    "        return dict(\n",
    "            placement=logits_placement,\n",
    "        )\n",
    "\n",
    "\n",
    "class Policy_Game(ModelBase):\n",
    "    def __init__(self, in_channels_grid, in_channels_game, out_channels_unit, out_channels_factory, out_channels_bid):\n",
    "        super().__init__()\n",
    "\n",
    "        fe_game_features = 64\n",
    "        fe_f_features = 16\n",
    "\n",
    "        self.fe_game = nn.Sequential(\n",
    "            nn.Conv2d(in_channels_grid, 128, (1, 1), padding=\"same\"),\n",
    "            nn.BatchNorm2d(128),\n",
    "            nn.ReLU(),\n",
    "            FeatureExtractor(128, fe_game_features, 16, batch_norm=True)\n",
    "        )\n",
    "\n",
    "        self.fe_f = nn.Sequential(\n",
    "            nn.Conv2d(in_channels_grid, 64, (1, 1), padding=\"same\"),\n",
    "            nn.BatchNorm2d(64),\n",
    "            nn.ReLU(),\n",
    "            FeatureExtractor(64, fe_f_features, 12, batch_norm=True)\n",
    "        )\n",
    "\n",
    "        self.policy_unit = nn.Sequential(\n",
    "            nn.Conv2d(fe_game_features, 64, (1, 1), padding=\"same\"),\n",
    "            nn.BatchNorm2d(64),\n",
    "            nn.ReLU(),\n",
    "            nn.Conv2d(64, out_channels_unit, (1, 1), padding=\"same\"),\n",
    "            Transpose((0, 2, 3, 1)),\n",
    "        )\n",
    "\n",
    "        self.policy_factory = nn.Sequential(\n",
    "            nn.Conv2d(fe_f_features, 64, (1, 1), padding=\"same\"),\n",
    "            nn.BatchNorm2d(64),\n",
    "            nn.ReLU(),\n",
    "            nn.Conv2d(64, out_channels_factory, (1, 1), padding=\"same\"),\n",
    "            Transpose((0, 2, 3, 1)),\n",
    "        )\n",
    "\n",
    "    @torch.jit.export\n",
    "    def forward(self, x_game, x_board):\n",
    "        board = x_board.permute((0, 3, 1, 2))\n",
    "\n",
    "        fe_game = self.fe_game(board)\n",
    "        fe_f = self.fe_f(board)\n",
    "\n",
    "        logits_unit = self.policy_unit(fe_game)\n",
    "        logits_factory = self.policy_factory(fe_f)\n",
    "\n",
    "        return dict(\n",
    "            unit=logits_unit,\n",
    "            factory=logits_factory,\n",
    "        )\n",
    "\n",
    "\n"
   ]
  },
  {
   "cell_type": "code",
   "execution_count": null,
   "id": "5eb963a3",
   "metadata": {},
   "outputs": [],
   "source": []
  },
  {
   "cell_type": "code",
   "execution_count": null,
   "id": "ad2f6a24",
   "metadata": {},
   "outputs": [],
   "source": []
  },
  {
   "cell_type": "code",
   "execution_count": null,
   "id": "2e48dd61",
   "metadata": {},
   "outputs": [],
   "source": []
  },
  {
   "cell_type": "code",
   "execution_count": null,
   "id": "5301b750",
   "metadata": {},
   "outputs": [],
   "source": []
  },
  {
   "cell_type": "code",
   "execution_count": null,
   "id": "d2635d2a",
   "metadata": {},
   "outputs": [],
   "source": []
  },
  {
   "cell_type": "code",
   "execution_count": 37,
   "id": "46cd08b5",
   "metadata": {
    "tags": []
   },
   "outputs": [],
   "source": [
    "from torch.utils.data import Dataset, DataLoader\n",
    "\n",
    "class MyDataset(Dataset):\n",
    "    def __init__(self, hf, indices, subm_ids):\n",
    "        self.hf = hf\n",
    "        self.indices = indices\n",
    "        self.subm_ids = subm_ids\n",
    " \n",
    "    def __len__(self):\n",
    "        return len(self.indices)\n",
    "\n",
    "    def __getitem__(self,idx):\n",
    "        current_step = extract_step_h5_lz4(self.hf, self.indices[idx])\n",
    "        \n",
    "        player_id = None\n",
    "        for sid in self.subm_ids:\n",
    "            try:\n",
    "                player_id = current_step['subm_ids'].index(sid)\n",
    "                break\n",
    "            except ValueError:\n",
    "                continue\n",
    "        assert player_id is not None\n",
    "        \n",
    "        player_name = f\"player_{player_id}\"\n",
    "        opponent_id = 1 - player_id\n",
    "        opponent_name = f\"player_{opponent_id}\"\n",
    "        \n",
    "        flip_x = random.random() < 0.5\n",
    "        flip_y = random.random() < 0.5\n",
    "        rot90 = random.random() < 0.5\n",
    "        \n",
    "        obs = current_step\n",
    "        obs_t = flip_transform_obs_nocopy(obs, flip_x, flip_y, rot90)\n",
    "        act_t = flip_transform_actions_nocopy(current_step['actions'][player_name], flip_x, flip_y, rot90)\n",
    "            \n",
    "        wgs = WrappedGameState2(env.env_cfg, current_step['step'], obs_t)\n",
    "        \n",
    "        o = fmaker.collect_features(wgs, player_name)\n",
    "        am_p = amaker.make_actions_mask(wgs, player_name)\n",
    "        t_p = amaker.inverse_actions(wgs, player_name, act_t)\n",
    "        return dict(obs=o, amask=am_p, target=t_p) \n",
    "    \n",
    "\n",
    "    \n",
    "class MyDatasetMerge(Dataset):\n",
    "    def __init__(self, datasets):\n",
    "        self.datasets = datasets\n",
    "        self.ds_lens = [len(ds) for ds in datasets]\n",
    "        self.total_len = sum(self.ds_lens)\n",
    " \n",
    "    def __len__(self):\n",
    "        return self.total_len\n",
    "\n",
    "    def __getitem__(self,idx):\n",
    "        idx_r = idx\n",
    "        for ds, dsl in zip(self.datasets, self.ds_lens):\n",
    "            if idx_r >= dsl:\n",
    "                idx_r -= dsl\n",
    "                continue\n",
    "            return ds[idx_r]    \n",
    "    \n",
    "    \n",
    "# from multiprocessing.pool import ThreadPool as Pool\n",
    "from multiprocessing import Pool\n",
    "\n",
    "\n",
    "def to_numpy(x):\n",
    "    if isinstance(x, dict):\n",
    "        return {k: to_numpy(v) for k, v in x.items()}\n",
    "    else:\n",
    "        return x.numpy()\n",
    "\n",
    "def to_torch(x):\n",
    "    if isinstance(x, dict):\n",
    "        return {k: to_torch(v) for k, v in x.items()}\n",
    "    else:\n",
    "        return torch.as_tensor(x)\n",
    "\n",
    "def make_data(args):\n",
    "    current_step_stc, subm_id, flip_x, flip_y, rot90 = args\n",
    "    current_step = decompress_step(current_step_stc)\n",
    "    player_id = current_step['subm_ids'].index(subm_id)\n",
    "    player_name = f\"player_{player_id}\"\n",
    "    opponent_id = 1 - player_id\n",
    "    opponent_name = f\"player_{opponent_id}\"\n",
    "    obs = current_step\n",
    "    obs_t = flip_transform_obs_nocopy(obs, flip_x, flip_y, rot90)\n",
    "    act_t = flip_transform_actions_nocopy(current_step['actions'][player_name], flip_x, flip_y, rot90)\n",
    "    wgs = WrappedGameState2(env.env_cfg, current_step['step'], obs_t)\n",
    "\n",
    "    o = fmaker.collect_features(wgs, player_name)\n",
    "    am_p = amaker.make_actions_mask(wgs, player_name)\n",
    "    t_p = amaker.inverse_actions(wgs, player_name, act_t)\n",
    "    return dict(obs=to_numpy(o), amask=to_numpy(am_p), target=to_numpy(t_p))\n",
    "\n",
    "\n",
    "class MyDatasetRaw(Dataset):\n",
    "    def __init__(self, hf, indices, subm_id):\n",
    "        self.hf = hf\n",
    "        self.subm_id = subm_id\n",
    "        \n",
    "        tasks = []\n",
    "        print(\"extracting\")\n",
    "        for idx in tqdm(indices):\n",
    "            flip_x = 0\n",
    "            flip_y = 0\n",
    "            rot90 = 0\n",
    "            z = extract_step_h5_lz4_compressed(self.hf, idx)\n",
    "            # tasks.append(( z, self.subm_id, flip_x, flip_y, rot90))\n",
    "            \n",
    "            for flip_x in range(2):\n",
    "                for flip_y in range(2):\n",
    "                    for rot90 in range(2):\n",
    "                        tasks.append(( z, self.subm_id, flip_x, flip_y, rot90))\n",
    "        \n",
    "        self.data = []\n",
    "        with Pool(16) as pool:\n",
    "            for result in tqdm(pool.imap_unordered(make_data, tasks), total=len(tasks)):\n",
    "                self.data += [to_torch(result)]\n",
    "            \n",
    "        print(len(self.data))\n",
    " \n",
    "    def __len__(self):\n",
    "        return len(self.data)\n",
    "\n",
    "    def __getitem__(self,idx):\n",
    "        return self.data[idx]"
   ]
  },
  {
   "cell_type": "code",
   "execution_count": null,
   "id": "730d3708",
   "metadata": {},
   "outputs": [],
   "source": []
  },
  {
   "cell_type": "code",
   "execution_count": null,
   "id": "27e9372e",
   "metadata": {},
   "outputs": [],
   "source": []
  },
  {
   "cell_type": "code",
   "execution_count": null,
   "id": "5ccadab3",
   "metadata": {},
   "outputs": [],
   "source": []
  },
  {
   "cell_type": "code",
   "execution_count": 38,
   "id": "42e1fe4d",
   "metadata": {
    "tags": []
   },
   "outputs": [],
   "source": [
    "def _report(lbl, TN, FP, FN, TP):\n",
    "    TPR = TP/(TP+FN) if (TP+FN)!=0 else 0\n",
    "    TNR = TN/(TN+FP) if (TN+FP)!=0 else 0\n",
    "    PPV = TP/(TP+FP) if (TP+FP)!=0 else 0\n",
    "    report = {'label': lbl, \n",
    "              'Precision': PPV,\n",
    "              'Recall': TPR, \n",
    "              'Sensitivity': TPR,\n",
    "              'Specificity': TNR,\n",
    "              'F1 Score': 2*(PPV*TPR)/(PPV+TPR+0.0001),\n",
    "              'TP': TP, 'TN': TN, 'FP': FP, 'FN': FN, \n",
    "              'TPR': TPR, \n",
    "              'TNR' : TNR, \n",
    "              'FPR': FP/(FP+TN) if (FP+TN)!=0 else 0,\n",
    "              'FNR': FN/(FN+TP) if (FN+TP)!=0 else 0,\n",
    "              'PPV': PPV, \n",
    "             }\n",
    "    return report\n",
    "\n",
    "def multi_classification_report(conf_mat, labels=None, as_frame=False):\n",
    "    \"\"\"\n",
    "    Args:\n",
    "        y_true (ndarray)\n",
    "        y_pred (ndarray)\n",
    "        labels (list)\n",
    "        encoded_labels (bool): Need to be False if labels are not one hot encoded\n",
    "        as_fram (bool): If True, return type will be DataFrame\n",
    "        \n",
    "    Return:\n",
    "        report (dict)\n",
    "    \"\"\"\n",
    "    \n",
    "    report = dict()\n",
    "    if labels == None:\n",
    "        counter = np.arange(len(conf_mat))\n",
    "    else:\n",
    "        counter = labels\n",
    "        \n",
    "    TOTAL_SUM = conf_mat.sum()\n",
    "    for i, name in enumerate(counter):\n",
    "        TP = conf_mat[i,i]\n",
    "        FP = conf_mat[:,i].sum() - TP\n",
    "        FN = conf_mat[i,:].sum() - TP\n",
    "        TN = TOTAL_SUM - FP - FN - TP\n",
    "        rep =  _report(name, TN, FP, FN, TP)\n",
    "        report[name] = rep\n",
    "    \n",
    "    if as_frame:\n",
    "        return pd.DataFrame(report).T\n",
    "    return report"
   ]
  },
  {
   "cell_type": "code",
   "execution_count": null,
   "id": "e196f5be",
   "metadata": {},
   "outputs": [],
   "source": []
  },
  {
   "cell_type": "code",
   "execution_count": null,
   "id": "e7362f10",
   "metadata": {},
   "outputs": [],
   "source": []
  },
  {
   "cell_type": "code",
   "execution_count": null,
   "id": "ec3fc367",
   "metadata": {},
   "outputs": [],
   "source": [
    "\n"
   ]
  },
  {
   "cell_type": "code",
   "execution_count": null,
   "id": "c61b2527",
   "metadata": {},
   "outputs": [],
   "source": []
  },
  {
   "cell_type": "code",
   "execution_count": null,
   "id": "3ee3cf5b",
   "metadata": {
    "tags": []
   },
   "outputs": [],
   "source": []
  },
  {
   "cell_type": "code",
   "execution_count": null,
   "id": "2efabd2a",
   "metadata": {},
   "outputs": [],
   "source": []
  },
  {
   "cell_type": "code",
   "execution_count": null,
   "id": "581bc7cd",
   "metadata": {
    "tags": []
   },
   "outputs": [],
   "source": []
  },
  {
   "cell_type": "code",
   "execution_count": null,
   "id": "6e054440",
   "metadata": {},
   "outputs": [],
   "source": []
  },
  {
   "cell_type": "code",
   "execution_count": 39,
   "id": "c9f1fb81",
   "metadata": {
    "tags": []
   },
   "outputs": [],
   "source": [
    "# import resource\n",
    "# rlimit = resource.getrlimit(resource.RLIMIT_NOFILE)\n",
    "# resource.setrlimit(resource.RLIMIT_NOFILE, (4096, rlimit[1]))\n",
    "# torch.multiprocessing.set_sharing_strategy('file_system')"
   ]
  },
  {
   "cell_type": "code",
   "execution_count": 40,
   "id": "e8d31dbb",
   "metadata": {
    "tags": []
   },
   "outputs": [
    {
     "name": "stdout",
     "output_type": "stream",
     "text": [
      "0 761 76\n",
      "1 5232 523\n",
      "2 736382 73638\n"
     ]
    }
   ],
   "source": [
    "dataset_dict = {}\n",
    "\n",
    "seed_everything(42)\n",
    "\n",
    "for phase in [0,1,2]:\n",
    "#     ix_list = [ei for ei, p in enumerate(hf1[\"phase\"][:]) if p == phase]\n",
    "#     np.random.shuffle(ix_list)\n",
    "#     ix_list = ix_list[:config.DATASET_LIMIT]\n",
    "#     ts_len = int(len(ix_list) * 0.1)\n",
    "#     print(phase, len(ix_list), ts_len)\n",
    "\n",
    "#     ds_train1 = MyDataset(hf1, ix_list[:-ts_len], SUBMISSION_IDS)\n",
    "#     ds_test1 = MyDataset(hf1, ix_list[-ts_len:], SUBMISSION_IDS)\n",
    "    \n",
    "    ix_list = [ei for ei, p in enumerate(hf2[\"phase\"][:]) if p == phase]\n",
    "    np.random.shuffle(ix_list)\n",
    "    ix_list = ix_list[:config.DATASET_LIMIT]\n",
    "    ts_len = int(len(ix_list) * 0.1)\n",
    "    print(phase, len(ix_list), ts_len)\n",
    "\n",
    "    ds_train2 = MyDataset(hf2, ix_list[:-ts_len], SUBMISSION_IDS)\n",
    "    ds_test2 = MyDataset(hf2, ix_list[-ts_len:], SUBMISSION_IDS)\n",
    "    \n",
    "    ds_train = MyDatasetMerge([ds_train2])\n",
    "    ds_test = MyDatasetMerge([ds_test2])\n",
    "        \n",
    "    dataset_dict[phase] = (ds_train, ds_test)"
   ]
  },
  {
   "cell_type": "code",
   "execution_count": null,
   "id": "74674227",
   "metadata": {},
   "outputs": [],
   "source": []
  },
  {
   "cell_type": "code",
   "execution_count": null,
   "id": "9c47062c",
   "metadata": {},
   "outputs": [],
   "source": []
  },
  {
   "cell_type": "code",
   "execution_count": null,
   "id": "d4708e39",
   "metadata": {},
   "outputs": [],
   "source": []
  },
  {
   "cell_type": "code",
   "execution_count": null,
   "id": "8cbd708d",
   "metadata": {},
   "outputs": [],
   "source": []
  },
  {
   "cell_type": "code",
   "execution_count": null,
   "id": "b153dd70",
   "metadata": {},
   "outputs": [],
   "source": []
  },
  {
   "cell_type": "code",
   "execution_count": 41,
   "id": "21a1d938",
   "metadata": {
    "tags": []
   },
   "outputs": [],
   "source": [
    "def train_epoch(epoch_i, policy, optimizer, scaler, loader, cw, key):\n",
    "    t_start = time.time()\n",
    "    amp_enabled = amp_dtype in (torch.float16, torch.bfloat16)\n",
    "    \n",
    "    print('loader', len(loader))\n",
    "    policy.train()\n",
    "\n",
    "    total_loss_by_type = defaultdict(float)\n",
    "    total_loss_avg_by_type = defaultdict(float)\n",
    "    rolling_loss_by_type = defaultdict(float)\n",
    "    rolling_loss_avg_by_type = defaultdict(float)\n",
    "    rolling_t = time.time()\n",
    "\n",
    "    roll_wnd = 100\n",
    "\n",
    "    for batch_i, data in enumerate(tqdm(loader)):\n",
    "        obs = to_device(data[\"obs\"], device, True)\n",
    "        amask = to_device(data[\"amask\"], device, True)\n",
    "        target = to_device(data[\"target\"], device, True)\n",
    "        \n",
    "        target_amask_sum = {k: (target[k]*amask[k]).sum().item() + 0.01 for k in target}\n",
    "        # zero the parameter gradients\n",
    "        optimizer.zero_grad()\n",
    "\n",
    "        with autocast(enabled=amp_enabled, dtype=amp_dtype):\n",
    "            logits = policy.forward(obs[\"game\"], obs[\"board\"])\n",
    "            logprobs = policy.softmax_masked(logits, amask)\n",
    "            loss_by_type = estimate_loss_prob(logprobs, target, amask, cw)\n",
    "            \n",
    "        loss = 0\n",
    "        for k in loss_by_type:\n",
    "            loss += loss_by_type[k] * target[k].shape[0]/target_amask_sum[k]\n",
    "            \n",
    "        if amp_enabled:\n",
    "            scaler.scale(loss).backward()\n",
    "            scaler.unscale_(optimizer)\n",
    "            # torch.nn.utils.clip_grad_norm_(policy.parameters(), 1)\n",
    "            scaler.step(optimizer)\n",
    "            scaler.update()\n",
    "        else:\n",
    "            loss.backward()\n",
    "            # torch.nn.utils.clip_grad_norm_(policy.parameters(), 1)\n",
    "            optimizer.step()\n",
    "\n",
    "        # print statistics\n",
    "        batch_loss_by_type = {k: v.item() for k, v in loss_by_type.items()}\n",
    "        for k, v in batch_loss_by_type.items():\n",
    "            total_loss_by_type[k] += v\n",
    "            total_loss_avg_by_type[k] += v * target[k].shape[0]/target_amask_sum[k]\n",
    "            rolling_loss_by_type[k] += v\n",
    "            rolling_loss_avg_by_type[k] += v * target[k].shape[0]/target_amask_sum[k]\n",
    "\n",
    "        if (batch_i+1) % roll_wnd == 0:\n",
    "            rolling_stats = {}\n",
    "            rolling_stats[f'{key}/stats/duration'] = time.time() - rolling_t\n",
    "            for k, v in rolling_loss_by_type.items():\n",
    "                rolling_stats[f'{key}/loss/{k}'] = v/roll_wnd\n",
    "            for k, v in rolling_loss_avg_by_type.items():\n",
    "                rolling_stats[f'{key}/loss_avg/{k}'] = v/roll_wnd\n",
    "                \n",
    "            print(\"loss\", batch_i, rolling_stats)\n",
    "            rolling_loss_by_type = defaultdict(float)\n",
    "            rolling_loss_avg_by_type = defaultdict(float)\n",
    "            rolling_t = time.time()\n",
    "\n",
    "\n",
    "    out_stats = {}\n",
    "    out_stats[f'{key}/stats/epoch_duration'] = time.time() - t_start\n",
    "    for k, v in total_loss_by_type.items():\n",
    "        out_stats[f'{key}/loss/{k}'] = v/len(loader)\n",
    "    for k, v in total_loss_avg_by_type.items():\n",
    "        out_stats[f'{key}/loss_avg/{k}'] = v/len(loader)\n",
    "    print(out_stats)\n",
    "    return out_stats\n",
    "\n",
    "\n",
    "@torch.no_grad()\n",
    "def eval_epoch(epoch_i, policy, loader, cw, class_labels, key):\n",
    "    t_start = time.time()\n",
    "    \n",
    "    print('loader', len(loader), 'bs')\n",
    "    policy.eval()\n",
    "    \n",
    "    total_loss_by_type = defaultdict(float)\n",
    "    total_loss_avg_by_type = defaultdict(float)\n",
    "    rolling_loss_by_type = defaultdict(float)\n",
    "    rolling_loss_avg_by_type = defaultdict(float)\n",
    "    rolling_t = time.time()\n",
    "\n",
    "    total_confusion_mat_dict = {}\n",
    "    for k, v in class_labels.items():\n",
    "        total_confusion_mat_dict[k] = np.zeros((len(v), len(v)), dtype=int)\n",
    "\n",
    "    roll_wnd = 100\n",
    "\n",
    "    for batch_i, data in enumerate(tqdm(loader)):\n",
    "        obs = to_device(data[\"obs\"], device, True)\n",
    "        amask = to_device(data[\"amask\"], device, True)\n",
    "        target = to_device(data[\"target\"], device, True)\n",
    "        target_amask_sum = {k: (target[k]*amask[k]).sum().item() + 0.01 for k in target}\n",
    "\n",
    "        logits = policy.forward(obs[\"game\"], obs[\"board\"])\n",
    "        logprobs = policy.softmax_masked(logits, amask)\n",
    "        loss_by_type = estimate_loss_prob(logprobs, target, amask, cw)\n",
    "\n",
    "        loss = 0\n",
    "        for k in loss_by_type:\n",
    "            loss += loss_by_type[k] * target[k].shape[0]/target_amask_sum[k]\n",
    "\n",
    "        # print statistics\n",
    "        batch_loss_by_type = {k: v.item() for k, v in loss_by_type.items()}\n",
    "        for k, v in batch_loss_by_type.items():\n",
    "            total_loss_by_type[k] += v\n",
    "            total_loss_avg_by_type[k] += v * target[k].shape[0]/target_amask_sum[k]\n",
    "            rolling_loss_by_type[k] += v\n",
    "            rolling_loss_avg_by_type[k] += v * target[k].shape[0]/target_amask_sum[k]\n",
    "\n",
    "        for k, mat in total_confusion_mat_dict.items():\n",
    "            probs_argmax_unit = torch.argmax(logprobs[k], dim=-1)\n",
    "            target_argmax_unit = torch.argmax(target[k] * amask[k], dim=-1)\n",
    "            target_unit = target[k]\n",
    "            block_mask_unit = target[k].sum(-1)>0\n",
    "            active_units = torch.argwhere(block_mask_unit)\n",
    "            for i, x, y in active_units:\n",
    "                pred = probs_argmax_unit[i,x,y]\n",
    "                tgt  = target_argmax_unit[i,x,y]\n",
    "                mat[tgt, pred] += 1\n",
    "\n",
    "        if (batch_i+1) % roll_wnd == 0:\n",
    "            rolling_stats = {}\n",
    "            rolling_stats[f'{key}/stats/roll_duration'] = time.time() - rolling_t\n",
    "            for k, v in rolling_loss_by_type.items():\n",
    "                rolling_stats[f'{key}/loss/{k}'] = v/roll_wnd\n",
    "            for k, v in rolling_loss_avg_by_type.items():\n",
    "                rolling_stats[f'{key}/loss_avg/{k}'] = v/roll_wnd\n",
    "            print(\"loss\", batch_i, rolling_stats)\n",
    "            rolling_loss_by_type = defaultdict(float)\n",
    "            rolling_loss_avg_by_type = defaultdict(float)\n",
    "            rolling_t = time.time()\n",
    "\n",
    "    out_stats = {}\n",
    "    out_stats[f'{key}/stats/epoch_duration'] = time.time() - t_start\n",
    "    for k, v in total_loss_by_type.items():\n",
    "        out_stats[f'{key}/loss/{k}'] = v/len(loader)\n",
    "    for k, v in total_loss_avg_by_type.items():\n",
    "        out_stats[f'{key}/loss_avg/{k}'] = v/len(loader)\n",
    "    print(out_stats)\n",
    "    \n",
    "    for k, mat in total_confusion_mat_dict.items():\n",
    "        # if np.sum(m) == 0:\n",
    "        #     continue\n",
    "    \n",
    "        print(k)\n",
    "        print(mat)\n",
    "\n",
    "        if k not in class_labels:\n",
    "            continue\n",
    "            \n",
    "        df = multi_classification_report(mat, class_labels[k], True)\n",
    "        out_stats[f'{key}/report/{k}'] = df\n",
    "\n",
    "    return out_stats\n"
   ]
  },
  {
   "cell_type": "code",
   "execution_count": null,
   "id": "a49264cb",
   "metadata": {},
   "outputs": [],
   "source": []
  },
  {
   "cell_type": "code",
   "execution_count": null,
   "id": "2395c305",
   "metadata": {},
   "outputs": [],
   "source": []
  },
  {
   "cell_type": "code",
   "execution_count": 42,
   "id": "68eccf0e",
   "metadata": {
    "tags": []
   },
   "outputs": [],
   "source": [
    "\n",
    "\n",
    "def train_policy_bid():\n",
    "    gc.collect()\n",
    "    torch.cuda.empty_cache()\n",
    "    \n",
    "    seed_everything(42)\n",
    "    \n",
    "    ds_train, ds_test = dataset_dict[0]\n",
    "    \n",
    "    X_train_loader = DataLoader(ds_train, batch_size=config.batch_size_bid, shuffle=True, num_workers=14, prefetch_factor=2, pin_memory=True)\n",
    "    X_test_loader = DataLoader(ds_test, batch_size=config.batch_size_bid, shuffle=False, num_workers=14, prefetch_factor=2, pin_memory=True)\n",
    "\n",
    "    obs_spec = fmaker.get_obs_spec()\n",
    "    policy_bid = Policy_Bid(obs_spec[\"board\"].shape[-1],\n",
    "                          obs_spec[\"game\"].shape[-1],\n",
    "                          len(amaker.unit_actions),\n",
    "                          len(amaker.factory_actions),\n",
    "                          len(amaker.bid_actions)).to(device)\n",
    "\n",
    "    optimizer = optim.Adam(policy_bid.parameters(), lr=config.lr_bid, eps=EPS)  \n",
    "    scheduler = optim.lr_scheduler.ExponentialLR(optimizer, gamma=config.lr_gamma_bid)\n",
    "    scaler = GradScaler()\n",
    "\n",
    "    np.set_printoptions(edgeitems=30, linewidth=100000, formatter=dict(float=lambda x: \"%.3g\" % x))\n",
    "    cw = {k:torch.as_tensor(v, dtype=torch_dtype).to(device) for k, v in class_weights.items()}\n",
    "\n",
    "    try:\n",
    "        if USE_WANDB:\n",
    "            wandb.init(project=proj_name, id=net_suffix + \"_bid\", config=config)\n",
    "            wandb.watch(policy_bid, log='all', log_graph=True, log_freq=100)\n",
    "\n",
    "        for epoch in range(config.epochs_bid):  # loop over the dataset multiple times\n",
    "            lr = float(scheduler.get_last_lr()[0])\n",
    "            stats = dict(lr=lr)\n",
    "            print(f\"epoch {epoch} lr {lr}\")\n",
    "\n",
    "            # with torch.autograd.detect_anomaly():\n",
    "            stats.update(train_epoch(epoch, policy_bid, optimizer, scaler, X_train_loader, cw, \"train\"))\n",
    "\n",
    "            with torch.no_grad():\n",
    "                stats.update(eval_epoch(epoch, policy_bid, X_test_loader, cw, {}, \"test\"))\n",
    "\n",
    "            print({k:v for k, v in stats.items() if 'report/' not in k})\n",
    "            if USE_WANDB:\n",
    "                wandb.log(stats, step=epoch, commit=True)\n",
    "                \n",
    "            scheduler.step()\n",
    "\n",
    "            if True: #epoch % 5 == 0:\n",
    "                with atomic_write(os.path.join(storage_dir, f\"policy_bid.{net_suffix}.{epoch}.pty\"), overwrite=True, mode='wb') as out_f:\n",
    "                    torch.save({\"model\": policy_bid.state_dict(), \"optimizer\": optimizer.state_dict() }, out_f)\n",
    "\n",
    "    finally:\n",
    "        if USE_WANDB:\n",
    "            wandb.finish()\n",
    "            \n",
    "if config.train_bid:\n",
    "    train_policy_bid()"
   ]
  },
  {
   "cell_type": "code",
   "execution_count": 43,
   "id": "837fb234",
   "metadata": {
    "tags": []
   },
   "outputs": [],
   "source": [
    "\n",
    "def train_policy_placement():\n",
    "    gc.collect()\n",
    "    torch.cuda.empty_cache()\n",
    "    \n",
    "    seed_everything(42)\n",
    "    \n",
    "    ds_train, ds_test = dataset_dict[1]\n",
    "    \n",
    "    X_train_loader = DataLoader(ds_train, batch_size=config.batch_size_placement, shuffle=True, num_workers=14, prefetch_factor=2, pin_memory=True)\n",
    "    X_test_loader = DataLoader(ds_test, batch_size=config.batch_size_placement, shuffle=False, num_workers=14, prefetch_factor=2, pin_memory=True)\n",
    "\n",
    "    obs_spec = fmaker.get_obs_spec()\n",
    "    policy_placement = Policy_Placement(obs_spec[\"board\"].shape[-1],\n",
    "                          obs_spec[\"game\"].shape[-1],\n",
    "                          len(amaker.unit_actions),\n",
    "                          len(amaker.factory_actions),\n",
    "                          len(amaker.bid_actions)).to(device)\n",
    "\n",
    "    optimizer = optim.Adam(policy_placement.parameters(), lr=config.lr_placement, eps=EPS)  \n",
    "    scheduler = optim.lr_scheduler.ExponentialLR(optimizer, gamma=config.lr_gamma_placement)\n",
    "    scaler = GradScaler()\n",
    "\n",
    "    np.set_printoptions(edgeitems=30, linewidth=100000, formatter=dict(float=lambda x: \"%.3g\" % x))\n",
    "    cw = {k:torch.as_tensor(v, dtype=torch_dtype).to(device) for k, v in class_weights.items()}\n",
    "\n",
    "    try:\n",
    "        if USE_WANDB:\n",
    "            wandb.init(project=proj_name, id=net_suffix + \"_placement\", config=config)\n",
    "            wandb.watch(policy_placement, log='all', log_graph=True, log_freq=600)\n",
    "\n",
    "        for epoch in range(config.epochs_placement):  # loop over the dataset multiple times\n",
    "            lr = float(scheduler.get_last_lr()[0])\n",
    "            stats = dict(lr=lr)\n",
    "            print(f\"epoch {epoch} lr {lr}\")\n",
    "            \n",
    "            # with torch.autograd.detect_anomaly():\n",
    "            stats.update(train_epoch(epoch, policy_placement, optimizer, scaler, X_train_loader, cw, \"train\"))\n",
    "\n",
    "            with torch.no_grad():\n",
    "                stats.update(eval_epoch(epoch, policy_placement, X_test_loader, cw, {}, \"test\"))\n",
    "\n",
    "            print({k:v for k, v in stats.items() if 'report/' not in k})\n",
    "            if USE_WANDB:\n",
    "                wandb.log(stats, step=epoch, commit=True)\n",
    "\n",
    "            scheduler.step()\n",
    "                \n",
    "            if True: #epoch % 5 == 0:\n",
    "                with atomic_write(os.path.join(storage_dir, f\"policy_placement.{net_suffix}.{epoch}.pty\"), overwrite=True, mode='wb') as out_f:\n",
    "                    torch.save({\"model\": policy_placement.state_dict(), \"optimizer\": optimizer.state_dict() }, out_f)\n",
    "\n",
    "    finally:\n",
    "        if USE_WANDB:\n",
    "            wandb.finish()\n",
    "\n",
    "            \n",
    "if config.train_placement:\n",
    "    train_policy_placement()"
   ]
  },
  {
   "cell_type": "code",
   "execution_count": null,
   "id": "c8995364",
   "metadata": {
    "tags": []
   },
   "outputs": [
    {
     "name": "stderr",
     "output_type": "stream",
     "text": [
      "\u001b[34m\u001b[1mwandb\u001b[0m: Currently logged in as: \u001b[33mskyramp\u001b[0m. Use \u001b[1m`wandb login --relogin`\u001b[0m to force relogin\n"
     ]
    },
    {
     "data": {
      "text/html": [
       "wandb version 0.15.0 is available!  To upgrade, please run:\n",
       " $ pip install wandb --upgrade"
      ],
      "text/plain": [
       "<IPython.core.display.HTML object>"
      ]
     },
     "metadata": {},
     "output_type": "display_data"
    },
    {
     "data": {
      "text/html": [
       "Tracking run with wandb version 0.14.2"
      ],
      "text/plain": [
       "<IPython.core.display.HTML object>"
      ]
     },
     "metadata": {},
     "output_type": "display_data"
    },
    {
     "data": {
      "text/html": [
       "Run data is saved locally in <code>/notebook/wandb/run-20230424_050607-il12v1_a9_s3_run_1682312660_game</code>"
      ],
      "text/plain": [
       "<IPython.core.display.HTML object>"
      ]
     },
     "metadata": {},
     "output_type": "display_data"
    },
    {
     "data": {
      "text/html": [
       "Syncing run <strong><a href='https://wandb.ai/skyramp/la2022v3_ILv12/runs/il12v1_a9_s3_run_1682312660_game' target=\"_blank\">il12v1_a9_s3_run_1682312660_game</a></strong> to <a href='https://wandb.ai/skyramp/la2022v3_ILv12' target=\"_blank\">Weights & Biases</a> (<a href='https://wandb.me/run' target=\"_blank\">docs</a>)<br/>"
      ],
      "text/plain": [
       "<IPython.core.display.HTML object>"
      ]
     },
     "metadata": {},
     "output_type": "display_data"
    },
    {
     "data": {
      "text/html": [
       " View project at <a href='https://wandb.ai/skyramp/la2022v3_ILv12' target=\"_blank\">https://wandb.ai/skyramp/la2022v3_ILv12</a>"
      ],
      "text/plain": [
       "<IPython.core.display.HTML object>"
      ]
     },
     "metadata": {},
     "output_type": "display_data"
    },
    {
     "data": {
      "text/html": [
       " View run at <a href='https://wandb.ai/skyramp/la2022v3_ILv12/runs/il12v1_a9_s3_run_1682312660_game' target=\"_blank\">https://wandb.ai/skyramp/la2022v3_ILv12/runs/il12v1_a9_s3_run_1682312660_game</a>"
      ],
      "text/plain": [
       "<IPython.core.display.HTML object>"
      ]
     },
     "metadata": {},
     "output_type": "display_data"
    },
    {
     "name": "stderr",
     "output_type": "stream",
     "text": [
      "\u001b[34m\u001b[1mwandb\u001b[0m: logging graph, to disable use `wandb.watch(log_graph=False)`\n"
     ]
    },
    {
     "name": "stdout",
     "output_type": "stream",
     "text": [
      "epoch 0 lr 0.003\n",
      "loader 10356\n"
     ]
    },
    {
     "name": "stderr",
     "output_type": "stream",
     "text": [
      "  1%|          | 101/10356 [00:13<19:25,  8.80it/s]"
     ]
    },
    {
     "name": "stdout",
     "output_type": "stream",
     "text": [
      "loss 99 {'train/stats/duration': 13.774423599243164, 'train/loss/unit': 46.06070907592773, 'train/loss/factory': 2.1049875712394712, 'train/loss_avg/unit': 1.2905190052032756, 'train/loss_avg/factory': 0.6488165419265133}\n"
     ]
    },
    {
     "name": "stderr",
     "output_type": "stream",
     "text": [
      "  2%|▏         | 200/10356 [00:25<17:36,  9.61it/s]"
     ]
    },
    {
     "name": "stdout",
     "output_type": "stream",
     "text": [
      "loss 199 {'train/stats/duration': 11.503623247146606, 'train/loss/unit': 33.15851621627807, 'train/loss/factory': 2.0048550868034365, 'train/loss_avg/unit': 0.9531008727455356, 'train/loss_avg/factory': 0.6165690182638867}\n"
     ]
    },
    {
     "name": "stderr",
     "output_type": "stream",
     "text": [
      "  3%|▎         | 302/10356 [00:36<16:55,  9.90it/s]"
     ]
    },
    {
     "name": "stdout",
     "output_type": "stream",
     "text": [
      "loss 299 {'train/stats/duration': 10.8349130153656, 'train/loss/unit': 31.364377975463867, 'train/loss/factory': 1.958662223815918, 'train/loss_avg/unit': 0.8821747155199822, 'train/loss_avg/factory': 0.6062704685025291}\n"
     ]
    },
    {
     "name": "stderr",
     "output_type": "stream",
     "text": [
      "  4%|▍         | 401/10356 [00:47<19:18,  8.59it/s]"
     ]
    },
    {
     "name": "stdout",
     "output_type": "stream",
     "text": [
      "loss 399 {'train/stats/duration': 11.273050546646118, 'train/loss/unit': 29.49032543182373, 'train/loss/factory': 1.9358756244182587, 'train/loss_avg/unit': 0.8384155819659789, 'train/loss_avg/factory': 0.594273581581577}\n"
     ]
    },
    {
     "name": "stderr",
     "output_type": "stream",
     "text": [
      "  5%|▍         | 502/10356 [00:58<16:57,  9.68it/s]"
     ]
    },
    {
     "name": "stdout",
     "output_type": "stream",
     "text": [
      "loss 499 {'train/stats/duration': 11.115197896957397, 'train/loss/unit': 28.56742328643799, 'train/loss/factory': 1.8783143556118012, 'train/loss_avg/unit': 0.8084412933180957, 'train/loss_avg/factory': 0.581466303860203}\n"
     ]
    },
    {
     "name": "stderr",
     "output_type": "stream",
     "text": [
      "  6%|▌         | 601/10356 [01:09<16:44,  9.72it/s]"
     ]
    },
    {
     "name": "stdout",
     "output_type": "stream",
     "text": [
      "loss 599 {'train/stats/duration': 10.845869302749634, 'train/loss/unit': 27.830383548736574, 'train/loss/factory': 1.9427146577835084, 'train/loss_avg/unit': 0.793374221631168, 'train/loss_avg/factory': 0.5974317691431696}\n"
     ]
    },
    {
     "name": "stderr",
     "output_type": "stream",
     "text": [
      "  7%|▋         | 701/10356 [01:20<17:18,  9.30it/s]"
     ]
    },
    {
     "name": "stdout",
     "output_type": "stream",
     "text": [
      "loss 699 {'train/stats/duration': 10.83724331855774, 'train/loss/unit': 27.314053993225098, 'train/loss/factory': 1.8635422325134277, 'train/loss_avg/unit': 0.7730447439181434, 'train/loss_avg/factory': 0.578582722780868}\n"
     ]
    },
    {
     "name": "stderr",
     "output_type": "stream",
     "text": [
      "  8%|▊         | 802/10356 [01:31<16:02,  9.93it/s]"
     ]
    },
    {
     "name": "stdout",
     "output_type": "stream",
     "text": [
      "loss 799 {'train/stats/duration': 10.963773250579834, 'train/loss/unit': 27.55871280670166, 'train/loss/factory': 1.8888564097881317, 'train/loss_avg/unit': 0.773961731864282, 'train/loss_avg/factory': 0.5830471800451166}\n"
     ]
    },
    {
     "name": "stderr",
     "output_type": "stream",
     "text": [
      "  9%|▊         | 901/10356 [01:42<18:16,  8.62it/s]"
     ]
    },
    {
     "name": "stdout",
     "output_type": "stream",
     "text": [
      "loss 899 {'train/stats/duration': 11.638922691345215, 'train/loss/unit': 26.669949989318848, 'train/loss/factory': 1.8955923581123353, 'train/loss_avg/unit': 0.7548820345054053, 'train/loss_avg/factory': 0.5841842615972525}\n"
     ]
    },
    {
     "name": "stderr",
     "output_type": "stream",
     "text": [
      " 10%|▉         | 1001/10356 [01:54<18:45,  8.31it/s]"
     ]
    },
    {
     "name": "stdout",
     "output_type": "stream",
     "text": [
      "loss 999 {'train/stats/duration': 11.218853950500488, 'train/loss/unit': 26.090282020568846, 'train/loss/factory': 1.8659334993362426, 'train/loss_avg/unit': 0.740605748343794, 'train/loss_avg/factory': 0.5799303307017937}\n"
     ]
    },
    {
     "name": "stderr",
     "output_type": "stream",
     "text": [
      " 11%|█         | 1101/10356 [02:05<18:33,  8.31it/s]"
     ]
    },
    {
     "name": "stdout",
     "output_type": "stream",
     "text": [
      "loss 1099 {'train/stats/duration': 11.495983600616455, 'train/loss/unit': 26.510317630767823, 'train/loss/factory': 1.856494380235672, 'train/loss_avg/unit': 0.7346441015190325, 'train/loss_avg/factory': 0.5729242967415235}\n"
     ]
    },
    {
     "name": "stderr",
     "output_type": "stream",
     "text": [
      " 12%|█▏        | 1201/10356 [02:16<16:35,  9.20it/s]"
     ]
    },
    {
     "name": "stdout",
     "output_type": "stream",
     "text": [
      "loss 1199 {'train/stats/duration': 11.046599626541138, 'train/loss/unit': 25.68499364852905, 'train/loss/factory': 1.8337616622447968, 'train/loss_avg/unit': 0.7311238313302023, 'train/loss_avg/factory': 0.5698850854282437}\n"
     ]
    },
    {
     "name": "stderr",
     "output_type": "stream",
     "text": [
      " 13%|█▎        | 1301/10356 [02:27<15:59,  9.44it/s]"
     ]
    },
    {
     "name": "stdout",
     "output_type": "stream",
     "text": [
      "loss 1299 {'train/stats/duration': 10.92665982246399, 'train/loss/unit': 24.93079767227173, 'train/loss/factory': 1.835575326681137, 'train/loss_avg/unit': 0.720201071160018, 'train/loss_avg/factory': 0.5730568510631732}\n"
     ]
    },
    {
     "name": "stderr",
     "output_type": "stream",
     "text": [
      " 14%|█▎        | 1401/10356 [02:38<16:59,  8.78it/s]"
     ]
    },
    {
     "name": "stdout",
     "output_type": "stream",
     "text": [
      "loss 1399 {'train/stats/duration': 10.960434436798096, 'train/loss/unit': 25.48329837799072, 'train/loss/factory': 1.8760070526599884, 'train/loss_avg/unit': 0.7164649676705355, 'train/loss_avg/factory': 0.5784838410676697}\n"
     ]
    },
    {
     "name": "stderr",
     "output_type": "stream",
     "text": [
      " 14%|█▍        | 1501/10356 [02:49<16:50,  8.76it/s]"
     ]
    },
    {
     "name": "stdout",
     "output_type": "stream",
     "text": [
      "loss 1499 {'train/stats/duration': 11.096524953842163, 'train/loss/unit': 25.65616107940674, 'train/loss/factory': 1.8435340237617492, 'train/loss_avg/unit': 0.7117873414948341, 'train/loss_avg/factory': 0.5685057111774061}\n"
     ]
    },
    {
     "name": "stderr",
     "output_type": "stream",
     "text": [
      " 15%|█▌        | 1601/10356 [03:00<15:48,  9.23it/s]"
     ]
    },
    {
     "name": "stdout",
     "output_type": "stream",
     "text": [
      "loss 1599 {'train/stats/duration': 10.966653823852539, 'train/loss/unit': 24.693581733703613, 'train/loss/factory': 1.847508407831192, 'train/loss_avg/unit': 0.7103385643146024, 'train/loss_avg/factory': 0.5690104365086569}\n"
     ]
    },
    {
     "name": "stderr",
     "output_type": "stream",
     "text": [
      " 16%|█▋        | 1701/10356 [03:11<15:12,  9.48it/s]"
     ]
    },
    {
     "name": "stdout",
     "output_type": "stream",
     "text": [
      "loss 1699 {'train/stats/duration': 10.906217813491821, 'train/loss/unit': 24.994047946929932, 'train/loss/factory': 1.8495120406150818, 'train/loss_avg/unit': 0.7039945381223243, 'train/loss_avg/factory': 0.5731090139160088}\n"
     ]
    },
    {
     "name": "stderr",
     "output_type": "stream",
     "text": [
      " 17%|█▋        | 1801/10356 [03:22<15:13,  9.37it/s]"
     ]
    },
    {
     "name": "stdout",
     "output_type": "stream",
     "text": [
      "loss 1799 {'train/stats/duration': 10.859911680221558, 'train/loss/unit': 24.828716888427735, 'train/loss/factory': 1.8220082640647888, 'train/loss_avg/unit': 0.702464058790141, 'train/loss_avg/factory': 0.5626077415026174}\n"
     ]
    },
    {
     "name": "stderr",
     "output_type": "stream",
     "text": [
      " 18%|█▊        | 1901/10356 [03:33<14:51,  9.49it/s]"
     ]
    },
    {
     "name": "stdout",
     "output_type": "stream",
     "text": [
      "loss 1899 {'train/stats/duration': 10.830679893493652, 'train/loss/unit': 24.25622476577759, 'train/loss/factory': 1.8186447274684907, 'train/loss_avg/unit': 0.6849331782657733, 'train/loss_avg/factory': 0.5607164848312916}\n"
     ]
    },
    {
     "name": "stderr",
     "output_type": "stream",
     "text": [
      " 19%|█▉        | 2002/10356 [03:44<15:33,  8.95it/s]"
     ]
    },
    {
     "name": "stdout",
     "output_type": "stream",
     "text": [
      "loss 1999 {'train/stats/duration': 10.991280317306519, 'train/loss/unit': 24.743056087493898, 'train/loss/factory': 1.8398343086242677, 'train/loss_avg/unit': 0.696330896307681, 'train/loss_avg/factory': 0.5670045455090452}\n"
     ]
    },
    {
     "name": "stderr",
     "output_type": "stream",
     "text": [
      " 20%|██        | 2101/10356 [03:55<16:31,  8.32it/s]"
     ]
    },
    {
     "name": "stdout",
     "output_type": "stream",
     "text": [
      "loss 2099 {'train/stats/duration': 10.777472019195557, 'train/loss/unit': 24.79485719680786, 'train/loss/factory': 1.8057805597782135, 'train/loss_avg/unit': 0.7015744806546376, 'train/loss_avg/factory': 0.5548354041276893}\n"
     ]
    },
    {
     "name": "stderr",
     "output_type": "stream",
     "text": [
      " 21%|██▏       | 2201/10356 [04:06<15:10,  8.96it/s]"
     ]
    },
    {
     "name": "stdout",
     "output_type": "stream",
     "text": [
      "loss 2199 {'train/stats/duration': 11.232047319412231, 'train/loss/unit': 24.48675775527954, 'train/loss/factory': 1.844557716846466, 'train/loss_avg/unit': 0.6920587627141547, 'train/loss_avg/factory': 0.5672326501785898}\n"
     ]
    },
    {
     "name": "stderr",
     "output_type": "stream",
     "text": [
      " 22%|██▏       | 2301/10356 [04:17<15:36,  8.60it/s]"
     ]
    },
    {
     "name": "stdout",
     "output_type": "stream",
     "text": [
      "loss 2299 {'train/stats/duration': 11.220027446746826, 'train/loss/unit': 24.517171325683595, 'train/loss/factory': 1.8357107639312744, 'train/loss_avg/unit': 0.6882080933265756, 'train/loss_avg/factory': 0.5644248502729495}\n"
     ]
    },
    {
     "name": "stderr",
     "output_type": "stream",
     "text": [
      " 23%|██▎       | 2401/10356 [04:28<14:52,  8.92it/s]"
     ]
    },
    {
     "name": "stdout",
     "output_type": "stream",
     "text": [
      "loss 2399 {'train/stats/duration': 11.154921293258667, 'train/loss/unit': 24.088121204376222, 'train/loss/factory': 1.832860847711563, 'train/loss_avg/unit': 0.6779241016922208, 'train/loss_avg/factory': 0.5625340351824695}\n"
     ]
    },
    {
     "name": "stderr",
     "output_type": "stream",
     "text": [
      " 24%|██▍       | 2501/10356 [04:39<14:37,  8.95it/s]"
     ]
    },
    {
     "name": "stdout",
     "output_type": "stream",
     "text": [
      "loss 2499 {'train/stats/duration': 11.322192668914795, 'train/loss/unit': 23.498981342315673, 'train/loss/factory': 1.8051223850250244, 'train/loss_avg/unit': 0.6752730598206143, 'train/loss_avg/factory': 0.5575141591700937}\n"
     ]
    },
    {
     "name": "stderr",
     "output_type": "stream",
     "text": [
      " 25%|██▌       | 2601/10356 [04:50<14:59,  8.62it/s]"
     ]
    },
    {
     "name": "stdout",
     "output_type": "stream",
     "text": [
      "loss 2599 {'train/stats/duration': 10.996763467788696, 'train/loss/unit': 24.012049903869627, 'train/loss/factory': 1.8067402863502502, 'train/loss_avg/unit': 0.6853210330589354, 'train/loss_avg/factory': 0.5538256058841964}\n"
     ]
    },
    {
     "name": "stderr",
     "output_type": "stream",
     "text": [
      " 26%|██▌       | 2701/10356 [05:01<13:55,  9.17it/s]"
     ]
    },
    {
     "name": "stdout",
     "output_type": "stream",
     "text": [
      "loss 2699 {'train/stats/duration': 10.95430064201355, 'train/loss/unit': 23.578766918182374, 'train/loss/factory': 1.8189283037185668, 'train/loss_avg/unit': 0.6679725953382142, 'train/loss_avg/factory': 0.5634739520074027}\n"
     ]
    },
    {
     "name": "stderr",
     "output_type": "stream",
     "text": [
      " 27%|██▋       | 2801/10356 [05:12<12:29, 10.08it/s]"
     ]
    },
    {
     "name": "stdout",
     "output_type": "stream",
     "text": [
      "loss 2799 {'train/stats/duration': 10.912575721740723, 'train/loss/unit': 23.885889873504638, 'train/loss/factory': 1.810744434595108, 'train/loss_avg/unit': 0.679610933733292, 'train/loss_avg/factory': 0.5591018416830522}\n"
     ]
    },
    {
     "name": "stderr",
     "output_type": "stream",
     "text": [
      " 28%|██▊       | 2901/10356 [05:23<14:14,  8.73it/s]"
     ]
    },
    {
     "name": "stdout",
     "output_type": "stream",
     "text": [
      "loss 2899 {'train/stats/duration': 11.132882118225098, 'train/loss/unit': 23.46283374786377, 'train/loss/factory': 1.8043806314468385, 'train/loss_avg/unit': 0.6655747255963491, 'train/loss_avg/factory': 0.5568943573608606}\n"
     ]
    },
    {
     "name": "stderr",
     "output_type": "stream",
     "text": [
      " 29%|██▉       | 3001/10356 [05:35<15:39,  7.83it/s]"
     ]
    },
    {
     "name": "stdout",
     "output_type": "stream",
     "text": [
      "loss 2999 {'train/stats/duration': 11.69572401046753, 'train/loss/unit': 23.380438594818116, 'train/loss/factory': 1.833750525712967, 'train/loss_avg/unit': 0.6663409325589025, 'train/loss_avg/factory': 0.5651306004175758}\n"
     ]
    },
    {
     "name": "stderr",
     "output_type": "stream",
     "text": [
      " 30%|██▉       | 3101/10356 [05:46<13:05,  9.24it/s]"
     ]
    },
    {
     "name": "stdout",
     "output_type": "stream",
     "text": [
      "loss 3099 {'train/stats/duration': 11.34199857711792, 'train/loss/unit': 23.37586170196533, 'train/loss/factory': 1.8523267805576324, 'train/loss_avg/unit': 0.6675863088936821, 'train/loss_avg/factory': 0.5719477756217328}\n"
     ]
    },
    {
     "name": "stderr",
     "output_type": "stream",
     "text": [
      " 31%|███       | 3201/10356 [05:58<13:58,  8.54it/s]"
     ]
    },
    {
     "name": "stdout",
     "output_type": "stream",
     "text": [
      "loss 3199 {'train/stats/duration': 11.061728477478027, 'train/loss/unit': 23.865799770355224, 'train/loss/factory': 1.8367784094810486, 'train/loss_avg/unit': 0.6734504596793249, 'train/loss_avg/factory': 0.5699540070929879}\n"
     ]
    },
    {
     "name": "stderr",
     "output_type": "stream",
     "text": [
      " 32%|███▏      | 3301/10356 [06:09<13:21,  8.80it/s]"
     ]
    },
    {
     "name": "stdout",
     "output_type": "stream",
     "text": [
      "loss 3299 {'train/stats/duration': 11.098214626312256, 'train/loss/unit': 23.461710147857666, 'train/loss/factory': 1.817966183423996, 'train/loss_avg/unit': 0.6633751869780243, 'train/loss_avg/factory': 0.5645543844625069}\n"
     ]
    },
    {
     "name": "stderr",
     "output_type": "stream",
     "text": [
      " 33%|███▎      | 3401/10356 [06:20<12:03,  9.61it/s]"
     ]
    },
    {
     "name": "stdout",
     "output_type": "stream",
     "text": [
      "loss 3399 {'train/stats/duration': 11.4924635887146, 'train/loss/unit': 23.849893379211426, 'train/loss/factory': 1.8283642101287843, 'train/loss_avg/unit': 0.6641137670190698, 'train/loss_avg/factory': 0.5612630052283908}\n"
     ]
    },
    {
     "name": "stderr",
     "output_type": "stream",
     "text": [
      " 34%|███▍      | 3501/10356 [06:32<14:02,  8.14it/s]"
     ]
    },
    {
     "name": "stdout",
     "output_type": "stream",
     "text": [
      "loss 3499 {'train/stats/duration': 11.635347604751587, 'train/loss/unit': 23.190421485900877, 'train/loss/factory': 1.8093886530399323, 'train/loss_avg/unit': 0.6562850917163042, 'train/loss_avg/factory': 0.5578507128325512}\n"
     ]
    },
    {
     "name": "stderr",
     "output_type": "stream",
     "text": [
      " 35%|███▍      | 3601/10356 [06:43<12:18,  9.15it/s]"
     ]
    },
    {
     "name": "stdout",
     "output_type": "stream",
     "text": [
      "loss 3599 {'train/stats/duration': 11.218246936798096, 'train/loss/unit': 23.380221118927, 'train/loss/factory': 1.7886465537548064, 'train/loss_avg/unit': 0.6567719449522353, 'train/loss_avg/factory': 0.5532083044726708}\n"
     ]
    },
    {
     "name": "stderr",
     "output_type": "stream",
     "text": [
      " 36%|███▌      | 3701/10356 [06:54<12:53,  8.60it/s]"
     ]
    },
    {
     "name": "stdout",
     "output_type": "stream",
     "text": [
      "loss 3699 {'train/stats/duration': 10.817860126495361, 'train/loss/unit': 23.236203479766846, 'train/loss/factory': 1.8347375726699828, 'train/loss_avg/unit': 0.6529351707631987, 'train/loss_avg/factory': 0.565859857683851}\n"
     ]
    },
    {
     "name": "stderr",
     "output_type": "stream",
     "text": [
      " 37%|███▋      | 3800/10356 [07:05<11:52,  9.20it/s]"
     ]
    },
    {
     "name": "stdout",
     "output_type": "stream",
     "text": [
      "loss 3799 {'train/stats/duration': 11.43963623046875, 'train/loss/unit': 23.48535779953003, 'train/loss/factory': 1.8038528656959534, 'train/loss_avg/unit': 0.653362374631929, 'train/loss_avg/factory': 0.5529845536416742}\n"
     ]
    },
    {
     "name": "stderr",
     "output_type": "stream",
     "text": [
      " 38%|███▊      | 3901/10356 [07:17<11:29,  9.36it/s]"
     ]
    },
    {
     "name": "stdout",
     "output_type": "stream",
     "text": [
      "loss 3899 {'train/stats/duration': 11.285661220550537, 'train/loss/unit': 23.109727764129637, 'train/loss/factory': 1.7992736780643463, 'train/loss_avg/unit': 0.6447716925758442, 'train/loss_avg/factory': 0.5579440767174242}\n"
     ]
    },
    {
     "name": "stderr",
     "output_type": "stream",
     "text": [
      " 39%|███▊      | 4002/10356 [07:28<11:34,  9.15it/s]"
     ]
    },
    {
     "name": "stdout",
     "output_type": "stream",
     "text": [
      "loss 3999 {'train/stats/duration': 11.166574954986572, 'train/loss/unit': 23.314995403289796, 'train/loss/factory': 1.7798376297950744, 'train/loss_avg/unit': 0.6560567884825751, 'train/loss_avg/factory': 0.5448230070266379}\n"
     ]
    },
    {
     "name": "stderr",
     "output_type": "stream",
     "text": [
      " 40%|███▉      | 4102/10356 [07:39<11:09,  9.34it/s]"
     ]
    },
    {
     "name": "stdout",
     "output_type": "stream",
     "text": [
      "loss 4099 {'train/stats/duration': 10.822442770004272, 'train/loss/unit': 22.819015884399413, 'train/loss/factory': 1.7898532021045686, 'train/loss_avg/unit': 0.6591796984538619, 'train/loss_avg/factory': 0.5514780719411267}\n"
     ]
    },
    {
     "name": "stderr",
     "output_type": "stream",
     "text": [
      " 41%|████      | 4201/10356 [07:50<12:14,  8.38it/s]"
     ]
    },
    {
     "name": "stdout",
     "output_type": "stream",
     "text": [
      "loss 4199 {'train/stats/duration': 11.159366369247437, 'train/loss/unit': 22.987503967285157, 'train/loss/factory': 1.8367141306400299, 'train/loss_avg/unit': 0.648283289868438, 'train/loss_avg/factory': 0.564669571638226}\n"
     ]
    },
    {
     "name": "stderr",
     "output_type": "stream",
     "text": [
      " 42%|████▏     | 4301/10356 [08:01<11:46,  8.57it/s]"
     ]
    },
    {
     "name": "stdout",
     "output_type": "stream",
     "text": [
      "loss 4299 {'train/stats/duration': 11.290752410888672, 'train/loss/unit': 22.938980178833006, 'train/loss/factory': 1.8159709763526917, 'train/loss_avg/unit': 0.6398979433123988, 'train/loss_avg/factory': 0.5598914341293212}\n"
     ]
    },
    {
     "name": "stderr",
     "output_type": "stream",
     "text": [
      " 42%|████▏     | 4400/10356 [08:12<09:37, 10.31it/s]"
     ]
    },
    {
     "name": "stdout",
     "output_type": "stream",
     "text": [
      "loss 4399 {'train/stats/duration': 10.907324075698853, 'train/loss/unit': 23.218810310363768, 'train/loss/factory': 1.7834389734268188, 'train/loss_avg/unit': 0.6532947236021528, 'train/loss_avg/factory': 0.5471005240247476}\n"
     ]
    },
    {
     "name": "stderr",
     "output_type": "stream",
     "text": [
      " 43%|████▎     | 4502/10356 [08:23<10:42,  9.12it/s]"
     ]
    },
    {
     "name": "stdout",
     "output_type": "stream",
     "text": [
      "loss 4499 {'train/stats/duration': 11.22223162651062, 'train/loss/unit': 22.785474720001222, 'train/loss/factory': 1.7867019391059875, 'train/loss_avg/unit': 0.6481578375684464, 'train/loss_avg/factory': 0.5488231305491129}\n"
     ]
    },
    {
     "name": "stderr",
     "output_type": "stream",
     "text": [
      " 44%|████▍     | 4600/10356 [08:34<10:13,  9.38it/s]"
     ]
    },
    {
     "name": "stdout",
     "output_type": "stream",
     "text": [
      "loss 4599 {'train/stats/duration': 10.853797197341919, 'train/loss/unit': 22.71821891784668, 'train/loss/factory': 1.7775719571113586, 'train/loss_avg/unit': 0.6460497516873869, 'train/loss_avg/factory': 0.5553008201816123}\n"
     ]
    },
    {
     "name": "stderr",
     "output_type": "stream",
     "text": [
      " 45%|████▌     | 4701/10356 [08:45<10:31,  8.95it/s]"
     ]
    },
    {
     "name": "stdout",
     "output_type": "stream",
     "text": [
      "loss 4699 {'train/stats/duration': 10.794992923736572, 'train/loss/unit': 22.929924697875975, 'train/loss/factory': 1.7886054575443269, 'train/loss_avg/unit': 0.6433243158405143, 'train/loss_avg/factory': 0.5470831647087978}\n"
     ]
    },
    {
     "name": "stderr",
     "output_type": "stream",
     "text": [
      " 46%|████▋     | 4801/10356 [08:56<11:10,  8.29it/s]"
     ]
    },
    {
     "name": "stdout",
     "output_type": "stream",
     "text": [
      "loss 4799 {'train/stats/duration': 11.138572216033936, 'train/loss/unit': 22.534710941314696, 'train/loss/factory': 1.7996784687042235, 'train/loss_avg/unit': 0.641019125753557, 'train/loss_avg/factory': 0.5526201814527358}\n"
     ]
    },
    {
     "name": "stderr",
     "output_type": "stream",
     "text": [
      " 47%|████▋     | 4901/10356 [09:07<09:45,  9.32it/s]"
     ]
    },
    {
     "name": "stdout",
     "output_type": "stream",
     "text": [
      "loss 4899 {'train/stats/duration': 10.9472336769104, 'train/loss/unit': 22.782012825012206, 'train/loss/factory': 1.8029630088806152, 'train/loss_avg/unit': 0.646280737307391, 'train/loss_avg/factory': 0.5571025900425552}\n"
     ]
    },
    {
     "name": "stderr",
     "output_type": "stream",
     "text": [
      " 48%|████▊     | 5001/10356 [09:18<11:38,  7.66it/s]"
     ]
    },
    {
     "name": "stdout",
     "output_type": "stream",
     "text": [
      "loss 4999 {'train/stats/duration': 11.283276319503784, 'train/loss/unit': 23.046716022491456, 'train/loss/factory': 1.8245364785194398, 'train/loss_avg/unit': 0.6443364569334313, 'train/loss_avg/factory': 0.5606540570177044}\n"
     ]
    },
    {
     "name": "stderr",
     "output_type": "stream",
     "text": [
      " 49%|████▉     | 5101/10356 [09:29<09:47,  8.95it/s]"
     ]
    },
    {
     "name": "stdout",
     "output_type": "stream",
     "text": [
      "loss 5099 {'train/stats/duration': 11.204467535018921, 'train/loss/unit': 22.626207218170165, 'train/loss/factory': 1.7896634972095489, 'train/loss_avg/unit': 0.6442506173948276, 'train/loss_avg/factory': 0.5562940653555648}\n"
     ]
    },
    {
     "name": "stderr",
     "output_type": "stream",
     "text": [
      " 50%|█████     | 5201/10356 [09:40<09:47,  8.78it/s]"
     ]
    },
    {
     "name": "stdout",
     "output_type": "stream",
     "text": [
      "loss 5199 {'train/stats/duration': 11.105280637741089, 'train/loss/unit': 22.85930088043213, 'train/loss/factory': 1.8032649457454681, 'train/loss_avg/unit': 0.6447846460886469, 'train/loss_avg/factory': 0.5561614050078932}\n"
     ]
    },
    {
     "name": "stderr",
     "output_type": "stream",
     "text": [
      " 51%|█████     | 5302/10356 [09:52<09:01,  9.33it/s]"
     ]
    },
    {
     "name": "stdout",
     "output_type": "stream",
     "text": [
      "loss 5299 {'train/stats/duration': 11.129690885543823, 'train/loss/unit': 22.3698779296875, 'train/loss/factory': 1.7827986288070679, 'train/loss_avg/unit': 0.6414896092601602, 'train/loss_avg/factory': 0.5531018730564385}\n"
     ]
    },
    {
     "name": "stderr",
     "output_type": "stream",
     "text": [
      " 52%|█████▏    | 5401/10356 [10:03<08:41,  9.50it/s]"
     ]
    },
    {
     "name": "stdout",
     "output_type": "stream",
     "text": [
      "loss 5399 {'train/stats/duration': 11.005508661270142, 'train/loss/unit': 22.36696578979492, 'train/loss/factory': 1.8137434363365172, 'train/loss_avg/unit': 0.6387708970908887, 'train/loss_avg/factory': 0.559803662548766}\n"
     ]
    },
    {
     "name": "stderr",
     "output_type": "stream",
     "text": [
      " 53%|█████▎    | 5501/10356 [10:14<09:07,  8.86it/s]"
     ]
    },
    {
     "name": "stdout",
     "output_type": "stream",
     "text": [
      "loss 5499 {'train/stats/duration': 11.373807907104492, 'train/loss/unit': 22.72282871246338, 'train/loss/factory': 1.7921310114860534, 'train/loss_avg/unit': 0.6399032056578, 'train/loss_avg/factory': 0.5557290066713789}\n"
     ]
    },
    {
     "name": "stderr",
     "output_type": "stream",
     "text": [
      " 54%|█████▍    | 5601/10356 [10:26<09:58,  7.95it/s]"
     ]
    },
    {
     "name": "stdout",
     "output_type": "stream",
     "text": [
      "loss 5599 {'train/stats/duration': 11.631871938705444, 'train/loss/unit': 22.099118576049804, 'train/loss/factory': 1.7643604457378388, 'train/loss_avg/unit': 0.6289503939002039, 'train/loss_avg/factory': 0.5470835535601171}\n"
     ]
    },
    {
     "name": "stderr",
     "output_type": "stream",
     "text": [
      " 55%|█████▌    | 5701/10356 [10:37<09:19,  8.32it/s]"
     ]
    },
    {
     "name": "stdout",
     "output_type": "stream",
     "text": [
      "loss 5699 {'train/stats/duration': 11.022096395492554, 'train/loss/unit': 22.891902809143065, 'train/loss/factory': 1.8445161092281341, 'train/loss_avg/unit': 0.6358983673535031, 'train/loss_avg/factory': 0.5655285548716209}\n"
     ]
    },
    {
     "name": "stderr",
     "output_type": "stream",
     "text": [
      " 56%|█████▌    | 5801/10356 [10:48<08:12,  9.25it/s]"
     ]
    },
    {
     "name": "stdout",
     "output_type": "stream",
     "text": [
      "loss 5799 {'train/stats/duration': 10.97731637954712, 'train/loss/unit': 21.93679048538208, 'train/loss/factory': 1.7765369510650635, 'train/loss_avg/unit': 0.631700211315252, 'train/loss_avg/factory': 0.5522941242217229}\n"
     ]
    },
    {
     "name": "stderr",
     "output_type": "stream",
     "text": [
      " 57%|█████▋    | 5901/10356 [10:59<08:11,  9.07it/s]"
     ]
    },
    {
     "name": "stdout",
     "output_type": "stream",
     "text": [
      "loss 5899 {'train/stats/duration': 11.242840766906738, 'train/loss/unit': 22.115520896911622, 'train/loss/factory': 1.8234605491161346, 'train/loss_avg/unit': 0.6287417475852376, 'train/loss_avg/factory': 0.5581288759529744}\n"
     ]
    },
    {
     "name": "stderr",
     "output_type": "stream",
     "text": [
      " 58%|█████▊    | 6002/10356 [11:10<08:35,  8.44it/s]"
     ]
    },
    {
     "name": "stdout",
     "output_type": "stream",
     "text": [
      "loss 5999 {'train/stats/duration': 11.129151582717896, 'train/loss/unit': 22.06216402053833, 'train/loss/factory': 1.8103166663646697, 'train/loss_avg/unit': 0.6387903534852803, 'train/loss_avg/factory': 0.5610928044090643}\n"
     ]
    },
    {
     "name": "stderr",
     "output_type": "stream",
     "text": [
      " 59%|█████▉    | 6101/10356 [11:21<08:25,  8.42it/s]"
     ]
    },
    {
     "name": "stdout",
     "output_type": "stream",
     "text": [
      "loss 6099 {'train/stats/duration': 11.359866857528687, 'train/loss/unit': 22.7384969329834, 'train/loss/factory': 1.8044218254089355, 'train/loss_avg/unit': 0.6373361214282613, 'train/loss_avg/factory': 0.549016116172671}\n"
     ]
    },
    {
     "name": "stderr",
     "output_type": "stream",
     "text": [
      " 60%|█████▉    | 6201/10356 [11:33<07:25,  9.32it/s]"
     ]
    },
    {
     "name": "stdout",
     "output_type": "stream",
     "text": [
      "loss 6199 {'train/stats/duration': 11.733033418655396, 'train/loss/unit': 22.53319730758667, 'train/loss/factory': 1.7977206027507782, 'train/loss_avg/unit': 0.6357032473257535, 'train/loss_avg/factory': 0.5532950547051886}\n"
     ]
    },
    {
     "name": "stderr",
     "output_type": "stream",
     "text": [
      " 61%|██████    | 6301/10356 [11:45<07:37,  8.86it/s]"
     ]
    },
    {
     "name": "stdout",
     "output_type": "stream",
     "text": [
      "loss 6299 {'train/stats/duration': 11.516499042510986, 'train/loss/unit': 21.845027503967284, 'train/loss/factory': 1.768429434299469, 'train/loss_avg/unit': 0.6220600846594271, 'train/loss_avg/factory': 0.550045122413488}\n"
     ]
    },
    {
     "name": "stderr",
     "output_type": "stream",
     "text": [
      " 62%|██████▏   | 6402/10356 [11:55<06:29, 10.15it/s]"
     ]
    },
    {
     "name": "stdout",
     "output_type": "stream",
     "text": [
      "loss 6399 {'train/stats/duration': 10.496572256088257, 'train/loss/unit': 22.00846990585327, 'train/loss/factory': 1.7965408873558044, 'train/loss_avg/unit': 0.625056556072965, 'train/loss_avg/factory': 0.552175956604332}\n"
     ]
    },
    {
     "name": "stderr",
     "output_type": "stream",
     "text": [
      " 63%|██████▎   | 6501/10356 [12:05<06:15, 10.26it/s]"
     ]
    },
    {
     "name": "stdout",
     "output_type": "stream",
     "text": [
      "loss 6499 {'train/stats/duration': 10.251629829406738, 'train/loss/unit': 21.866516799926757, 'train/loss/factory': 1.7683760488033295, 'train/loss_avg/unit': 0.6242598950690254, 'train/loss_avg/factory': 0.5471413022548258}\n"
     ]
    },
    {
     "name": "stderr",
     "output_type": "stream",
     "text": [
      " 64%|██████▍   | 6602/10356 [12:15<05:53, 10.62it/s]"
     ]
    },
    {
     "name": "stdout",
     "output_type": "stream",
     "text": [
      "loss 6599 {'train/stats/duration': 9.794597387313843, 'train/loss/unit': 22.448883476257325, 'train/loss/factory': 1.7913427710533143, 'train/loss_avg/unit': 0.6300417198510602, 'train/loss_avg/factory': 0.5529900963205091}\n"
     ]
    },
    {
     "name": "stderr",
     "output_type": "stream",
     "text": [
      " 65%|██████▍   | 6701/10356 [12:25<06:09,  9.88it/s]"
     ]
    },
    {
     "name": "stdout",
     "output_type": "stream",
     "text": [
      "loss 6699 {'train/stats/duration': 9.69716501235962, 'train/loss/unit': 22.374479427337647, 'train/loss/factory': 1.7852022981643676, 'train/loss_avg/unit': 0.6271162565756973, 'train/loss_avg/factory': 0.5450519289557804}\n"
     ]
    },
    {
     "name": "stderr",
     "output_type": "stream",
     "text": [
      " 66%|██████▌   | 6802/10356 [12:35<05:37, 10.52it/s]"
     ]
    },
    {
     "name": "stdout",
     "output_type": "stream",
     "text": [
      "loss 6799 {'train/stats/duration': 9.991657972335815, 'train/loss/unit': 22.08236822128296, 'train/loss/factory': 1.7960143280029297, 'train/loss_avg/unit': 0.6235606450679387, 'train/loss_avg/factory': 0.5520556871866436}\n"
     ]
    },
    {
     "name": "stderr",
     "output_type": "stream",
     "text": [
      " 67%|██████▋   | 6902/10356 [12:45<05:26, 10.58it/s]"
     ]
    },
    {
     "name": "stdout",
     "output_type": "stream",
     "text": [
      "loss 6899 {'train/stats/duration': 9.872647523880005, 'train/loss/unit': 22.23249551773071, 'train/loss/factory': 1.812699190378189, 'train/loss_avg/unit': 0.6253356280671799, 'train/loss_avg/factory': 0.5614246154383921}\n"
     ]
    },
    {
     "name": "stderr",
     "output_type": "stream",
     "text": [
      " 68%|██████▊   | 7002/10356 [12:55<05:46,  9.67it/s]"
     ]
    },
    {
     "name": "stdout",
     "output_type": "stream",
     "text": [
      "loss 6999 {'train/stats/duration': 9.854986190795898, 'train/loss/unit': 21.946070556640624, 'train/loss/factory': 1.7841139769554137, 'train/loss_avg/unit': 0.6280215671532615, 'train/loss_avg/factory': 0.5474915336508147}\n"
     ]
    },
    {
     "name": "stderr",
     "output_type": "stream",
     "text": [
      " 69%|██████▊   | 7102/10356 [13:05<05:12, 10.40it/s]"
     ]
    },
    {
     "name": "stdout",
     "output_type": "stream",
     "text": [
      "loss 7099 {'train/stats/duration': 9.944211959838867, 'train/loss/unit': 22.146671352386473, 'train/loss/factory': 1.7608104133605957, 'train/loss_avg/unit': 0.6267721525207857, 'train/loss_avg/factory': 0.5440944380235322}\n"
     ]
    },
    {
     "name": "stderr",
     "output_type": "stream",
     "text": [
      " 70%|██████▉   | 7200/10356 [13:14<05:02, 10.43it/s]"
     ]
    },
    {
     "name": "stdout",
     "output_type": "stream",
     "text": [
      "loss 7199 {'train/stats/duration': 10.03429388999939, 'train/loss/unit': 22.01398365020752, 'train/loss/factory': 1.7698515164852142, 'train/loss_avg/unit': 0.6231807171604502, 'train/loss_avg/factory': 0.5500051940647379}\n"
     ]
    },
    {
     "name": "stderr",
     "output_type": "stream",
     "text": [
      " 71%|███████   | 7301/10356 [13:25<04:48, 10.58it/s]"
     ]
    },
    {
     "name": "stdout",
     "output_type": "stream",
     "text": [
      "loss 7299 {'train/stats/duration': 10.15007472038269, 'train/loss/unit': 22.009451065063477, 'train/loss/factory': 1.7700552535057068, 'train/loss_avg/unit': 0.623202126223547, 'train/loss_avg/factory': 0.5447368202245321}\n"
     ]
    },
    {
     "name": "stderr",
     "output_type": "stream",
     "text": [
      " 71%|███████▏  | 7401/10356 [13:35<05:25,  9.07it/s]"
     ]
    },
    {
     "name": "stdout",
     "output_type": "stream",
     "text": [
      "loss 7399 {'train/stats/duration': 10.210554122924805, 'train/loss/unit': 21.84133348464966, 'train/loss/factory': 1.8189093244075776, 'train/loss_avg/unit': 0.6164286219826254, 'train/loss_avg/factory': 0.5626692380480245}\n"
     ]
    },
    {
     "name": "stderr",
     "output_type": "stream",
     "text": [
      " 72%|███████▏  | 7502/10356 [13:45<04:46,  9.97it/s]"
     ]
    },
    {
     "name": "stdout",
     "output_type": "stream",
     "text": [
      "loss 7499 {'train/stats/duration': 10.017251968383789, 'train/loss/unit': 21.659127674102784, 'train/loss/factory': 1.7797258591651917, 'train/loss_avg/unit': 0.620285635076988, 'train/loss_avg/factory': 0.5467734701851105}\n"
     ]
    },
    {
     "name": "stderr",
     "output_type": "stream",
     "text": [
      " 73%|███████▎  | 7601/10356 [13:55<04:31, 10.16it/s]"
     ]
    },
    {
     "name": "stdout",
     "output_type": "stream",
     "text": [
      "loss 7599 {'train/stats/duration': 10.030808210372925, 'train/loss/unit': 21.850991401672363, 'train/loss/factory': 1.786062276363373, 'train/loss_avg/unit': 0.6182207243562534, 'train/loss_avg/factory': 0.5524595505293868}\n"
     ]
    },
    {
     "name": "stderr",
     "output_type": "stream",
     "text": [
      " 74%|███████▍  | 7702/10356 [14:05<04:10, 10.61it/s]"
     ]
    },
    {
     "name": "stdout",
     "output_type": "stream",
     "text": [
      "loss 7699 {'train/stats/duration': 9.788687229156494, 'train/loss/unit': 21.766226024627684, 'train/loss/factory': 1.7681890511512757, 'train/loss_avg/unit': 0.6191484944626479, 'train/loss_avg/factory': 0.548000300812187}\n"
     ]
    },
    {
     "name": "stderr",
     "output_type": "stream",
     "text": [
      " 75%|███████▌  | 7801/10356 [14:14<04:17,  9.91it/s]"
     ]
    },
    {
     "name": "stdout",
     "output_type": "stream",
     "text": [
      "loss 7799 {'train/stats/duration': 9.788901805877686, 'train/loss/unit': 21.896214923858643, 'train/loss/factory': 1.7971357190608979, 'train/loss_avg/unit': 0.621368978430028, 'train/loss_avg/factory': 0.5536703779423525}\n"
     ]
    },
    {
     "name": "stderr",
     "output_type": "stream",
     "text": [
      " 76%|███████▋  | 7902/10356 [14:25<03:58, 10.27it/s]"
     ]
    },
    {
     "name": "stdout",
     "output_type": "stream",
     "text": [
      "loss 7899 {'train/stats/duration': 9.988159894943237, 'train/loss/unit': 22.08688796043396, 'train/loss/factory': 1.7722361266613007, 'train/loss_avg/unit': 0.6184618525709105, 'train/loss_avg/factory': 0.5451863264708853}\n"
     ]
    },
    {
     "name": "stderr",
     "output_type": "stream",
     "text": [
      " 77%|███████▋  | 8001/10356 [14:35<04:38,  8.45it/s]"
     ]
    },
    {
     "name": "stdout",
     "output_type": "stream",
     "text": [
      "loss 7999 {'train/stats/duration': 10.165542840957642, 'train/loss/unit': 21.997285461425783, 'train/loss/factory': 1.8057636845111846, 'train/loss_avg/unit': 0.6217271028797602, 'train/loss_avg/factory': 0.5562431640502937}\n"
     ]
    },
    {
     "name": "stderr",
     "output_type": "stream",
     "text": [
      " 78%|███████▊  | 8101/10356 [14:44<03:42, 10.12it/s]"
     ]
    },
    {
     "name": "stdout",
     "output_type": "stream",
     "text": [
      "loss 8099 {'train/stats/duration': 9.881372928619385, 'train/loss/unit': 21.672547245025633, 'train/loss/factory': 1.7693938291072846, 'train/loss_avg/unit': 0.6134067018694254, 'train/loss_avg/factory': 0.5469030642062218}\n"
     ]
    },
    {
     "name": "stderr",
     "output_type": "stream",
     "text": [
      " 79%|███████▉  | 8201/10356 [14:54<03:43,  9.63it/s]"
     ]
    },
    {
     "name": "stdout",
     "output_type": "stream",
     "text": [
      "loss 8199 {'train/stats/duration': 9.77171516418457, 'train/loss/unit': 21.89155700683594, 'train/loss/factory': 1.7812506818771363, 'train/loss_avg/unit': 0.6172804494884706, 'train/loss_avg/factory': 0.5468989436637399}\n"
     ]
    },
    {
     "name": "stderr",
     "output_type": "stream",
     "text": [
      " 80%|████████  | 8301/10356 [15:04<03:20, 10.23it/s]"
     ]
    },
    {
     "name": "stdout",
     "output_type": "stream",
     "text": [
      "loss 8299 {'train/stats/duration': 10.073758840560913, 'train/loss/unit': 21.507235527038574, 'train/loss/factory': 1.7810270500183105, 'train/loss_avg/unit': 0.6125643289223907, 'train/loss_avg/factory': 0.5506901089515073}\n"
     ]
    },
    {
     "name": "stderr",
     "output_type": "stream",
     "text": [
      " 81%|████████  | 8401/10356 [15:14<03:21,  9.71it/s]"
     ]
    },
    {
     "name": "stdout",
     "output_type": "stream",
     "text": [
      "loss 8399 {'train/stats/duration': 9.978105783462524, 'train/loss/unit': 21.47166591644287, 'train/loss/factory': 1.7481034982204438, 'train/loss_avg/unit': 0.6163800382137077, 'train/loss_avg/factory': 0.5380374548948762}\n"
     ]
    },
    {
     "name": "stderr",
     "output_type": "stream",
     "text": [
      " 82%|████████▏ | 8501/10356 [15:25<03:07,  9.90it/s]"
     ]
    },
    {
     "name": "stdout",
     "output_type": "stream",
     "text": [
      "loss 8499 {'train/stats/duration': 10.437585830688477, 'train/loss/unit': 21.76952995300293, 'train/loss/factory': 1.7860324442386628, 'train/loss_avg/unit': 0.6135605672218518, 'train/loss_avg/factory': 0.5508350282341461}\n"
     ]
    },
    {
     "name": "stderr",
     "output_type": "stream",
     "text": [
      " 83%|████████▎ | 8601/10356 [15:34<02:47, 10.49it/s]"
     ]
    },
    {
     "name": "stdout",
     "output_type": "stream",
     "text": [
      "loss 8599 {'train/stats/duration': 9.721725940704346, 'train/loss/unit': 22.218414001464843, 'train/loss/factory': 1.7440136456489563, 'train/loss_avg/unit': 0.6135993390301331, 'train/loss_avg/factory': 0.5403140113015427}\n"
     ]
    },
    {
     "name": "stderr",
     "output_type": "stream",
     "text": [
      " 84%|████████▍ | 8702/10356 [15:45<02:39, 10.37it/s]"
     ]
    },
    {
     "name": "stdout",
     "output_type": "stream",
     "text": [
      "loss 8699 {'train/stats/duration': 9.955272912979126, 'train/loss/unit': 21.691327342987062, 'train/loss/factory': 1.7617658698558807, 'train/loss_avg/unit': 0.6142643443338407, 'train/loss_avg/factory': 0.5431471511046556}\n"
     ]
    },
    {
     "name": "stderr",
     "output_type": "stream",
     "text": [
      " 85%|████████▍ | 8802/10356 [15:54<02:26, 10.62it/s]"
     ]
    },
    {
     "name": "stdout",
     "output_type": "stream",
     "text": [
      "loss 8799 {'train/stats/duration': 9.809910774230957, 'train/loss/unit': 21.408340225219728, 'train/loss/factory': 1.8255403327941895, 'train/loss_avg/unit': 0.6076372729492096, 'train/loss_avg/factory': 0.5584527056315411}\n"
     ]
    },
    {
     "name": "stderr",
     "output_type": "stream",
     "text": [
      " 86%|████████▌ | 8901/10356 [16:04<02:37,  9.25it/s]"
     ]
    },
    {
     "name": "stdout",
     "output_type": "stream",
     "text": [
      "loss 8899 {'train/stats/duration': 9.591129541397095, 'train/loss/unit': 21.377330284118653, 'train/loss/factory': 1.777864191532135, 'train/loss_avg/unit': 0.6080329235172292, 'train/loss_avg/factory': 0.5499778492450718}\n"
     ]
    },
    {
     "name": "stderr",
     "output_type": "stream",
     "text": [
      " 87%|████████▋ | 9001/10356 [16:15<02:52,  7.85it/s]"
     ]
    },
    {
     "name": "stdout",
     "output_type": "stream",
     "text": [
      "loss 8999 {'train/stats/duration': 11.522012948989868, 'train/loss/unit': 21.47133472442627, 'train/loss/factory': 1.7790976774692535, 'train/loss_avg/unit': 0.6090945753742116, 'train/loss_avg/factory': 0.5476454891005228}\n"
     ]
    },
    {
     "name": "stderr",
     "output_type": "stream",
     "text": [
      " 88%|████████▊ | 9101/10356 [16:27<02:25,  8.62it/s]"
     ]
    },
    {
     "name": "stdout",
     "output_type": "stream",
     "text": [
      "loss 9099 {'train/stats/duration': 11.322309017181396, 'train/loss/unit': 21.560898990631102, 'train/loss/factory': 1.7583070623874664, 'train/loss_avg/unit': 0.6077873901185366, 'train/loss_avg/factory': 0.5436695937425277}\n"
     ]
    },
    {
     "name": "stderr",
     "output_type": "stream",
     "text": [
      " 89%|████████▉ | 9201/10356 [16:38<02:00,  9.55it/s]"
     ]
    },
    {
     "name": "stdout",
     "output_type": "stream",
     "text": [
      "loss 9199 {'train/stats/duration': 11.34453010559082, 'train/loss/unit': 21.30930061340332, 'train/loss/factory': 1.8138876175880432, 'train/loss_avg/unit': 0.6080078444254788, 'train/loss_avg/factory': 0.5596656047802974}\n"
     ]
    },
    {
     "name": "stderr",
     "output_type": "stream",
     "text": [
      " 90%|████████▉ | 9301/10356 [16:49<02:01,  8.68it/s]"
     ]
    },
    {
     "name": "stdout",
     "output_type": "stream",
     "text": [
      "loss 9299 {'train/stats/duration': 11.18071174621582, 'train/loss/unit': 22.154450359344484, 'train/loss/factory': 1.7729952597618104, 'train/loss_avg/unit': 0.6200292203672614, 'train/loss_avg/factory': 0.5487511078495314}\n"
     ]
    },
    {
     "name": "stderr",
     "output_type": "stream",
     "text": [
      " 91%|█████████ | 9401/10356 [17:00<01:52,  8.47it/s]"
     ]
    },
    {
     "name": "stdout",
     "output_type": "stream",
     "text": [
      "loss 9399 {'train/stats/duration': 11.000424146652222, 'train/loss/unit': 21.681233978271486, 'train/loss/factory': 1.8543226170539855, 'train/loss_avg/unit': 0.6102941523629759, 'train/loss_avg/factory': 0.5685414901491382}\n"
     ]
    },
    {
     "name": "stderr",
     "output_type": "stream",
     "text": [
      " 92%|█████████▏| 9501/10356 [17:11<01:38,  8.66it/s]"
     ]
    },
    {
     "name": "stdout",
     "output_type": "stream",
     "text": [
      "loss 9499 {'train/stats/duration': 11.215825080871582, 'train/loss/unit': 21.056336364746095, 'train/loss/factory': 1.7807745444774628, 'train/loss_avg/unit': 0.6053533057466146, 'train/loss_avg/factory': 0.5516140688332489}\n"
     ]
    },
    {
     "name": "stderr",
     "output_type": "stream",
     "text": [
      " 93%|█████████▎| 9601/10356 [17:23<01:24,  8.90it/s]"
     ]
    },
    {
     "name": "stdout",
     "output_type": "stream",
     "text": [
      "loss 9599 {'train/stats/duration': 11.168272733688354, 'train/loss/unit': 21.664010219573974, 'train/loss/factory': 1.7555848133563996, 'train/loss_avg/unit': 0.6170595928721346, 'train/loss_avg/factory': 0.5441588444825403}\n"
     ]
    },
    {
     "name": "stderr",
     "output_type": "stream",
     "text": [
      " 94%|█████████▎| 9701/10356 [17:34<01:11,  9.13it/s]"
     ]
    },
    {
     "name": "stdout",
     "output_type": "stream",
     "text": [
      "loss 9699 {'train/stats/duration': 11.058012962341309, 'train/loss/unit': 21.306141834259034, 'train/loss/factory': 1.7580633425712586, 'train/loss_avg/unit': 0.6034381425624056, 'train/loss_avg/factory': 0.5399781754851407}\n"
     ]
    },
    {
     "name": "stderr",
     "output_type": "stream",
     "text": [
      " 95%|█████████▍| 9801/10356 [17:45<01:03,  8.68it/s]"
     ]
    },
    {
     "name": "stdout",
     "output_type": "stream",
     "text": [
      "loss 9799 {'train/stats/duration': 11.253384828567505, 'train/loss/unit': 21.50940044403076, 'train/loss/factory': 1.7788539659976959, 'train/loss_avg/unit': 0.6089980819719526, 'train/loss_avg/factory': 0.5479263615804194}\n"
     ]
    },
    {
     "name": "stderr",
     "output_type": "stream",
     "text": [
      " 96%|█████████▌| 9901/10356 [17:56<00:54,  8.30it/s]"
     ]
    },
    {
     "name": "stdout",
     "output_type": "stream",
     "text": [
      "loss 9899 {'train/stats/duration': 11.2707998752594, 'train/loss/unit': 21.56730619430542, 'train/loss/factory': 1.7949085056781768, 'train/loss_avg/unit': 0.6103165414534498, 'train/loss_avg/factory': 0.5530225951596982}\n"
     ]
    },
    {
     "name": "stderr",
     "output_type": "stream",
     "text": [
      " 97%|█████████▋| 10002/10356 [18:08<00:44,  8.00it/s]"
     ]
    },
    {
     "name": "stdout",
     "output_type": "stream",
     "text": [
      "loss 9999 {'train/stats/duration': 11.252147674560547, 'train/loss/unit': 21.422897720336913, 'train/loss/factory': 1.7933120012283326, 'train/loss_avg/unit': 0.6103901219478959, 'train/loss_avg/factory': 0.5508759688555831}\n"
     ]
    },
    {
     "name": "stderr",
     "output_type": "stream",
     "text": [
      " 98%|█████████▊| 10101/10356 [18:19<00:30,  8.31it/s]"
     ]
    },
    {
     "name": "stdout",
     "output_type": "stream",
     "text": [
      "loss 10099 {'train/stats/duration': 11.203650712966919, 'train/loss/unit': 21.314137954711914, 'train/loss/factory': 1.747132946252823, 'train/loss_avg/unit': 0.6039573696539692, 'train/loss_avg/factory': 0.5387511753000439}\n"
     ]
    },
    {
     "name": "stderr",
     "output_type": "stream",
     "text": [
      " 99%|█████████▊| 10201/10356 [18:30<00:19,  7.99it/s]"
     ]
    },
    {
     "name": "stdout",
     "output_type": "stream",
     "text": [
      "loss 10199 {'train/stats/duration': 11.202553749084473, 'train/loss/unit': 21.16079921722412, 'train/loss/factory': 1.7587121188640595, 'train/loss_avg/unit': 0.6028853557858533, 'train/loss_avg/factory': 0.5403416678313228}\n"
     ]
    },
    {
     "name": "stderr",
     "output_type": "stream",
     "text": [
      " 99%|█████████▉| 10301/10356 [18:41<00:06,  8.62it/s]"
     ]
    },
    {
     "name": "stdout",
     "output_type": "stream",
     "text": [
      "loss 10299 {'train/stats/duration': 11.537060737609863, 'train/loss/unit': 21.20704334259033, 'train/loss/factory': 1.7602036368846894, 'train/loss_avg/unit': 0.6050573967455134, 'train/loss_avg/factory': 0.5438868073925248}\n"
     ]
    },
    {
     "name": "stderr",
     "output_type": "stream",
     "text": [
      "100%|██████████| 10356/10356 [18:47<00:00,  9.18it/s]\n"
     ]
    },
    {
     "name": "stdout",
     "output_type": "stream",
     "text": [
      "{'train/stats/epoch_duration': 1127.8214519023895, 'train/loss/unit': 23.478812938309304, 'train/loss/factory': 1.812956368096688, 'train/loss_avg/unit': 0.6644979376942479, 'train/loss_avg/factory': 0.5592197543342993}\n",
      "loader 1151 bs\n"
     ]
    },
    {
     "name": "stderr",
     "output_type": "stream",
     "text": [
      "  9%|▉         | 101/1151 [00:19<03:06,  5.64it/s]"
     ]
    },
    {
     "name": "stdout",
     "output_type": "stream",
     "text": [
      "loss 99 {'test/stats/roll_duration': 19.187155723571777, 'test/loss/unit': 21.322907638549804, 'test/loss/factory': 1.77270223736763, 'test/loss_avg/unit': 0.5984830244373884, 'test/loss_avg/factory': 0.5434279119261584}\n"
     ]
    },
    {
     "name": "stderr",
     "output_type": "stream",
     "text": [
      " 17%|█▋        | 200/1151 [00:36<02:43,  5.82it/s]"
     ]
    },
    {
     "name": "stdout",
     "output_type": "stream",
     "text": [
      "loss 199 {'test/stats/roll_duration': 17.631916046142578, 'test/loss/unit': 20.92565294265747, 'test/loss/factory': 1.7959555542469026, 'test/loss_avg/unit': 0.596110943254288, 'test/loss_avg/factory': 0.5576335759745423}\n"
     ]
    },
    {
     "name": "stderr",
     "output_type": "stream",
     "text": [
      " 26%|██▌       | 301/1151 [00:54<02:32,  5.56it/s]"
     ]
    },
    {
     "name": "stdout",
     "output_type": "stream",
     "text": [
      "loss 299 {'test/stats/roll_duration': 17.766566514968872, 'test/loss/unit': 21.54401865005493, 'test/loss/factory': 1.7696410775184632, 'test/loss_avg/unit': 0.5993069328195271, 'test/loss_avg/factory': 0.5432548425932111}\n"
     ]
    },
    {
     "name": "stderr",
     "output_type": "stream",
     "text": [
      " 35%|███▍      | 401/1151 [01:12<02:20,  5.33it/s]"
     ]
    },
    {
     "name": "stdout",
     "output_type": "stream",
     "text": [
      "loss 399 {'test/stats/roll_duration': 17.989525079727173, 'test/loss/unit': 21.246448402404784, 'test/loss/factory': 1.7567326128482819, 'test/loss_avg/unit': 0.59803155259073, 'test/loss_avg/factory': 0.5448191129993206}\n"
     ]
    },
    {
     "name": "stderr",
     "output_type": "stream",
     "text": [
      " 44%|████▎     | 501/1151 [01:30<01:52,  5.76it/s]"
     ]
    },
    {
     "name": "stdout",
     "output_type": "stream",
     "text": [
      "loss 499 {'test/stats/roll_duration': 17.52799892425537, 'test/loss/unit': 20.99587462425232, 'test/loss/factory': 1.7478181755542754, 'test/loss_avg/unit': 0.5968573466593932, 'test/loss_avg/factory': 0.5423711279209665}\n"
     ]
    },
    {
     "name": "stderr",
     "output_type": "stream",
     "text": [
      " 52%|█████▏    | 601/1151 [01:48<01:38,  5.58it/s]"
     ]
    },
    {
     "name": "stdout",
     "output_type": "stream",
     "text": [
      "loss 599 {'test/stats/roll_duration': 17.786559104919434, 'test/loss/unit': 21.336678829193115, 'test/loss/factory': 1.761895694732666, 'test/loss_avg/unit': 0.6033821914663329, 'test/loss_avg/factory': 0.5454428210960622}\n"
     ]
    },
    {
     "name": "stderr",
     "output_type": "stream",
     "text": [
      " 61%|██████    | 701/1151 [02:05<01:23,  5.40it/s]"
     ]
    },
    {
     "name": "stdout",
     "output_type": "stream",
     "text": [
      "loss 699 {'test/stats/roll_duration': 17.643827438354492, 'test/loss/unit': 20.990134353637696, 'test/loss/factory': 1.7616302645206452, 'test/loss_avg/unit': 0.59727868984105, 'test/loss_avg/factory': 0.5446192153425623}\n"
     ]
    },
    {
     "name": "stderr",
     "output_type": "stream",
     "text": [
      " 70%|██████▉   | 801/1151 [02:23<00:58,  5.96it/s]"
     ]
    },
    {
     "name": "stdout",
     "output_type": "stream",
     "text": [
      "loss 799 {'test/stats/roll_duration': 17.39466905593872, 'test/loss/unit': 21.079995021820068, 'test/loss/factory': 1.749094045162201, 'test/loss_avg/unit': 0.6048380517674442, 'test/loss_avg/factory': 0.5421812511397889}\n"
     ]
    },
    {
     "name": "stderr",
     "output_type": "stream",
     "text": [
      " 78%|███████▊  | 901/1151 [02:40<00:41,  6.03it/s]"
     ]
    },
    {
     "name": "stdout",
     "output_type": "stream",
     "text": [
      "loss 899 {'test/stats/roll_duration': 17.49482774734497, 'test/loss/unit': 21.007107629776, 'test/loss/factory': 1.7522972667217254, 'test/loss_avg/unit': 0.6011035718554242, 'test/loss_avg/factory': 0.5447752853329573}\n"
     ]
    },
    {
     "name": "stderr",
     "output_type": "stream",
     "text": [
      " 87%|████████▋ | 1001/1151 [02:58<00:26,  5.75it/s]"
     ]
    },
    {
     "name": "stdout",
     "output_type": "stream",
     "text": [
      "loss 999 {'test/stats/roll_duration': 17.536773920059204, 'test/loss/unit': 21.152853298187257, 'test/loss/factory': 1.7644305753707885, 'test/loss_avg/unit': 0.5993473083338258, 'test/loss_avg/factory': 0.5446296100932687}\n"
     ]
    },
    {
     "name": "stderr",
     "output_type": "stream",
     "text": [
      " 96%|█████████▌| 1101/1151 [03:15<00:08,  5.78it/s]"
     ]
    },
    {
     "name": "stdout",
     "output_type": "stream",
     "text": [
      "loss 1099 {'test/stats/roll_duration': 17.77573037147522, 'test/loss/unit': 21.375166015625, 'test/loss/factory': 1.7625229775905609, 'test/loss_avg/unit': 0.6024064087987341, 'test/loss_avg/factory': 0.5434515859489046}\n"
     ]
    },
    {
     "name": "stderr",
     "output_type": "stream",
     "text": [
      "100%|██████████| 1151/1151 [03:24<00:00,  5.63it/s]\n"
     ]
    },
    {
     "name": "stdout",
     "output_type": "stream",
     "text": [
      "{'test/stats/epoch_duration': 204.47835159301758, 'test/loss/unit': 21.176751341434482, 'test/loss/factory': 1.7641880677949855, 'test/loss_avg/unit': 0.5997794149944964, 'test/loss_avg/factory': 0.5453628851476083}\n",
      "unit\n",
      "[[198098   7434   9765   6575  11508  14356   9369   1533  28283      0      0      0      0      0      0      0      0      0      0      0]\n",
      " [  2507  28945   4543   4211   5154    611   1049     64   2163      0      0      0      0      0      0      0      0      0      0      0]\n",
      " [  2412   2864  30826   2733   6693    559   1096     55   2090      0      0      0      0      0      0      0      0      0      0      0]\n",
      " [  2611   5233   4557  27568   5496    584   1042     63   2304      0      0      0      0      0      0      0      0      0      0      0]\n",
      " [  2115   2814   4897   2680  33470    497    972     69   1880      0      0      0      0      0      0      0      0      0      0      0]\n",
      " [  7882   1052   1630   1145   2033 165362  25341      0      0      0      0      0      0      0      0      0      0      0      0      0]\n",
      " [    50     43     46     35     62    628   7886      0    250      0      0      0      0      0      0      0      0      0      0      0]\n",
      " [     4      0      0      0      1      0      0    135     15      0      0      0      0      0      0      0      0      0      0      0]\n",
      " [  1264    235    236    121    572      0    828    503  30608      0      0      0      0      0      0      0      0      0      0      0]\n",
      " [     0      0      0      0      0      0      0      0      0      0      0      0      0      0      0      0      0      0      0      0]\n",
      " [     0      0      0      0      0      0      0      0      0      0 299539  11346  13360  14513  14054   5855   4407   4912  47676      0]\n",
      " [     0      0      0      0      0      0      0      0      0      0  17933 115384  26539  45169  29666   4813   2244    962   9755      0]\n",
      " [     0      0      0      0      0      0      0      0      0      0  17863  18960 130576  28556  38438   4472   2278   1084   9464      0]\n",
      " [     0      0      0      0      0      0      0      0      0      0  17731  24173  24158 141234  25770   4743   2263    833  10012      0]\n",
      " [     0      0      0      0      0      0      0      0      0      0  17779  18037  34295  28383 137569   4438   2261   1008   9173      0]\n",
      " [     0      0      0      0      0      0      0      0      0      0   5523   1125   1348   1576   1690 284951   5986    123      0      0]\n",
      " [     0      0      0      0      0      0      0      0      0      0     14      3      4      8      7     70   4531     11     40      0]\n",
      " [     0      0      0      0      0      0      0      0      0      0    185     27     34     61     43     22     20  29430    432      0]\n",
      " [     0      0      0      0      0      0      0      0      0      0   4082    424    669    555    825      0   1617   2918  97654      0]\n",
      " [     0      0      0      0      0      0      0      0      0      0      0      0      0      0      0      0      0      0      0      0]]\n",
      "factory\n",
      "[[47205   128 26706 29563]\n",
      " [    0  1334     0     0]\n",
      " [  132     5  6421    71]\n",
      " [21602   117 35570 69478]]\n",
      "{'lr': 0.003, 'train/stats/epoch_duration': 1127.8214519023895, 'train/loss/unit': 23.478812938309304, 'train/loss/factory': 1.812956368096688, 'train/loss_avg/unit': 0.6644979376942479, 'train/loss_avg/factory': 0.5592197543342993, 'test/stats/epoch_duration': 204.47835159301758, 'test/loss/unit': 21.176751341434482, 'test/loss/factory': 1.7641880677949855, 'test/loss_avg/unit': 0.5997794149944964, 'test/loss_avg/factory': 0.5453628851476083}\n",
      "epoch 1 lr 0.00285\n",
      "loader 10356\n"
     ]
    },
    {
     "name": "stderr",
     "output_type": "stream",
     "text": [
      "  1%|          | 101/10356 [00:13<18:38,  9.17it/s]"
     ]
    },
    {
     "name": "stdout",
     "output_type": "stream",
     "text": [
      "loss 99 {'train/stats/duration': 13.391398429870605, 'train/loss/unit': 21.604322872161866, 'train/loss/factory': 1.8008830165863037, 'train/loss_avg/unit': 0.6070997415671718, 'train/loss_avg/factory': 0.5524283938921576}\n"
     ]
    },
    {
     "name": "stderr",
     "output_type": "stream",
     "text": [
      "  2%|▏         | 201/10356 [00:24<19:34,  8.64it/s]"
     ]
    },
    {
     "name": "stdout",
     "output_type": "stream",
     "text": [
      "loss 199 {'train/stats/duration': 11.453898668289185, 'train/loss/unit': 21.44561212539673, 'train/loss/factory': 1.7526914203166961, 'train/loss_avg/unit': 0.6020954480767176, 'train/loss_avg/factory': 0.5423401832835985}\n"
     ]
    },
    {
     "name": "stderr",
     "output_type": "stream",
     "text": [
      "  3%|▎         | 302/10356 [00:36<17:24,  9.62it/s]"
     ]
    },
    {
     "name": "stdout",
     "output_type": "stream",
     "text": [
      "loss 299 {'train/stats/duration': 11.394611835479736, 'train/loss/unit': 21.29232810974121, 'train/loss/factory': 1.7971978878974915, 'train/loss_avg/unit': 0.6002793104410045, 'train/loss_avg/factory': 0.5532595724676329}\n"
     ]
    },
    {
     "name": "stderr",
     "output_type": "stream",
     "text": [
      "  4%|▍         | 401/10356 [00:47<17:31,  9.47it/s]"
     ]
    },
    {
     "name": "stdout",
     "output_type": "stream",
     "text": [
      "loss 399 {'train/stats/duration': 11.24439024925232, 'train/loss/unit': 21.42636444091797, 'train/loss/factory': 1.7858861470222473, 'train/loss_avg/unit': 0.6000783661822102, 'train/loss_avg/factory': 0.5504706268258094}\n"
     ]
    },
    {
     "name": "stderr",
     "output_type": "stream",
     "text": [
      "  5%|▍         | 501/10356 [00:58<19:03,  8.62it/s]"
     ]
    },
    {
     "name": "stdout",
     "output_type": "stream",
     "text": [
      "loss 499 {'train/stats/duration': 11.02147626876831, 'train/loss/unit': 21.10527795791626, 'train/loss/factory': 1.7289435362815857, 'train/loss_avg/unit': 0.6033210762426189, 'train/loss_avg/factory': 0.5346277282887686}\n"
     ]
    },
    {
     "name": "stderr",
     "output_type": "stream",
     "text": [
      "  6%|▌         | 601/10356 [01:09<16:10, 10.05it/s]"
     ]
    },
    {
     "name": "stdout",
     "output_type": "stream",
     "text": [
      "loss 599 {'train/stats/duration': 11.04267954826355, 'train/loss/unit': 21.555875911712647, 'train/loss/factory': 1.7644700729846954, 'train/loss_avg/unit': 0.6015889135605179, 'train/loss_avg/factory': 0.544519034329352}\n"
     ]
    },
    {
     "name": "stderr",
     "output_type": "stream",
     "text": [
      "  7%|▋         | 701/10356 [01:20<18:06,  8.89it/s]"
     ]
    },
    {
     "name": "stdout",
     "output_type": "stream",
     "text": [
      "loss 699 {'train/stats/duration': 11.004754543304443, 'train/loss/unit': 20.961585178375245, 'train/loss/factory': 1.755289534330368, 'train/loss_avg/unit': 0.5988362008483926, 'train/loss_avg/factory': 0.5426233431467822}\n"
     ]
    },
    {
     "name": "stderr",
     "output_type": "stream",
     "text": [
      "  8%|▊         | 801/10356 [01:31<17:25,  9.14it/s]"
     ]
    },
    {
     "name": "stdout",
     "output_type": "stream",
     "text": [
      "loss 799 {'train/stats/duration': 11.11793327331543, 'train/loss/unit': 21.107331771850586, 'train/loss/factory': 1.7911719131469725, 'train/loss_avg/unit': 0.5990001308254032, 'train/loss_avg/factory': 0.5516432620721443}\n"
     ]
    },
    {
     "name": "stderr",
     "output_type": "stream",
     "text": [
      "  9%|▊         | 902/10356 [01:43<16:12,  9.72it/s]"
     ]
    },
    {
     "name": "stdout",
     "output_type": "stream",
     "text": [
      "loss 899 {'train/stats/duration': 11.143129348754883, 'train/loss/unit': 21.23803304672241, 'train/loss/factory': 1.7443670189380647, 'train/loss_avg/unit': 0.6039510359492308, 'train/loss_avg/factory': 0.537166407017117}\n"
     ]
    },
    {
     "name": "stderr",
     "output_type": "stream",
     "text": [
      " 10%|▉         | 1001/10356 [01:53<17:28,  8.92it/s]"
     ]
    },
    {
     "name": "stdout",
     "output_type": "stream",
     "text": [
      "loss 999 {'train/stats/duration': 11.003575801849365, 'train/loss/unit': 21.361565895080567, 'train/loss/factory': 1.7974935245513917, 'train/loss_avg/unit': 0.6012410951896187, 'train/loss_avg/factory': 0.5550770520922874}\n"
     ]
    },
    {
     "name": "stderr",
     "output_type": "stream",
     "text": [
      " 11%|█         | 1101/10356 [02:05<17:51,  8.64it/s]"
     ]
    },
    {
     "name": "stdout",
     "output_type": "stream",
     "text": [
      "loss 1099 {'train/stats/duration': 11.15846586227417, 'train/loss/unit': 21.581541175842286, 'train/loss/factory': 1.8381707060337067, 'train/loss_avg/unit': 0.600786377429028, 'train/loss_avg/factory': 0.5649223191756237}\n"
     ]
    },
    {
     "name": "stderr",
     "output_type": "stream",
     "text": [
      " 12%|█▏        | 1201/10356 [02:16<18:50,  8.10it/s]"
     ]
    },
    {
     "name": "stdout",
     "output_type": "stream",
     "text": [
      "loss 1199 {'train/stats/duration': 10.988426208496094, 'train/loss/unit': 21.071052589416503, 'train/loss/factory': 1.7390602266788482, 'train/loss_avg/unit': 0.5945852489969453, 'train/loss_avg/factory': 0.5361775300544442}\n"
     ]
    },
    {
     "name": "stderr",
     "output_type": "stream",
     "text": [
      " 13%|█▎        | 1301/10356 [02:27<17:21,  8.70it/s]"
     ]
    },
    {
     "name": "stdout",
     "output_type": "stream",
     "text": [
      "loss 1299 {'train/stats/duration': 11.473784446716309, 'train/loss/unit': 21.528182487487793, 'train/loss/factory': 1.778593554496765, 'train/loss_avg/unit': 0.6012615220870032, 'train/loss_avg/factory': 0.5474754936161207}\n"
     ]
    },
    {
     "name": "stderr",
     "output_type": "stream",
     "text": [
      " 14%|█▎        | 1401/10356 [02:39<18:26,  8.09it/s]"
     ]
    },
    {
     "name": "stdout",
     "output_type": "stream",
     "text": [
      "loss 1399 {'train/stats/duration': 11.53032112121582, 'train/loss/unit': 21.098981971740724, 'train/loss/factory': 1.7356010055541993, 'train/loss_avg/unit': 0.5999931300176747, 'train/loss_avg/factory': 0.5327740723596732}\n"
     ]
    },
    {
     "name": "stderr",
     "output_type": "stream",
     "text": [
      " 14%|█▍        | 1501/10356 [02:50<15:46,  9.36it/s]"
     ]
    },
    {
     "name": "stdout",
     "output_type": "stream",
     "text": [
      "loss 1499 {'train/stats/duration': 11.094175577163696, 'train/loss/unit': 21.467246837615967, 'train/loss/factory': 1.7805059099197387, 'train/loss_avg/unit': 0.6013579366079501, 'train/loss_avg/factory': 0.5499521312220889}\n"
     ]
    },
    {
     "name": "stderr",
     "output_type": "stream",
     "text": [
      " 15%|█▌        | 1601/10356 [03:01<15:17,  9.54it/s]"
     ]
    },
    {
     "name": "stdout",
     "output_type": "stream",
     "text": [
      "loss 1599 {'train/stats/duration': 11.081729412078857, 'train/loss/unit': 21.130475006103516, 'train/loss/factory': 1.7636684143543244, 'train/loss_avg/unit': 0.597563412841701, 'train/loss_avg/factory': 0.5415424801312646}\n"
     ]
    },
    {
     "name": "stderr",
     "output_type": "stream",
     "text": [
      " 16%|█▋        | 1701/10356 [03:12<15:27,  9.34it/s]"
     ]
    },
    {
     "name": "stdout",
     "output_type": "stream",
     "text": [
      "loss 1699 {'train/stats/duration': 11.46178126335144, 'train/loss/unit': 21.099358444213866, 'train/loss/factory': 1.7528002047538758, 'train/loss_avg/unit': 0.5991788353149823, 'train/loss_avg/factory': 0.5443273534156813}\n"
     ]
    },
    {
     "name": "stderr",
     "output_type": "stream",
     "text": [
      " 17%|█▋        | 1801/10356 [03:24<16:27,  8.67it/s]"
     ]
    },
    {
     "name": "stdout",
     "output_type": "stream",
     "text": [
      "loss 1799 {'train/stats/duration': 11.26892876625061, 'train/loss/unit': 20.97469482421875, 'train/loss/factory': 1.7664208900928497, 'train/loss_avg/unit': 0.5949203288928556, 'train/loss_avg/factory': 0.5452369236665714}\n"
     ]
    },
    {
     "name": "stderr",
     "output_type": "stream",
     "text": [
      " 18%|█▊        | 1901/10356 [03:35<15:44,  8.95it/s]"
     ]
    },
    {
     "name": "stdout",
     "output_type": "stream",
     "text": [
      "loss 1899 {'train/stats/duration': 11.148225784301758, 'train/loss/unit': 20.91509603500366, 'train/loss/factory': 1.7574115800857544, 'train/loss_avg/unit': 0.5995435070408833, 'train/loss_avg/factory': 0.5392601333672213}\n"
     ]
    },
    {
     "name": "stderr",
     "output_type": "stream",
     "text": [
      " 19%|█▉        | 2002/10356 [03:46<15:01,  9.27it/s]"
     ]
    },
    {
     "name": "stdout",
     "output_type": "stream",
     "text": [
      "loss 1999 {'train/stats/duration': 11.350121259689331, 'train/loss/unit': 20.891366119384767, 'train/loss/factory': 1.7524085390567778, 'train/loss_avg/unit': 0.5908377315291233, 'train/loss_avg/factory': 0.5399105134898905}\n"
     ]
    },
    {
     "name": "stderr",
     "output_type": "stream",
     "text": [
      " 20%|██        | 2101/10356 [03:57<15:16,  9.01it/s]"
     ]
    },
    {
     "name": "stdout",
     "output_type": "stream",
     "text": [
      "loss 2099 {'train/stats/duration': 10.81056547164917, 'train/loss/unit': 20.957971019744875, 'train/loss/factory': 1.8248186302185059, 'train/loss_avg/unit': 0.5937057133255713, 'train/loss_avg/factory': 0.5564674291777453}\n"
     ]
    },
    {
     "name": "stderr",
     "output_type": "stream",
     "text": [
      " 21%|██▏       | 2201/10356 [04:08<16:48,  8.09it/s]"
     ]
    },
    {
     "name": "stdout",
     "output_type": "stream",
     "text": [
      "loss 2199 {'train/stats/duration': 11.093501567840576, 'train/loss/unit': 21.090101203918458, 'train/loss/factory': 1.7513774812221528, 'train/loss_avg/unit': 0.5889373140555013, 'train/loss_avg/factory': 0.5431749123654737}\n"
     ]
    },
    {
     "name": "stderr",
     "output_type": "stream",
     "text": [
      " 22%|██▏       | 2301/10356 [04:19<14:45,  9.10it/s]"
     ]
    },
    {
     "name": "stdout",
     "output_type": "stream",
     "text": [
      "loss 2299 {'train/stats/duration': 10.91848349571228, 'train/loss/unit': 21.168816299438475, 'train/loss/factory': 1.7485281467437743, 'train/loss_avg/unit': 0.5901570959294494, 'train/loss_avg/factory': 0.5388308951963863}\n"
     ]
    },
    {
     "name": "stderr",
     "output_type": "stream",
     "text": [
      " 23%|██▎       | 2401/10356 [04:30<13:30,  9.82it/s]"
     ]
    },
    {
     "name": "stdout",
     "output_type": "stream",
     "text": [
      "loss 2399 {'train/stats/duration': 10.921293020248413, 'train/loss/unit': 20.7402543258667, 'train/loss/factory': 1.7665771102905274, 'train/loss_avg/unit': 0.5942240568946029, 'train/loss_avg/factory': 0.5478057704822662}\n"
     ]
    },
    {
     "name": "stderr",
     "output_type": "stream",
     "text": [
      " 24%|██▍       | 2501/10356 [04:41<13:34,  9.64it/s]"
     ]
    },
    {
     "name": "stdout",
     "output_type": "stream",
     "text": [
      "loss 2499 {'train/stats/duration': 11.001952409744263, 'train/loss/unit': 20.83164155960083, 'train/loss/factory': 1.7988674747943878, 'train/loss_avg/unit': 0.5894217621268164, 'train/loss_avg/factory': 0.5504258703936277}\n"
     ]
    },
    {
     "name": "stderr",
     "output_type": "stream",
     "text": [
      " 25%|██▌       | 2601/10356 [04:52<14:29,  8.92it/s]"
     ]
    },
    {
     "name": "stdout",
     "output_type": "stream",
     "text": [
      "loss 2599 {'train/stats/duration': 11.124288082122803, 'train/loss/unit': 20.955888872146605, 'train/loss/factory': 1.7868045568466187, 'train/loss_avg/unit': 0.5914305420542033, 'train/loss_avg/factory': 0.5521022226348793}\n"
     ]
    },
    {
     "name": "stderr",
     "output_type": "stream",
     "text": [
      " 26%|██▌       | 2701/10356 [05:03<13:54,  9.17it/s]"
     ]
    },
    {
     "name": "stdout",
     "output_type": "stream",
     "text": [
      "loss 2699 {'train/stats/duration': 11.192153215408325, 'train/loss/unit': 20.97624237060547, 'train/loss/factory': 1.7322386419773101, 'train/loss_avg/unit': 0.5911069181720348, 'train/loss_avg/factory': 0.5370000927975852}\n"
     ]
    },
    {
     "name": "stderr",
     "output_type": "stream",
     "text": [
      " 27%|██▋       | 2801/10356 [05:14<14:16,  8.83it/s]"
     ]
    },
    {
     "name": "stdout",
     "output_type": "stream",
     "text": [
      "loss 2799 {'train/stats/duration': 11.218573331832886, 'train/loss/unit': 20.897661113739012, 'train/loss/factory': 1.7861018371582031, 'train/loss_avg/unit': 0.5926114911696844, 'train/loss_avg/factory': 0.552735244919588}\n"
     ]
    },
    {
     "name": "stderr",
     "output_type": "stream",
     "text": [
      " 28%|██▊       | 2901/10356 [05:25<14:02,  8.85it/s]"
     ]
    },
    {
     "name": "stdout",
     "output_type": "stream",
     "text": [
      "loss 2899 {'train/stats/duration': 10.775304079055786, 'train/loss/unit': 21.026269035339354, 'train/loss/factory': 1.786195524930954, 'train/loss_avg/unit': 0.5939348027188065, 'train/loss_avg/factory': 0.5538208561402754}\n"
     ]
    },
    {
     "name": "stderr",
     "output_type": "stream",
     "text": [
      " 29%|██▉       | 3001/10356 [05:36<14:35,  8.40it/s]"
     ]
    },
    {
     "name": "stdout",
     "output_type": "stream",
     "text": [
      "loss 2999 {'train/stats/duration': 11.217678308486938, 'train/loss/unit': 20.867789535522462, 'train/loss/factory': 1.7490001547336578, 'train/loss_avg/unit': 0.5885803549347131, 'train/loss_avg/factory': 0.5401896858395775}\n"
     ]
    },
    {
     "name": "stderr",
     "output_type": "stream",
     "text": [
      " 30%|██▉       | 3101/10356 [05:48<14:22,  8.41it/s]"
     ]
    },
    {
     "name": "stdout",
     "output_type": "stream",
     "text": [
      "loss 3099 {'train/stats/duration': 11.41765284538269, 'train/loss/unit': 21.30002223968506, 'train/loss/factory': 1.8075694572925567, 'train/loss_avg/unit': 0.5924612421222057, 'train/loss_avg/factory': 0.5563442111752559}\n"
     ]
    },
    {
     "name": "stderr",
     "output_type": "stream",
     "text": [
      " 31%|███       | 3202/10356 [05:59<13:03,  9.13it/s]"
     ]
    },
    {
     "name": "stdout",
     "output_type": "stream",
     "text": [
      "loss 3199 {'train/stats/duration': 11.172297477722168, 'train/loss/unit': 20.831165027618407, 'train/loss/factory': 1.8008745169639588, 'train/loss_avg/unit': 0.5951779273767894, 'train/loss_avg/factory': 0.5509996028813258}\n"
     ]
    },
    {
     "name": "stderr",
     "output_type": "stream",
     "text": [
      " 32%|███▏      | 3301/10356 [06:10<12:26,  9.45it/s]"
     ]
    },
    {
     "name": "stdout",
     "output_type": "stream",
     "text": [
      "loss 3299 {'train/stats/duration': 11.157581329345703, 'train/loss/unit': 21.072340335845947, 'train/loss/factory': 1.7725908589363097, 'train/loss_avg/unit': 0.5947241916142514, 'train/loss_avg/factory': 0.5489447374715876}\n"
     ]
    },
    {
     "name": "stderr",
     "output_type": "stream",
     "text": [
      " 33%|███▎      | 3401/10356 [06:21<14:20,  8.09it/s]"
     ]
    },
    {
     "name": "stdout",
     "output_type": "stream",
     "text": [
      "loss 3399 {'train/stats/duration': 11.234274625778198, 'train/loss/unit': 20.738207149505616, 'train/loss/factory': 1.7618277525901795, 'train/loss_avg/unit': 0.5865558931594912, 'train/loss_avg/factory': 0.5421598065015139}\n"
     ]
    },
    {
     "name": "stderr",
     "output_type": "stream",
     "text": [
      " 34%|███▍      | 3501/10356 [06:32<12:54,  8.85it/s]"
     ]
    },
    {
     "name": "stdout",
     "output_type": "stream",
     "text": [
      "loss 3499 {'train/stats/duration': 10.693410158157349, 'train/loss/unit': 20.759728622436523, 'train/loss/factory': 1.7660251092910766, 'train/loss_avg/unit': 0.5924747027668932, 'train/loss_avg/factory': 0.5487916700002475}\n"
     ]
    },
    {
     "name": "stderr",
     "output_type": "stream",
     "text": [
      " 35%|███▍      | 3602/10356 [06:42<10:40, 10.54it/s]"
     ]
    },
    {
     "name": "stdout",
     "output_type": "stream",
     "text": [
      "loss 3599 {'train/stats/duration': 9.736522912979126, 'train/loss/unit': 20.959320487976075, 'train/loss/factory': 1.761882976293564, 'train/loss_avg/unit': 0.5938337338806988, 'train/loss_avg/factory': 0.5420903440677728}\n"
     ]
    },
    {
     "name": "stderr",
     "output_type": "stream",
     "text": [
      " 36%|███▌      | 3701/10356 [06:52<10:34, 10.49it/s]"
     ]
    },
    {
     "name": "stdout",
     "output_type": "stream",
     "text": [
      "loss 3699 {'train/stats/duration': 9.897865056991577, 'train/loss/unit': 20.645324516296387, 'train/loss/factory': 1.7430983579158783, 'train/loss_avg/unit': 0.5875107419430913, 'train/loss_avg/factory': 0.5448701184420982}\n"
     ]
    },
    {
     "name": "stderr",
     "output_type": "stream",
     "text": [
      " 37%|███▋      | 3801/10356 [07:01<10:13, 10.69it/s]"
     ]
    },
    {
     "name": "stdout",
     "output_type": "stream",
     "text": [
      "loss 3799 {'train/stats/duration': 9.633216142654419, 'train/loss/unit': 20.76448419570923, 'train/loss/factory': 1.7673321902751922, 'train/loss_avg/unit': 0.5857698244220663, 'train/loss_avg/factory': 0.5441567208293869}\n"
     ]
    },
    {
     "name": "stderr",
     "output_type": "stream",
     "text": [
      " 38%|███▊      | 3902/10356 [07:11<10:09, 10.59it/s]"
     ]
    },
    {
     "name": "stdout",
     "output_type": "stream",
     "text": [
      "loss 3899 {'train/stats/duration': 9.719549179077148, 'train/loss/unit': 20.465166206359864, 'train/loss/factory': 1.7493379759788512, 'train/loss_avg/unit': 0.5858370082214742, 'train/loss_avg/factory': 0.5410859270089646}\n"
     ]
    },
    {
     "name": "stderr",
     "output_type": "stream",
     "text": [
      " 39%|███▊      | 4000/10356 [07:21<10:22, 10.21it/s]"
     ]
    },
    {
     "name": "stdout",
     "output_type": "stream",
     "text": [
      "loss 3999 {'train/stats/duration': 9.76614236831665, 'train/loss/unit': 20.799404134750365, 'train/loss/factory': 1.7317050993442535, 'train/loss_avg/unit': 0.5911181388709774, 'train/loss_avg/factory': 0.5356228411711276}\n"
     ]
    },
    {
     "name": "stderr",
     "output_type": "stream",
     "text": [
      " 40%|███▉      | 4101/10356 [07:31<10:05, 10.34it/s]"
     ]
    },
    {
     "name": "stdout",
     "output_type": "stream",
     "text": [
      "loss 4099 {'train/stats/duration': 9.8901047706604, 'train/loss/unit': 20.693261051177977, 'train/loss/factory': 1.7821896827220918, 'train/loss_avg/unit': 0.5901789999056476, 'train/loss_avg/factory': 0.5498086281543305}\n"
     ]
    },
    {
     "name": "stderr",
     "output_type": "stream",
     "text": [
      " 41%|████      | 4202/10356 [07:41<09:55, 10.33it/s]"
     ]
    },
    {
     "name": "stdout",
     "output_type": "stream",
     "text": [
      "loss 4199 {'train/stats/duration': 9.903815984725952, 'train/loss/unit': 20.839470739364625, 'train/loss/factory': 1.7623515677452088, 'train/loss_avg/unit': 0.5931988711342515, 'train/loss_avg/factory': 0.544717895576903}\n"
     ]
    },
    {
     "name": "stderr",
     "output_type": "stream",
     "text": [
      " 42%|████▏     | 4302/10356 [07:51<09:41, 10.40it/s]"
     ]
    },
    {
     "name": "stdout",
     "output_type": "stream",
     "text": [
      "loss 4299 {'train/stats/duration': 9.99768853187561, 'train/loss/unit': 21.025799503326414, 'train/loss/factory': 1.7458440804481505, 'train/loss_avg/unit': 0.5897054429989228, 'train/loss_avg/factory': 0.534476338727644}\n"
     ]
    },
    {
     "name": "stderr",
     "output_type": "stream",
     "text": [
      " 43%|████▎     | 4402/10356 [08:01<09:22, 10.58it/s]"
     ]
    },
    {
     "name": "stdout",
     "output_type": "stream",
     "text": [
      "loss 4399 {'train/stats/duration': 10.176899194717407, 'train/loss/unit': 20.802670154571533, 'train/loss/factory': 1.736280884742737, 'train/loss_avg/unit': 0.5897393177342573, 'train/loss_avg/factory': 0.5371845804192144}\n"
     ]
    },
    {
     "name": "stderr",
     "output_type": "stream",
     "text": [
      " 43%|████▎     | 4502/10356 [08:11<09:31, 10.24it/s]"
     ]
    },
    {
     "name": "stdout",
     "output_type": "stream",
     "text": [
      "loss 4499 {'train/stats/duration': 10.030973434448242, 'train/loss/unit': 20.77060353279114, 'train/loss/factory': 1.7277768647670746, 'train/loss_avg/unit': 0.5955014099736325, 'train/loss_avg/factory': 0.533353361641906}\n"
     ]
    },
    {
     "name": "stderr",
     "output_type": "stream",
     "text": [
      " 44%|████▍     | 4601/10356 [08:21<10:11,  9.41it/s]"
     ]
    },
    {
     "name": "stdout",
     "output_type": "stream",
     "text": [
      "loss 4599 {'train/stats/duration': 10.017216444015503, 'train/loss/unit': 20.88255470275879, 'train/loss/factory': 1.781962878704071, 'train/loss_avg/unit': 0.5915801735549775, 'train/loss_avg/factory': 0.5513524637845574}\n"
     ]
    },
    {
     "name": "stderr",
     "output_type": "stream",
     "text": [
      " 45%|████▌     | 4701/10356 [08:31<09:13, 10.22it/s]"
     ]
    },
    {
     "name": "stdout",
     "output_type": "stream",
     "text": [
      "loss 4699 {'train/stats/duration': 10.387639284133911, 'train/loss/unit': 20.711679410934448, 'train/loss/factory': 1.7402602231502533, 'train/loss_avg/unit': 0.586630983753153, 'train/loss_avg/factory': 0.5376190943647792}\n"
     ]
    },
    {
     "name": "stderr",
     "output_type": "stream",
     "text": [
      " 46%|████▋     | 4801/10356 [08:41<09:28,  9.77it/s]"
     ]
    },
    {
     "name": "stdout",
     "output_type": "stream",
     "text": [
      "loss 4799 {'train/stats/duration': 10.149520874023438, 'train/loss/unit': 21.11904146194458, 'train/loss/factory': 1.7464379906654357, 'train/loss_avg/unit': 0.5925932319366916, 'train/loss_avg/factory': 0.5379016960750447}\n"
     ]
    },
    {
     "name": "stderr",
     "output_type": "stream",
     "text": [
      " 47%|████▋     | 4901/10356 [08:51<09:28,  9.59it/s]"
     ]
    },
    {
     "name": "stdout",
     "output_type": "stream",
     "text": [
      "loss 4899 {'train/stats/duration': 10.041760921478271, 'train/loss/unit': 20.801627292633057, 'train/loss/factory': 1.752731273174286, 'train/loss_avg/unit': 0.5861586859379241, 'train/loss_avg/factory': 0.537979838467158}\n"
     ]
    },
    {
     "name": "stderr",
     "output_type": "stream",
     "text": [
      " 48%|████▊     | 5001/10356 [09:01<08:42, 10.26it/s]"
     ]
    },
    {
     "name": "stdout",
     "output_type": "stream",
     "text": [
      "loss 4999 {'train/stats/duration': 9.774583339691162, 'train/loss/unit': 20.852086391448974, 'train/loss/factory': 1.7637700486183165, 'train/loss_avg/unit': 0.5825965388229583, 'train/loss_avg/factory': 0.5423631483555611}\n"
     ]
    },
    {
     "name": "stderr",
     "output_type": "stream",
     "text": [
      " 49%|████▉     | 5101/10356 [09:11<08:23, 10.43it/s]"
     ]
    },
    {
     "name": "stdout",
     "output_type": "stream",
     "text": [
      "loss 5099 {'train/stats/duration': 9.816930532455444, 'train/loss/unit': 20.81908908843994, 'train/loss/factory': 1.7513985669612884, 'train/loss_avg/unit': 0.5899782228825906, 'train/loss_avg/factory': 0.5401020296501565}\n"
     ]
    },
    {
     "name": "stderr",
     "output_type": "stream",
     "text": [
      " 50%|█████     | 5202/10356 [09:21<08:09, 10.53it/s]"
     ]
    },
    {
     "name": "stdout",
     "output_type": "stream",
     "text": [
      "loss 5199 {'train/stats/duration': 9.632692098617554, 'train/loss/unit': 20.63833471298218, 'train/loss/factory': 1.7525227522850038, 'train/loss_avg/unit': 0.5916791171538656, 'train/loss_avg/factory': 0.5423397552392116}\n"
     ]
    },
    {
     "name": "stderr",
     "output_type": "stream",
     "text": [
      " 51%|█████     | 5301/10356 [09:31<08:20, 10.11it/s]"
     ]
    },
    {
     "name": "stdout",
     "output_type": "stream",
     "text": [
      "loss 5299 {'train/stats/duration': 10.145811557769775, 'train/loss/unit': 20.332667293548585, 'train/loss/factory': 1.7568823099136353, 'train/loss_avg/unit': 0.5828637253891642, 'train/loss_avg/factory': 0.5398415407357383}\n"
     ]
    },
    {
     "name": "stderr",
     "output_type": "stream",
     "text": [
      " 52%|█████▏    | 5402/10356 [09:40<08:00, 10.31it/s]"
     ]
    },
    {
     "name": "stdout",
     "output_type": "stream",
     "text": [
      "loss 5399 {'train/stats/duration': 9.664998054504395, 'train/loss/unit': 20.924555625915527, 'train/loss/factory': 1.7539701759815216, 'train/loss_avg/unit': 0.5847548694248542, 'train/loss_avg/factory': 0.5409190786530936}\n"
     ]
    },
    {
     "name": "stderr",
     "output_type": "stream",
     "text": [
      " 53%|█████▎    | 5500/10356 [09:50<07:42, 10.50it/s]"
     ]
    },
    {
     "name": "stdout",
     "output_type": "stream",
     "text": [
      "loss 5499 {'train/stats/duration': 10.07902979850769, 'train/loss/unit': 20.456030683517454, 'train/loss/factory': 1.7572573959827422, 'train/loss_avg/unit': 0.580218415479774, 'train/loss_avg/factory': 0.5419743885938404}\n"
     ]
    },
    {
     "name": "stderr",
     "output_type": "stream",
     "text": [
      " 54%|█████▍    | 5575/10356 [09:58<07:54, 10.08it/s]"
     ]
    }
   ],
   "source": [
    "\n",
    "def train_policy_game():\n",
    "    gc.collect()\n",
    "    torch.cuda.empty_cache()\n",
    "    \n",
    "    seed_everything(42)\n",
    "    \n",
    "    ds_train, ds_test = dataset_dict[2]\n",
    "    \n",
    "    X_train_loader = DataLoader(ds_train, batch_size=config.batch_size_game, shuffle=True, num_workers=14, prefetch_factor=2, pin_memory=True)\n",
    "    X_test_loader = DataLoader(ds_test, batch_size=config.batch_size_game, shuffle=False, num_workers=14, prefetch_factor=2, pin_memory=True)\n",
    "\n",
    "    obs_spec = fmaker.get_obs_spec()\n",
    "    policy_game = Policy_Game(obs_spec[\"board\"].shape[-1],\n",
    "                          obs_spec[\"game\"].shape[-1],\n",
    "                          len(amaker.unit_actions),\n",
    "                          len(amaker.factory_actions),\n",
    "                          len(amaker.bid_actions),\n",
    "                             )\n",
    "\n",
    "    if config.game_load_from:\n",
    "        with open(config.game_load_from, 'rb') as in_f:\n",
    "            checkpoint = torch.load(in_f, map_location=\"cpu\")\n",
    "            policy_game.load_state_dict(checkpoint[\"model\"])\n",
    "    \n",
    "    policy_game.to(device)\n",
    "    \n",
    "    optimizer = optim.Adam(policy_game.parameters(), lr=config.lr_game, eps=EPS)  \n",
    "    scheduler = optim.lr_scheduler.ExponentialLR(optimizer, gamma=config.lr_gamma_game)\n",
    "    scaler = GradScaler()\n",
    "\n",
    "    np.set_printoptions(edgeitems=30, linewidth=100000, formatter=dict(float=lambda x: \"%.3g\" % x))\n",
    "    cw = {k:torch.as_tensor(v, dtype=torch_dtype).to(device) for k, v in class_weights.items()}\n",
    "\n",
    "    try:\n",
    "        if USE_WANDB:\n",
    "            wandb.init(project=proj_name, id=net_suffix + \"_game\", config=config)\n",
    "            wandb.watch(policy_game, log='all', log_graph=True, log_freq=1000)\n",
    "\n",
    "        for epoch in range(config.epochs_game):  # loop over the dataset multiple times\n",
    "            lr = float(scheduler.get_last_lr()[0])\n",
    "            stats = dict(lr=lr)\n",
    "            print(f\"epoch {epoch} lr {lr}\")\n",
    "            \n",
    "            # with torch.autograd.detect_anomaly():\n",
    "            stats.update(train_epoch(epoch, policy_game, optimizer, scaler, X_train_loader, cw, \"train\" ))\n",
    "\n",
    "            with torch.no_grad():\n",
    "                stats.update(eval_epoch(epoch, policy_game, X_test_loader, cw, {\"unit\": [repr(x) for x in amaker.unit_actions], \"factory\": [repr(x) for x in amaker.factory_actions]}, \"test\"))\n",
    "\n",
    "            print({k:v for k, v in stats.items() if 'report/' not in k})\n",
    "            \n",
    "            if USE_WANDB:\n",
    "                wandb.log(stats, step=epoch, commit=True)\n",
    "\n",
    "            scheduler.step()\n",
    "                \n",
    "            if True: #epoch % 5 == 0:\n",
    "                with atomic_write(os.path.join(storage_dir, f\"policy_game.{net_suffix}.{epoch}.pty\"), overwrite=True, mode='wb') as out_f:\n",
    "                    torch.save({\"model\": policy_game.state_dict(), \"optimizer\": optimizer.state_dict() }, out_f)\n",
    "\n",
    "    finally:\n",
    "        if USE_WANDB:\n",
    "            wandb.finish()\n",
    "\n",
    "            \n",
    "if config.train_game:\n",
    "    train_policy_game()"
   ]
  },
  {
   "cell_type": "code",
   "execution_count": null,
   "id": "ca5e6294",
   "metadata": {},
   "outputs": [],
   "source": [
    "gc.collect()\n",
    "torch.cuda.empty_cache()"
   ]
  },
  {
   "cell_type": "code",
   "execution_count": null,
   "id": "c3eefd47",
   "metadata": {},
   "outputs": [],
   "source": []
  },
  {
   "cell_type": "code",
   "execution_count": null,
   "id": "b235ca62",
   "metadata": {},
   "outputs": [],
   "source": [
    "# import matplotlib.pyplot as plt\n",
    "\n",
    "# @torch.no_grad()\n",
    "# def test2():\n",
    "#     ix = [ei for ei, p in enumerate(hf[\"phase\"][:]) if p == 1]\n",
    "    \n",
    "#     for s in range(20):\n",
    "#         current_step = extract_step_h5_lz4(hf, ix[s])\n",
    "#         player_id = current_step['subm_ids'].index(SUBMISSION_ID)\n",
    "#         opponent_id = 1-player_id\n",
    "#         player_name = f\"player_{player_id}\"\n",
    "#         opponent_name = f\"player_{opponent_id}\"\n",
    "#         wgs = WrappedGameState2(env.env_cfg, current_step['step'], current_step)\n",
    "#         act_f = current_step['actions']\n",
    "#         o1=fmaker.collect_features(wgs, player_name)\n",
    "#         m1=amaker.make_actions_mask(wgs, player_name)\n",
    "#         z1=amaker.inverse_actions(wgs, player_name, act_f[player_name])\n",
    "\n",
    "#         logits = policy_game.forward(o1[\"game\"].unsqueeze(0).to(device), o1[\"board\"].unsqueeze(0).to(device))\n",
    "#         logprobs = policy_game.softmax_logprob_masked(logits, {k: v.unsqueeze(0).to(device) for k, v in m1.items()})\n",
    "#         # print(logprobs)\n",
    "#         plt.figure(figsize=(12,6))\n",
    "#         ax1 = plt.subplot(1, 2, 1)\n",
    "#         ax1.imshow(logprobs[\"placement\"].detach().cpu().view((48,48)).exp().numpy())\n",
    "#         ax2 = plt.subplot(1, 2, 2)\n",
    "#         ax2.imshow(z1[\"placement\"].view((48,48)).numpy())    "
   ]
  },
  {
   "cell_type": "code",
   "execution_count": null,
   "id": "46dfeee7",
   "metadata": {},
   "outputs": [],
   "source": [
    "# test2()"
   ]
  },
  {
   "cell_type": "code",
   "execution_count": null,
   "id": "ba5272dc",
   "metadata": {},
   "outputs": [],
   "source": []
  }
 ],
 "metadata": {
  "kernelspec": {
   "display_name": "Python 3 (ipykernel)",
   "language": "python",
   "name": "python3"
  },
  "language_info": {
   "codemirror_mode": {
    "name": "ipython",
    "version": 3
   },
   "file_extension": ".py",
   "mimetype": "text/x-python",
   "name": "python",
   "nbconvert_exporter": "python",
   "pygments_lexer": "ipython3",
   "version": "3.8.10"
  }
 },
 "nbformat": 4,
 "nbformat_minor": 5
}
